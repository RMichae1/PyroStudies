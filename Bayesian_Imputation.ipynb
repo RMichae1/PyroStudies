{
  "nbformat": 4,
  "nbformat_minor": 0,
  "metadata": {
    "kernelspec": {
      "display_name": "analysis",
      "language": "python",
      "name": "analysis"
    },
    "language_info": {
      "codemirror_mode": {
        "name": "ipython",
        "version": 3
      },
      "file_extension": ".py",
      "mimetype": "text/x-python",
      "name": "python",
      "nbconvert_exporter": "python",
      "pygments_lexer": "ipython3",
      "version": "3.8.3"
    },
    "colab": {
      "name": "Bayesian_Imputation.ipynb",
      "provenance": [],
      "collapsed_sections": [],
      "include_colab_link": true
    }
  },
  "cells": [
    {
      "cell_type": "markdown",
      "metadata": {
        "id": "view-in-github",
        "colab_type": "text"
      },
      "source": [
        "<a href=\"https://colab.research.google.com/github/RMichae1/PyroStudies/blob/master/Bayesian_Imputation.ipynb\" target=\"_parent\"><img src=\"https://colab.research.google.com/assets/colab-badge.svg\" alt=\"Open In Colab\"/></a>"
      ]
    },
    {
      "cell_type": "code",
      "metadata": {
        "id": "a_J3rpm89TKs",
        "colab_type": "code",
        "colab": {
          "base_uri": "https://localhost:8080/",
          "height": 323
        },
        "outputId": "fe536b05-37d3-4285-c5cc-d0ebe5e92709"
      },
      "source": [
        "!pip install numpyro"
      ],
      "execution_count": 2,
      "outputs": [
        {
          "output_type": "stream",
          "text": [
            "Collecting numpyro\n",
            "\u001b[?25l  Downloading https://files.pythonhosted.org/packages/cc/fe/88c0176c68f6805035bf4aeee8b4a5ba83604769c1801aa477e97b33c285/numpyro-0.3.0-py3-none-any.whl (157kB)\n",
            "\u001b[K     |████████████████████████████████| 163kB 2.7MB/s \n",
            "\u001b[?25hCollecting jaxlib==0.1.51\n",
            "\u001b[?25l  Downloading https://files.pythonhosted.org/packages/8c/6f/958f7d32c7cf0ab4316dd276821cf4fb91931ef6171498701c4a01dcb7c8/jaxlib-0.1.51-cp36-none-manylinux2010_x86_64.whl (32.6MB)\n",
            "\u001b[K     |████████████████████████████████| 32.6MB 122kB/s \n",
            "\u001b[?25hRequirement already satisfied: jax==0.1.73 in /usr/local/lib/python3.6/dist-packages (from numpyro) (0.1.73)\n",
            "Requirement already satisfied: tqdm in /usr/local/lib/python3.6/dist-packages (from numpyro) (4.41.1)\n",
            "Requirement already satisfied: scipy in /usr/local/lib/python3.6/dist-packages (from jaxlib==0.1.51->numpyro) (1.4.1)\n",
            "Requirement already satisfied: numpy>=1.12 in /usr/local/lib/python3.6/dist-packages (from jaxlib==0.1.51->numpyro) (1.18.5)\n",
            "Requirement already satisfied: absl-py in /usr/local/lib/python3.6/dist-packages (from jaxlib==0.1.51->numpyro) (0.9.0)\n",
            "Requirement already satisfied: opt-einsum in /usr/local/lib/python3.6/dist-packages (from jax==0.1.73->numpyro) (3.3.0)\n",
            "Requirement already satisfied: six in /usr/local/lib/python3.6/dist-packages (from absl-py->jaxlib==0.1.51->numpyro) (1.15.0)\n",
            "Installing collected packages: jaxlib, numpyro\n",
            "  Found existing installation: jaxlib 0.1.52\n",
            "    Uninstalling jaxlib-0.1.52:\n",
            "      Successfully uninstalled jaxlib-0.1.52\n",
            "Successfully installed jaxlib-0.1.51 numpyro-0.3.0\n"
          ],
          "name": "stdout"
        }
      ]
    },
    {
      "cell_type": "code",
      "metadata": {
        "id": "bh8T6gGPceF8",
        "colab_type": "code",
        "colab": {}
      },
      "source": [
        "import numpy as np\n",
        "from numpy.random import random as np_random\n",
        "import pandas as pd\n",
        "\n",
        "import seaborn as sns\n",
        "import matplotlib.pyplot as plt\n",
        "\n",
        "from sklearn import datasets\n",
        "\n",
        "import numpyro\n",
        "import numpyro.distributions as dist\n",
        "from numpyro.infer import MCMC, NUTS, Predictive\n",
        "\n",
        "from jax import ops, random\n",
        "from jax.scipy.special import expit\n",
        "import jax.numpy as jnp\n",
        "from numpyro.diagnostics import hpdi"
      ],
      "execution_count": 3,
      "outputs": []
    },
    {
      "cell_type": "code",
      "metadata": {
        "id": "RpNlfFoNceGA",
        "colab_type": "code",
        "colab": {}
      },
      "source": [
        "iris_data = datasets.load_iris() "
      ],
      "execution_count": 4,
      "outputs": []
    },
    {
      "cell_type": "code",
      "metadata": {
        "id": "Fu4JT6IQceGD",
        "colab_type": "code",
        "colab": {
          "base_uri": "https://localhost:8080/",
          "height": 419
        },
        "outputId": "309c6be6-897b-49ee-bc80-87786d2fddec"
      },
      "source": [
        "iris_df = pd.DataFrame(data=np.c_[iris_data['data'], iris_data['target']],\n",
        "                      columns=iris_data['feature_names'] + ['target'])\n",
        "iris_df"
      ],
      "execution_count": 5,
      "outputs": [
        {
          "output_type": "execute_result",
          "data": {
            "text/html": [
              "<div>\n",
              "<style scoped>\n",
              "    .dataframe tbody tr th:only-of-type {\n",
              "        vertical-align: middle;\n",
              "    }\n",
              "\n",
              "    .dataframe tbody tr th {\n",
              "        vertical-align: top;\n",
              "    }\n",
              "\n",
              "    .dataframe thead th {\n",
              "        text-align: right;\n",
              "    }\n",
              "</style>\n",
              "<table border=\"1\" class=\"dataframe\">\n",
              "  <thead>\n",
              "    <tr style=\"text-align: right;\">\n",
              "      <th></th>\n",
              "      <th>sepal length (cm)</th>\n",
              "      <th>sepal width (cm)</th>\n",
              "      <th>petal length (cm)</th>\n",
              "      <th>petal width (cm)</th>\n",
              "      <th>target</th>\n",
              "    </tr>\n",
              "  </thead>\n",
              "  <tbody>\n",
              "    <tr>\n",
              "      <th>0</th>\n",
              "      <td>5.1</td>\n",
              "      <td>3.5</td>\n",
              "      <td>1.4</td>\n",
              "      <td>0.2</td>\n",
              "      <td>0.0</td>\n",
              "    </tr>\n",
              "    <tr>\n",
              "      <th>1</th>\n",
              "      <td>4.9</td>\n",
              "      <td>3.0</td>\n",
              "      <td>1.4</td>\n",
              "      <td>0.2</td>\n",
              "      <td>0.0</td>\n",
              "    </tr>\n",
              "    <tr>\n",
              "      <th>2</th>\n",
              "      <td>4.7</td>\n",
              "      <td>3.2</td>\n",
              "      <td>1.3</td>\n",
              "      <td>0.2</td>\n",
              "      <td>0.0</td>\n",
              "    </tr>\n",
              "    <tr>\n",
              "      <th>3</th>\n",
              "      <td>4.6</td>\n",
              "      <td>3.1</td>\n",
              "      <td>1.5</td>\n",
              "      <td>0.2</td>\n",
              "      <td>0.0</td>\n",
              "    </tr>\n",
              "    <tr>\n",
              "      <th>4</th>\n",
              "      <td>5.0</td>\n",
              "      <td>3.6</td>\n",
              "      <td>1.4</td>\n",
              "      <td>0.2</td>\n",
              "      <td>0.0</td>\n",
              "    </tr>\n",
              "    <tr>\n",
              "      <th>...</th>\n",
              "      <td>...</td>\n",
              "      <td>...</td>\n",
              "      <td>...</td>\n",
              "      <td>...</td>\n",
              "      <td>...</td>\n",
              "    </tr>\n",
              "    <tr>\n",
              "      <th>145</th>\n",
              "      <td>6.7</td>\n",
              "      <td>3.0</td>\n",
              "      <td>5.2</td>\n",
              "      <td>2.3</td>\n",
              "      <td>2.0</td>\n",
              "    </tr>\n",
              "    <tr>\n",
              "      <th>146</th>\n",
              "      <td>6.3</td>\n",
              "      <td>2.5</td>\n",
              "      <td>5.0</td>\n",
              "      <td>1.9</td>\n",
              "      <td>2.0</td>\n",
              "    </tr>\n",
              "    <tr>\n",
              "      <th>147</th>\n",
              "      <td>6.5</td>\n",
              "      <td>3.0</td>\n",
              "      <td>5.2</td>\n",
              "      <td>2.0</td>\n",
              "      <td>2.0</td>\n",
              "    </tr>\n",
              "    <tr>\n",
              "      <th>148</th>\n",
              "      <td>6.2</td>\n",
              "      <td>3.4</td>\n",
              "      <td>5.4</td>\n",
              "      <td>2.3</td>\n",
              "      <td>2.0</td>\n",
              "    </tr>\n",
              "    <tr>\n",
              "      <th>149</th>\n",
              "      <td>5.9</td>\n",
              "      <td>3.0</td>\n",
              "      <td>5.1</td>\n",
              "      <td>1.8</td>\n",
              "      <td>2.0</td>\n",
              "    </tr>\n",
              "  </tbody>\n",
              "</table>\n",
              "<p>150 rows × 5 columns</p>\n",
              "</div>"
            ],
            "text/plain": [
              "     sepal length (cm)  sepal width (cm)  ...  petal width (cm)  target\n",
              "0                  5.1               3.5  ...               0.2     0.0\n",
              "1                  4.9               3.0  ...               0.2     0.0\n",
              "2                  4.7               3.2  ...               0.2     0.0\n",
              "3                  4.6               3.1  ...               0.2     0.0\n",
              "4                  5.0               3.6  ...               0.2     0.0\n",
              "..                 ...               ...  ...               ...     ...\n",
              "145                6.7               3.0  ...               2.3     2.0\n",
              "146                6.3               2.5  ...               1.9     2.0\n",
              "147                6.5               3.0  ...               2.0     2.0\n",
              "148                6.2               3.4  ...               2.3     2.0\n",
              "149                5.9               3.0  ...               1.8     2.0\n",
              "\n",
              "[150 rows x 5 columns]"
            ]
          },
          "metadata": {
            "tags": []
          },
          "execution_count": 5
        }
      ]
    },
    {
      "cell_type": "code",
      "metadata": {
        "id": "4mhmigTkceGG",
        "colab_type": "code",
        "colab": {
          "base_uri": "https://localhost:8080/",
          "height": 419
        },
        "outputId": "65dda7c6-0941-4221-8337-95a7ad96a4fd"
      },
      "source": [
        "iris_df[\"target\"] = iris_df.target.astype(\"int\")\n",
        "# select 2 species for ease of use\n",
        "iris_df = iris_df[iris_df.target.isin([0, 1])]\n",
        "iris_df"
      ],
      "execution_count": 6,
      "outputs": [
        {
          "output_type": "execute_result",
          "data": {
            "text/html": [
              "<div>\n",
              "<style scoped>\n",
              "    .dataframe tbody tr th:only-of-type {\n",
              "        vertical-align: middle;\n",
              "    }\n",
              "\n",
              "    .dataframe tbody tr th {\n",
              "        vertical-align: top;\n",
              "    }\n",
              "\n",
              "    .dataframe thead th {\n",
              "        text-align: right;\n",
              "    }\n",
              "</style>\n",
              "<table border=\"1\" class=\"dataframe\">\n",
              "  <thead>\n",
              "    <tr style=\"text-align: right;\">\n",
              "      <th></th>\n",
              "      <th>sepal length (cm)</th>\n",
              "      <th>sepal width (cm)</th>\n",
              "      <th>petal length (cm)</th>\n",
              "      <th>petal width (cm)</th>\n",
              "      <th>target</th>\n",
              "    </tr>\n",
              "  </thead>\n",
              "  <tbody>\n",
              "    <tr>\n",
              "      <th>0</th>\n",
              "      <td>5.1</td>\n",
              "      <td>3.5</td>\n",
              "      <td>1.4</td>\n",
              "      <td>0.2</td>\n",
              "      <td>0</td>\n",
              "    </tr>\n",
              "    <tr>\n",
              "      <th>1</th>\n",
              "      <td>4.9</td>\n",
              "      <td>3.0</td>\n",
              "      <td>1.4</td>\n",
              "      <td>0.2</td>\n",
              "      <td>0</td>\n",
              "    </tr>\n",
              "    <tr>\n",
              "      <th>2</th>\n",
              "      <td>4.7</td>\n",
              "      <td>3.2</td>\n",
              "      <td>1.3</td>\n",
              "      <td>0.2</td>\n",
              "      <td>0</td>\n",
              "    </tr>\n",
              "    <tr>\n",
              "      <th>3</th>\n",
              "      <td>4.6</td>\n",
              "      <td>3.1</td>\n",
              "      <td>1.5</td>\n",
              "      <td>0.2</td>\n",
              "      <td>0</td>\n",
              "    </tr>\n",
              "    <tr>\n",
              "      <th>4</th>\n",
              "      <td>5.0</td>\n",
              "      <td>3.6</td>\n",
              "      <td>1.4</td>\n",
              "      <td>0.2</td>\n",
              "      <td>0</td>\n",
              "    </tr>\n",
              "    <tr>\n",
              "      <th>...</th>\n",
              "      <td>...</td>\n",
              "      <td>...</td>\n",
              "      <td>...</td>\n",
              "      <td>...</td>\n",
              "      <td>...</td>\n",
              "    </tr>\n",
              "    <tr>\n",
              "      <th>95</th>\n",
              "      <td>5.7</td>\n",
              "      <td>3.0</td>\n",
              "      <td>4.2</td>\n",
              "      <td>1.2</td>\n",
              "      <td>1</td>\n",
              "    </tr>\n",
              "    <tr>\n",
              "      <th>96</th>\n",
              "      <td>5.7</td>\n",
              "      <td>2.9</td>\n",
              "      <td>4.2</td>\n",
              "      <td>1.3</td>\n",
              "      <td>1</td>\n",
              "    </tr>\n",
              "    <tr>\n",
              "      <th>97</th>\n",
              "      <td>6.2</td>\n",
              "      <td>2.9</td>\n",
              "      <td>4.3</td>\n",
              "      <td>1.3</td>\n",
              "      <td>1</td>\n",
              "    </tr>\n",
              "    <tr>\n",
              "      <th>98</th>\n",
              "      <td>5.1</td>\n",
              "      <td>2.5</td>\n",
              "      <td>3.0</td>\n",
              "      <td>1.1</td>\n",
              "      <td>1</td>\n",
              "    </tr>\n",
              "    <tr>\n",
              "      <th>99</th>\n",
              "      <td>5.7</td>\n",
              "      <td>2.8</td>\n",
              "      <td>4.1</td>\n",
              "      <td>1.3</td>\n",
              "      <td>1</td>\n",
              "    </tr>\n",
              "  </tbody>\n",
              "</table>\n",
              "<p>100 rows × 5 columns</p>\n",
              "</div>"
            ],
            "text/plain": [
              "    sepal length (cm)  sepal width (cm)  ...  petal width (cm)  target\n",
              "0                 5.1               3.5  ...               0.2       0\n",
              "1                 4.9               3.0  ...               0.2       0\n",
              "2                 4.7               3.2  ...               0.2       0\n",
              "3                 4.6               3.1  ...               0.2       0\n",
              "4                 5.0               3.6  ...               0.2       0\n",
              "..                ...               ...  ...               ...     ...\n",
              "95                5.7               3.0  ...               1.2       1\n",
              "96                5.7               2.9  ...               1.3       1\n",
              "97                6.2               2.9  ...               1.3       1\n",
              "98                5.1               2.5  ...               1.1       1\n",
              "99                5.7               2.8  ...               1.3       1\n",
              "\n",
              "[100 rows x 5 columns]"
            ]
          },
          "metadata": {
            "tags": []
          },
          "execution_count": 6
        }
      ]
    },
    {
      "cell_type": "code",
      "metadata": {
        "id": "_R6oQTI-ceGJ",
        "colab_type": "code",
        "colab": {
          "base_uri": "https://localhost:8080/",
          "height": 521
        },
        "outputId": "baeae0d6-af1c-4e95-9978-1f3af9112d06"
      },
      "source": [
        "random_vec = np_random(iris_df[\"petal length (cm)\"].shape)<0.5\n",
        "iris_df[\"petal length (cm)\"] = iris_df[\"petal length (cm)\"].where(random_vec, \n",
        "                                                                  other=np.nan)\n",
        "iris_df"
      ],
      "execution_count": 7,
      "outputs": [
        {
          "output_type": "stream",
          "text": [
            "/usr/local/lib/python3.6/dist-packages/ipykernel_launcher.py:3: SettingWithCopyWarning: \n",
            "A value is trying to be set on a copy of a slice from a DataFrame.\n",
            "Try using .loc[row_indexer,col_indexer] = value instead\n",
            "\n",
            "See the caveats in the documentation: https://pandas.pydata.org/pandas-docs/stable/user_guide/indexing.html#returning-a-view-versus-a-copy\n",
            "  This is separate from the ipykernel package so we can avoid doing imports until\n"
          ],
          "name": "stderr"
        },
        {
          "output_type": "execute_result",
          "data": {
            "text/html": [
              "<div>\n",
              "<style scoped>\n",
              "    .dataframe tbody tr th:only-of-type {\n",
              "        vertical-align: middle;\n",
              "    }\n",
              "\n",
              "    .dataframe tbody tr th {\n",
              "        vertical-align: top;\n",
              "    }\n",
              "\n",
              "    .dataframe thead th {\n",
              "        text-align: right;\n",
              "    }\n",
              "</style>\n",
              "<table border=\"1\" class=\"dataframe\">\n",
              "  <thead>\n",
              "    <tr style=\"text-align: right;\">\n",
              "      <th></th>\n",
              "      <th>sepal length (cm)</th>\n",
              "      <th>sepal width (cm)</th>\n",
              "      <th>petal length (cm)</th>\n",
              "      <th>petal width (cm)</th>\n",
              "      <th>target</th>\n",
              "    </tr>\n",
              "  </thead>\n",
              "  <tbody>\n",
              "    <tr>\n",
              "      <th>0</th>\n",
              "      <td>5.1</td>\n",
              "      <td>3.5</td>\n",
              "      <td>1.4</td>\n",
              "      <td>0.2</td>\n",
              "      <td>0</td>\n",
              "    </tr>\n",
              "    <tr>\n",
              "      <th>1</th>\n",
              "      <td>4.9</td>\n",
              "      <td>3.0</td>\n",
              "      <td>1.4</td>\n",
              "      <td>0.2</td>\n",
              "      <td>0</td>\n",
              "    </tr>\n",
              "    <tr>\n",
              "      <th>2</th>\n",
              "      <td>4.7</td>\n",
              "      <td>3.2</td>\n",
              "      <td>NaN</td>\n",
              "      <td>0.2</td>\n",
              "      <td>0</td>\n",
              "    </tr>\n",
              "    <tr>\n",
              "      <th>3</th>\n",
              "      <td>4.6</td>\n",
              "      <td>3.1</td>\n",
              "      <td>1.5</td>\n",
              "      <td>0.2</td>\n",
              "      <td>0</td>\n",
              "    </tr>\n",
              "    <tr>\n",
              "      <th>4</th>\n",
              "      <td>5.0</td>\n",
              "      <td>3.6</td>\n",
              "      <td>1.4</td>\n",
              "      <td>0.2</td>\n",
              "      <td>0</td>\n",
              "    </tr>\n",
              "    <tr>\n",
              "      <th>...</th>\n",
              "      <td>...</td>\n",
              "      <td>...</td>\n",
              "      <td>...</td>\n",
              "      <td>...</td>\n",
              "      <td>...</td>\n",
              "    </tr>\n",
              "    <tr>\n",
              "      <th>95</th>\n",
              "      <td>5.7</td>\n",
              "      <td>3.0</td>\n",
              "      <td>4.2</td>\n",
              "      <td>1.2</td>\n",
              "      <td>1</td>\n",
              "    </tr>\n",
              "    <tr>\n",
              "      <th>96</th>\n",
              "      <td>5.7</td>\n",
              "      <td>2.9</td>\n",
              "      <td>NaN</td>\n",
              "      <td>1.3</td>\n",
              "      <td>1</td>\n",
              "    </tr>\n",
              "    <tr>\n",
              "      <th>97</th>\n",
              "      <td>6.2</td>\n",
              "      <td>2.9</td>\n",
              "      <td>4.3</td>\n",
              "      <td>1.3</td>\n",
              "      <td>1</td>\n",
              "    </tr>\n",
              "    <tr>\n",
              "      <th>98</th>\n",
              "      <td>5.1</td>\n",
              "      <td>2.5</td>\n",
              "      <td>3.0</td>\n",
              "      <td>1.1</td>\n",
              "      <td>1</td>\n",
              "    </tr>\n",
              "    <tr>\n",
              "      <th>99</th>\n",
              "      <td>5.7</td>\n",
              "      <td>2.8</td>\n",
              "      <td>4.1</td>\n",
              "      <td>1.3</td>\n",
              "      <td>1</td>\n",
              "    </tr>\n",
              "  </tbody>\n",
              "</table>\n",
              "<p>100 rows × 5 columns</p>\n",
              "</div>"
            ],
            "text/plain": [
              "    sepal length (cm)  sepal width (cm)  ...  petal width (cm)  target\n",
              "0                 5.1               3.5  ...               0.2       0\n",
              "1                 4.9               3.0  ...               0.2       0\n",
              "2                 4.7               3.2  ...               0.2       0\n",
              "3                 4.6               3.1  ...               0.2       0\n",
              "4                 5.0               3.6  ...               0.2       0\n",
              "..                ...               ...  ...               ...     ...\n",
              "95                5.7               3.0  ...               1.2       1\n",
              "96                5.7               2.9  ...               1.3       1\n",
              "97                6.2               2.9  ...               1.3       1\n",
              "98                5.1               2.5  ...               1.1       1\n",
              "99                5.7               2.8  ...               1.3       1\n",
              "\n",
              "[100 rows x 5 columns]"
            ]
          },
          "metadata": {
            "tags": []
          },
          "execution_count": 7
        }
      ]
    },
    {
      "cell_type": "code",
      "metadata": {
        "id": "Iy3nNQIefRHl",
        "colab_type": "code",
        "colab": {
          "base_uri": "https://localhost:8080/",
          "height": 299
        },
        "outputId": "6a6b7446-8aab-493c-a30c-7140ec37084a"
      },
      "source": [
        "sns.regplot(\"sepal length (cm)\", \"sepal width (cm)\", iris_df)"
      ],
      "execution_count": 8,
      "outputs": [
        {
          "output_type": "execute_result",
          "data": {
            "text/plain": [
              "<matplotlib.axes._subplots.AxesSubplot at 0x7f46b6ea7eb8>"
            ]
          },
          "metadata": {
            "tags": []
          },
          "execution_count": 8
        },
        {
          "output_type": "display_data",
          "data": {
            "image/png": "[encoded data removed]",
            "text/plain": [
              "<Figure size 432x288 with 1 Axes>"
            ]
          },
          "metadata": {
            "tags": [],
            "needs_background": "light"
          }
        }
      ]
    },
    {
      "cell_type": "code",
      "metadata": {
        "id": "rTGI8YtKfhCl",
        "colab_type": "code",
        "colab": {
          "base_uri": "https://localhost:8080/",
          "height": 225
        },
        "outputId": "767bb7bb-257b-42fc-bb30-6760a2795128"
      },
      "source": [
        "t = sns.FacetGrid(iris_df, col=\"target\")\n",
        "t.map(plt.scatter, \"petal length (cm)\", \"petal width (cm)\", color=\"darkred\")\n",
        "plt.savefig(\"./lr_lw.png\")"
      ],
      "execution_count": 9,
      "outputs": [
        {
          "output_type": "display_data",
          "data": {
            "image/png": "[encoded data removed]",
            "text/plain": [
              "<Figure size 432x216 with 2 Axes>"
            ]
          },
          "metadata": {
            "tags": [],
            "needs_background": "light"
          }
        }
      ]
    },
    {
      "cell_type": "code",
      "metadata": {
        "id": "Pdzsabf5gFd4",
        "colab_type": "code",
        "colab": {
          "base_uri": "https://localhost:8080/",
          "height": 295
        },
        "outputId": "531bedc0-146d-4f02-b00d-3791a8782304"
      },
      "source": [
        "sns.regplot(\"petal length (cm)\", \"target\", color=\"darkred\", data=iris_df)\n",
        "plt.title(\"Lin. Regression petal length v/ category\")\n",
        "plt.savefig(\"./lr_target_p_len.png\")"
      ],
      "execution_count": 10,
      "outputs": [
        {
          "output_type": "display_data",
          "data": {
            "image/png": "[encoded data removed]",
            "text/plain": [
              "<Figure size 432x288 with 1 Axes>"
            ]
          },
          "metadata": {
            "tags": [],
            "needs_background": "light"
          }
        }
      ]
    },
    {
      "cell_type": "code",
      "metadata": {
        "id": "BzpUCGtfceGM",
        "colab_type": "code",
        "colab": {
          "base_uri": "https://localhost:8080/",
          "height": 646
        },
        "outputId": "baff1067-ac61-4ff5-f5ec-b3a1f2f2c70a"
      },
      "source": [
        "iris_data=dict(s_len=iris_df[\"sepal length (cm)\"].values,\n",
        "              s_width=iris_df[\"sepal width (cm)\"].values,\n",
        "              p_len=iris_df[\"petal length (cm)\"].values,\n",
        "              p_width=iris_df[\"petal width (cm)\"].values,\n",
        "              target=iris_df.target.values)\n",
        "iris_data"
      ],
      "execution_count": 11,
      "outputs": [
        {
          "output_type": "execute_result",
          "data": {
            "text/plain": [
              "{'p_len': array([1.4, 1.4, nan, 1.5, 1.4, nan, 1.4, nan, nan, 1.5, 1.5, 1.6, nan,\n",
              "        nan, nan, 1.5, 1.3, 1.4, nan, nan, 1.7, nan, 1. , nan, nan, nan,\n",
              "        nan, nan, nan, 1.6, nan, 1.5, nan, nan, nan, 1.2, 1.3, nan, 1.3,\n",
              "        nan, 1.3, 1.3, nan, 1.6, 1.9, nan, 1.6, 1.4, 1.5, 1.4, nan, 4.5,\n",
              "        nan, nan, nan, 4.5, 4.7, 3.3, nan, nan, 3.5, nan, nan, 4.7, nan,\n",
              "        4.4, nan, 4.1, nan, 3.9, 4.8, 4. , 4.9, nan, nan, 4.4, nan, 5. ,\n",
              "        4.5, nan, 3.8, 3.7, nan, nan, nan, 4.5, nan, nan, nan, 4. , 4.4,\n",
              "        nan, 4. , 3.3, nan, 4.2, nan, 4.3, 3. , 4.1]),\n",
              " 'p_width': array([0.2, 0.2, 0.2, 0.2, 0.2, 0.4, 0.3, 0.2, 0.2, 0.1, 0.2, 0.2, 0.1,\n",
              "        0.1, 0.2, 0.4, 0.4, 0.3, 0.3, 0.3, 0.2, 0.4, 0.2, 0.5, 0.2, 0.2,\n",
              "        0.4, 0.2, 0.2, 0.2, 0.2, 0.4, 0.1, 0.2, 0.2, 0.2, 0.2, 0.1, 0.2,\n",
              "        0.2, 0.3, 0.3, 0.2, 0.6, 0.4, 0.3, 0.2, 0.2, 0.2, 0.2, 1.4, 1.5,\n",
              "        1.5, 1.3, 1.5, 1.3, 1.6, 1. , 1.3, 1.4, 1. , 1.5, 1. , 1.4, 1.3,\n",
              "        1.4, 1.5, 1. , 1.5, 1.1, 1.8, 1.3, 1.5, 1.2, 1.3, 1.4, 1.4, 1.7,\n",
              "        1.5, 1. , 1.1, 1. , 1.2, 1.6, 1.5, 1.6, 1.5, 1.3, 1.3, 1.3, 1.2,\n",
              "        1.4, 1.2, 1. , 1.3, 1.2, 1.3, 1.3, 1.1, 1.3]),\n",
              " 's_len': array([5.1, 4.9, 4.7, 4.6, 5. , 5.4, 4.6, 5. , 4.4, 4.9, 5.4, 4.8, 4.8,\n",
              "        4.3, 5.8, 5.7, 5.4, 5.1, 5.7, 5.1, 5.4, 5.1, 4.6, 5.1, 4.8, 5. ,\n",
              "        5. , 5.2, 5.2, 4.7, 4.8, 5.4, 5.2, 5.5, 4.9, 5. , 5.5, 4.9, 4.4,\n",
              "        5.1, 5. , 4.5, 4.4, 5. , 5.1, 4.8, 5.1, 4.6, 5.3, 5. , 7. , 6.4,\n",
              "        6.9, 5.5, 6.5, 5.7, 6.3, 4.9, 6.6, 5.2, 5. , 5.9, 6. , 6.1, 5.6,\n",
              "        6.7, 5.6, 5.8, 6.2, 5.6, 5.9, 6.1, 6.3, 6.1, 6.4, 6.6, 6.8, 6.7,\n",
              "        6. , 5.7, 5.5, 5.5, 5.8, 6. , 5.4, 6. , 6.7, 6.3, 5.6, 5.5, 5.5,\n",
              "        6.1, 5.8, 5. , 5.6, 5.7, 5.7, 6.2, 5.1, 5.7]),\n",
              " 's_width': array([3.5, 3. , 3.2, 3.1, 3.6, 3.9, 3.4, 3.4, 2.9, 3.1, 3.7, 3.4, 3. ,\n",
              "        3. , 4. , 4.4, 3.9, 3.5, 3.8, 3.8, 3.4, 3.7, 3.6, 3.3, 3.4, 3. ,\n",
              "        3.4, 3.5, 3.4, 3.2, 3.1, 3.4, 4.1, 4.2, 3.1, 3.2, 3.5, 3.6, 3. ,\n",
              "        3.4, 3.5, 2.3, 3.2, 3.5, 3.8, 3. , 3.8, 3.2, 3.7, 3.3, 3.2, 3.2,\n",
              "        3.1, 2.3, 2.8, 2.8, 3.3, 2.4, 2.9, 2.7, 2. , 3. , 2.2, 2.9, 2.9,\n",
              "        3.1, 3. , 2.7, 2.2, 2.5, 3.2, 2.8, 2.5, 2.8, 2.9, 3. , 2.8, 3. ,\n",
              "        2.9, 2.6, 2.4, 2.4, 2.7, 2.7, 3. , 3.4, 3.1, 2.3, 3. , 2.5, 2.6,\n",
              "        3. , 2.6, 2.3, 2.7, 3. , 2.9, 2.9, 2.5, 2.8]),\n",
              " 'target': array([0, 0, 0, 0, 0, 0, 0, 0, 0, 0, 0, 0, 0, 0, 0, 0, 0, 0, 0, 0, 0, 0,\n",
              "        0, 0, 0, 0, 0, 0, 0, 0, 0, 0, 0, 0, 0, 0, 0, 0, 0, 0, 0, 0, 0, 0,\n",
              "        0, 0, 0, 0, 0, 0, 1, 1, 1, 1, 1, 1, 1, 1, 1, 1, 1, 1, 1, 1, 1, 1,\n",
              "        1, 1, 1, 1, 1, 1, 1, 1, 1, 1, 1, 1, 1, 1, 1, 1, 1, 1, 1, 1, 1, 1,\n",
              "        1, 1, 1, 1, 1, 1, 1, 1, 1, 1, 1, 1])}"
            ]
          },
          "metadata": {
            "tags": []
          },
          "execution_count": 11
        }
      ]
    },
    {
      "cell_type": "code",
      "metadata": {
        "id": "Aj4CdHgiceGP",
        "colab_type": "code",
        "colab": {
          "base_uri": "https://localhost:8080/",
          "height": 51
        },
        "outputId": "60426139-bd74-4c32-bca4-cf3322c60e97"
      },
      "source": [
        "print(\"Petal Length μ = {}\".format(iris_df[\"petal length (cm)\"].mean()))\n",
        "print(\"Petal Length σ^2 = {}\".format(iris_df[\"petal length (cm)\"].std()))"
      ],
      "execution_count": 12,
      "outputs": [
        {
          "output_type": "stream",
          "text": [
            "Petal Length μ = 2.8076923076923084\n",
            "Petal Length σ^2 = 1.4304594289873738\n"
          ],
          "name": "stdout"
        }
      ]
    },
    {
      "cell_type": "code",
      "metadata": {
        "id": "vjOi4z0vceGS",
        "colab_type": "code",
        "colab": {
          "base_uri": "https://localhost:8080/",
          "height": 85
        },
        "outputId": "f965a7df-e675-48f8-9a11-b9568b96849b"
      },
      "source": [
        "p_len = iris_df[\"petal length (cm)\"]\n",
        "print(\"Amount missing: {}\".format(len(np.array(np.isnan(p_len).astype(int)).nonzero()[0])))\n",
        "np.array(np.isnan(p_len).astype(int)).nonzero()[0]"
      ],
      "execution_count": 13,
      "outputs": [
        {
          "output_type": "stream",
          "text": [
            "Amount missing: 48\n"
          ],
          "name": "stdout"
        },
        {
          "output_type": "execute_result",
          "data": {
            "text/plain": [
              "array([ 2,  5,  7,  8, 12, 13, 14, 18, 19, 21, 23, 24, 25, 26, 27, 28, 30,\n",
              "       32, 33, 34, 37, 39, 42, 45, 50, 52, 53, 54, 58, 59, 61, 62, 64, 66,\n",
              "       68, 73, 74, 76, 79, 82, 83, 84, 86, 87, 88, 91, 94, 96])"
            ]
          },
          "metadata": {
            "tags": []
          },
          "execution_count": 13
        }
      ]
    },
    {
      "cell_type": "code",
      "metadata": {
        "id": "Wby5MIqoceGU",
        "colab_type": "code",
        "colab": {}
      },
      "source": [
        "def model(s_len, s_width, p_len, p_width, target=None):\n",
        "    b_s_len = numpyro.sample(\"b_s_len\", dist.Normal(0,1))\n",
        "    b_s_width = numpyro.sample(\"b_s_width\", dist.Normal(0,1))\n",
        "    b_p_width = numpyro.sample(\"b_p_width\", dist.Normal(0,1))\n",
        "    \n",
        "    # impute length\n",
        "    len_mu = numpyro.sample(\"p_length_mu\", dist.Normal(3, 0.02))\n",
        "    len_sigma = abs(numpyro.sample(\"p_length_sigma\", dist.Normal(1, 0.02)))\n",
        "    len_is_nan = np.isnan(p_len)\n",
        "    len_nan_idx = np.array(np.isnan(p_len).astype(int)).nonzero()[0]\n",
        "\n",
        "    len_impute = numpyro.sample(\"len_impute\", \n",
        "                                dist.Normal(len_mu, len_sigma).expand([len(len_nan_idx)]).mask(False))\n",
        "\n",
        "    p_len = ops.index_update(p_len, len_nan_idx, len_impute)\n",
        "    \n",
        "    numpyro.sample(\"p_length\", dist.Normal(len_mu, len_sigma), obs=p_len)\n",
        "    \n",
        "    l = numpyro.sample(\"l\", dist.Normal(0, 1))\n",
        "    b_len = numpyro.sample(\"b_length\", dist.Normal(0, 1))\n",
        "    logits = l + b_len * p_len\n",
        "    \n",
        "    logits = logits + b_s_len*s_len + b_s_width*s_width + b_p_width*p_width\n",
        "    \n",
        "    if target is None:\n",
        "        # prediction case\n",
        "        probs = expit(logits)\n",
        "        numpyro.sample(\"probs\", dist.Delta(probs))\n",
        "\n",
        "    numpyro.sample(\"target\", dist.Bernoulli(logits=logits), obs=target)"
      ],
      "execution_count": 26,
      "outputs": []
    },
    {
      "cell_type": "code",
      "metadata": {
        "id": "Ib7WF4nMceGZ",
        "colab_type": "code",
        "colab": {
          "base_uri": "https://localhost:8080/",
          "height": 1000
        },
        "outputId": "0d2b158f-495d-4217-dc82-e64d7cdd336b"
      },
      "source": [
        "mcmc = MCMC(NUTS(model=model), 5000, 10000, num_chains=1)\n",
        "mcmc.run(random.PRNGKey(42), **iris_data)\n",
        "\n",
        "mcmc.print_summary()"
      ],
      "execution_count": 27,
      "outputs": [
        {
          "output_type": "stream",
          "text": [
            "\r  0%|          | 0/15000 [00:00<?, ?it/s]"
          ],
          "name": "stderr"
        },
        {
          "output_type": "stream",
          "text": [
            "100\n",
            "100\n",
            "100\n"
          ],
          "name": "stdout"
        },
        {
          "output_type": "stream",
          "text": [
            "sample: 100%|██████████| 15000/15000 [00:42<00:00, 357.03it/s, 31 steps of size 1.00e-01. acc. prob=0.96]\n"
          ],
          "name": "stderr"
        },
        {
          "output_type": "stream",
          "text": [
            "\n",
            "                      mean       std    median      5.0%     95.0%     n_eff     r_hat\n",
            "        b_length      0.54      0.38      0.54     -0.08      1.16   7474.56      1.00\n",
            "       b_p_width      2.95      0.75      2.94      1.67      4.13   6852.23      1.00\n",
            "         b_s_len      0.80      0.46      0.81      0.04      1.54   4497.69      1.00\n",
            "       b_s_width     -2.54      0.65     -2.53     -3.62     -1.45   5578.07      1.00\n",
            "               l     -0.39      0.97     -0.38     -2.00      1.18   8644.92      1.00\n",
            "   len_impute[0]      2.93      1.00      2.92      1.30      4.59  11315.60      1.00\n",
            "   len_impute[1]      2.97      1.01      2.96      1.35      4.67  10256.45      1.00\n",
            "   len_impute[2]      2.92      1.00      2.92      1.38      4.63  10057.78      1.00\n",
            "   len_impute[3]      2.89      0.98      2.89      1.27      4.50   9931.29      1.00\n",
            "   len_impute[4]      2.91      0.99      2.93      1.27      4.50  10639.56      1.00\n",
            "   len_impute[5]      2.95      1.00      2.94      1.24      4.57  10699.35      1.00\n",
            "   len_impute[6]      2.98      1.01      2.97      1.29      4.61  10872.12      1.00\n",
            "   len_impute[7]      2.94      1.01      2.93      1.24      4.58   9518.02      1.00\n",
            "   len_impute[8]      2.96      1.02      2.96      1.34      4.65  11447.87      1.00\n",
            "   len_impute[9]      2.95      1.00      2.95      1.30      4.59  10968.29      1.00\n",
            "  len_impute[10]      2.88      1.01      2.89      1.26      4.56  10822.29      1.00\n",
            "  len_impute[11]      2.95      1.02      2.95      1.27      4.63  11952.92      1.00\n",
            "  len_impute[12]      2.90      1.01      2.89      1.26      4.56  10829.27      1.00\n",
            "  len_impute[13]      2.93      1.00      2.93      1.28      4.53   9904.32      1.00\n",
            "  len_impute[14]      2.95      1.01      2.94      1.28      4.57  11413.61      1.00\n",
            "  len_impute[15]      2.95      1.00      2.96      1.37      4.64  10649.78      1.00\n",
            "  len_impute[16]      2.93      0.99      2.93      1.31      4.52   8609.31      1.00\n",
            "  len_impute[17]      2.99      1.01      2.98      1.33      4.65  10543.73      1.00\n",
            "  len_impute[18]      2.99      1.01      3.01      1.31      4.65  10548.89      1.00\n",
            "  len_impute[19]      2.93      0.99      2.93      1.33      4.54  10458.54      1.00\n",
            "  len_impute[20]      2.96      1.03      2.97      1.31      4.69   9988.19      1.00\n",
            "  len_impute[21]      2.94      1.00      2.94      1.31      4.59  11117.75      1.00\n",
            "  len_impute[22]      2.94      1.01      2.95      1.27      4.58  10766.98      1.00\n",
            "  len_impute[23]      2.90      1.00      2.90      1.26      4.51  11089.95      1.00\n",
            "  len_impute[24]      3.05      1.01      3.05      1.39      4.72  11984.76      1.00\n",
            "  len_impute[25]      3.03      1.02      3.02      1.34      4.71  10686.38      1.00\n",
            "  len_impute[26]      3.01      1.00      3.00      1.34      4.63  10864.13      1.00\n",
            "  len_impute[27]      3.01      1.00      3.01      1.34      4.60  11420.66      1.00\n",
            "  len_impute[28]      3.04      1.02      3.05      1.42      4.74  10518.83      1.00\n",
            "  len_impute[29]      3.05      1.00      3.03      1.43      4.71  10886.62      1.00\n",
            "  len_impute[30]      3.05      1.00      3.03      1.41      4.66  10201.26      1.00\n",
            "  len_impute[31]      3.04      1.02      3.02      1.40      4.71  10839.79      1.00\n",
            "  len_impute[32]      3.07      1.00      3.06      1.39      4.70  10085.96      1.00\n",
            "  len_impute[33]      3.05      0.99      3.05      1.43      4.68  10307.28      1.00\n",
            "  len_impute[34]      2.99      1.02      3.00      1.39      4.77  11033.56      1.00\n",
            "  len_impute[35]      3.03      1.00      3.03      1.47      4.72  10868.89      1.00\n",
            "  len_impute[36]      3.03      1.00      3.03      1.39      4.69  10151.69      1.00\n",
            "  len_impute[37]      3.03      1.02      3.02      1.36      4.69  10276.51      1.00\n",
            "  len_impute[38]      3.06      1.00      3.07      1.51      4.79  10594.65      1.00\n",
            "  len_impute[39]      3.04      1.01      3.04      1.46      4.76   8980.03      1.00\n",
            "  len_impute[40]      3.02      1.01      3.00      1.28      4.59  11565.84      1.00\n",
            "  len_impute[41]      3.05      1.00      3.04      1.47      4.76  10847.78      1.00\n",
            "  len_impute[42]      3.03      1.01      3.02      1.30      4.63  11327.63      1.00\n",
            "  len_impute[43]      3.01      1.03      3.02      1.35      4.75   9436.95      1.00\n",
            "  len_impute[44]      3.08      0.99      3.07      1.47      4.73   9554.81      1.00\n",
            "  len_impute[45]      3.04      1.02      3.04      1.40      4.75  10400.97      1.00\n",
            "  len_impute[46]      3.04      1.02      3.05      1.41      4.76  10055.30      1.00\n",
            "  len_impute[47]      3.06      1.00      3.07      1.45      4.74  10514.71      1.00\n",
            "     p_length_mu      3.00      0.02      3.00      2.96      3.03  10342.13      1.00\n",
            "  p_length_sigma      1.02      0.02      1.02      0.99      1.05  10875.35      1.00\n",
            "\n",
            "Number of divergences: 0\n"
          ],
          "name": "stdout"
        }
      ]
    },
    {
      "cell_type": "code",
      "metadata": {
        "id": "hbzGoHVYeKbP",
        "colab_type": "code",
        "colab": {}
      },
      "source": [
        "samples = mcmc.get_samples()"
      ],
      "execution_count": 28,
      "outputs": []
    },
    {
      "cell_type": "code",
      "metadata": {
        "id": "7U4IXHMHgERg",
        "colab_type": "code",
        "colab": {
          "base_uri": "https://localhost:8080/",
          "height": 476
        },
        "outputId": "18c5d5a2-ae3b-4004-9996-0b481ef7aa34"
      },
      "source": [
        "samples"
      ],
      "execution_count": 29,
      "outputs": [
        {
          "output_type": "execute_result",
          "data": {
            "text/plain": [
              "{'b_length': DeviceArray([ 0.84553117,  0.17387185,  0.75929666, ...,  1.2958266 ,\n",
              "              -0.20911424,  0.81496274], dtype=float32),\n",
              " 'b_p_width': DeviceArray([2.8608935, 2.8856983, 2.3593771, ..., 2.4031894, 3.514077 ,\n",
              "              2.3478296], dtype=float32),\n",
              " 'b_s_len': DeviceArray([0.46707383, 0.8686326 , 0.5071564 , ..., 0.4275765 ,\n",
              "              1.0893247 , 0.6733005 ], dtype=float32),\n",
              " 'b_s_width': DeviceArray([-1.552396 , -2.8334525, -1.639445 , ..., -2.536329 ,\n",
              "              -2.4318805, -2.7849386], dtype=float32),\n",
              " 'l': DeviceArray([-1.764303  ,  1.1737263 , -1.8131093 , ..., -0.15512697,\n",
              "               0.08381732,  0.47893697], dtype=float32),\n",
              " 'len_impute': DeviceArray([[1.2735763, 4.8098693, 4.6611953, ..., 3.707812 , 3.110223 ,\n",
              "               3.0089302],\n",
              "              [4.857796 , 1.1562903, 1.0480294, ..., 2.2236137, 3.247709 ,\n",
              "               3.073003 ],\n",
              "              [1.1222441, 4.77692  , 4.7732635, ..., 4.0354905, 3.0268705,\n",
              "               3.0780027],\n",
              "              ...,\n",
              "              [3.066032 , 3.0369792, 3.6716588, ..., 3.7284842, 2.6703138,\n",
              "               3.4815512],\n",
              "              [2.723758 , 2.8358567, 2.3828418, ..., 1.8745503, 3.4874759,\n",
              "               2.3545952],\n",
              "              [3.2416325, 3.1956058, 2.1847456, ..., 3.5181043, 3.1141472,\n",
              "               2.9535518]], dtype=float32),\n",
              " 'p_length_mu': DeviceArray([3.030491 , 2.9594572, 3.023675 , ..., 2.9873374, 3.0051713,\n",
              "              2.9876328], dtype=float32),\n",
              " 'p_length_sigma': DeviceArray([1.0000091, 1.0358313, 0.9903413, ..., 1.0008817, 1.0267384,\n",
              "              0.9961686], dtype=float32)}"
            ]
          },
          "metadata": {
            "tags": []
          },
          "execution_count": 29
        }
      ]
    },
    {
      "cell_type": "code",
      "metadata": {
        "id": "am_pdKNEh1Nw",
        "colab_type": "code",
        "colab": {
          "base_uri": "https://localhost:8080/",
          "height": 404
        },
        "outputId": "959e01db-0da5-4863-f210-090c62a7502d"
      },
      "source": [
        "def plot_regression(x, y_mean, y_hpdi):\n",
        "    # Sort values for plotting by x axis\n",
        "    idx = jnp.argsort(x)\n",
        "    petal_length = x[idx]\n",
        "    mean = y_mean[idx]\n",
        "    hpdi = y_hpdi[:, idx]\n",
        "    species = iris_df.target.values[idx]\n",
        "\n",
        "    fig, ax = plt.subplots(nrows=1, ncols=1, figsize=(6, 6))\n",
        "    ax.plot(petal_length, mean, 'k')\n",
        "    ax.plot(petal_length, species, 'ro')\n",
        "    ax.fill_between(petal_length, hpdi[0], hpdi[1], alpha=0.25, color=\"darkred\", interpolate=False)\n",
        "    return ax\n",
        "\n",
        "# Compute empirical posterior distribution over mu\n",
        "posterior_mu = jnp.expand_dims(samples['l'], -1) + \\\n",
        "               jnp.expand_dims(samples['b_length'], -1) * iris_df[\"petal length (cm)\"].values + \\\n",
        "               jnp.expand_dims(samples['b_s_len'], -1)*iris_df[\"sepal length (cm)\"].values + \\\n",
        "               jnp.expand_dims(samples['b_s_width'], -1)*iris_df[\"sepal width (cm)\"].values + \\\n",
        "               jnp.expand_dims(samples['b_p_width'], -1)*iris_df[\"petal width (cm)\"].values\n",
        "\n",
        "mean_mu = jnp.mean(posterior_mu, axis=0)\n",
        "hpdi_mu = hpdi(posterior_mu, 0.95)\n",
        "ax = plot_regression(iris_df[\"petal length (cm)\"].values, mean_mu, hpdi_mu)\n",
        "ax.set(xlabel='Petal Length', ylabel='Species', title='Regression line with 90% CI')\n",
        "ax.set_ylim([-1, 2]);\n",
        "plt.savefig(\"rp_sampled_90CI.png\")"
      ],
      "execution_count": 30,
      "outputs": [
        {
          "output_type": "display_data",
          "data": {
            "image/png": "[encoded data removed]",
            "text/plain": [
              "<Figure size 432x432 with 1 Axes>"
            ]
          },
          "metadata": {
            "tags": [],
            "needs_background": "light"
          }
        }
      ]
    },
    {
      "cell_type": "code",
      "metadata": {
        "id": "LnM5X02wjLHF",
        "colab_type": "code",
        "colab": {}
      },
      "source": [
        ""
      ],
      "execution_count": 30,
      "outputs": []
    }
  ]
}