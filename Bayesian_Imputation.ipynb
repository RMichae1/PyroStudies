{
  "nbformat": 4,
  "nbformat_minor": 0,
  "metadata": {
    "kernelspec": {
      "display_name": "analysis",
      "language": "python",
      "name": "analysis"
    },
    "language_info": {
      "codemirror_mode": {
        "name": "ipython",
        "version": 3
      },
      "file_extension": ".py",
      "mimetype": "text/x-python",
      "name": "python",
      "nbconvert_exporter": "python",
      "pygments_lexer": "ipython3",
      "version": "3.8.3"
    },
    "colab": {
      "name": "Bayesian_Imputation.ipynb",
      "provenance": [],
      "collapsed_sections": [],
      "include_colab_link": true
    }
  },
  "cells": [
    {
      "cell_type": "markdown",
      "metadata": {
        "id": "view-in-github",
        "colab_type": "text"
      },
      "source": [
        "<a href=\"https://colab.research.google.com/github/RMichae1/PyroStudies/blob/master/Bayesian_Imputation.ipynb\" target=\"_parent\"><img src=\"https://colab.research.google.com/assets/colab-badge.svg\" alt=\"Open In Colab\"/></a>"
      ]
    },
    {
      "cell_type": "code",
      "metadata": {
        "id": "bh8T6gGPceF8",
        "colab_type": "code",
        "colab": {
          "base_uri": "https://localhost:8080/",
          "height": 51
        },
        "outputId": "f931acd4-5ad2-4e35-d448-3c463e4e9d4b"
      },
      "source": [
        "import numpy as np\n",
        "from numpy.random import random as np_random\n",
        "import pandas as pd\n",
        "\n",
        "import seaborn as sns\n",
        "import matplotlib.pyplot as plt\n",
        "\n",
        "from sklearn import datasets\n",
        "\n",
        "import numpyro\n",
        "import numpyro.distributions as dist\n",
        "from numpyro.infer import MCMC, NUTS, Predictive\n",
        "\n",
        "from jax import ops, random\n",
        "from jax.scipy.special import expit\n",
        "import jax.numpy as jnp\n",
        "from numpyro.diagnostics import hpdi"
      ],
      "execution_count": 1,
      "outputs": [
        {
          "output_type": "stream",
          "text": [
            "/usr/local/lib/python3.6/dist-packages/statsmodels/tools/_testing.py:19: FutureWarning: pandas.util.testing is deprecated. Use the functions in the public API at pandas.testing instead.\n",
            "  import pandas.util.testing as tm\n"
          ],
          "name": "stderr"
        }
      ]
    },
    {
      "cell_type": "code",
      "metadata": {
        "id": "RpNlfFoNceGA",
        "colab_type": "code",
        "colab": {}
      },
      "source": [
        "iris_data = datasets.load_iris() "
      ],
      "execution_count": 2,
      "outputs": []
    },
    {
      "cell_type": "code",
      "metadata": {
        "id": "Fu4JT6IQceGD",
        "colab_type": "code",
        "colab": {
          "base_uri": "https://localhost:8080/",
          "height": 419
        },
        "outputId": "dc6ebc8e-16c3-4510-a299-7b966f1288ac"
      },
      "source": [
        "iris_df = pd.DataFrame(data=np.c_[iris_data['data'], iris_data['target']],\n",
        "                      columns=iris_data['feature_names'] + ['target'])\n",
        "iris_df"
      ],
      "execution_count": 3,
      "outputs": [
        {
          "output_type": "execute_result",
          "data": {
            "text/html": [
              "<div>\n",
              "<style scoped>\n",
              "    .dataframe tbody tr th:only-of-type {\n",
              "        vertical-align: middle;\n",
              "    }\n",
              "\n",
              "    .dataframe tbody tr th {\n",
              "        vertical-align: top;\n",
              "    }\n",
              "\n",
              "    .dataframe thead th {\n",
              "        text-align: right;\n",
              "    }\n",
              "</style>\n",
              "<table border=\"1\" class=\"dataframe\">\n",
              "  <thead>\n",
              "    <tr style=\"text-align: right;\">\n",
              "      <th></th>\n",
              "      <th>sepal length (cm)</th>\n",
              "      <th>sepal width (cm)</th>\n",
              "      <th>petal length (cm)</th>\n",
              "      <th>petal width (cm)</th>\n",
              "      <th>target</th>\n",
              "    </tr>\n",
              "  </thead>\n",
              "  <tbody>\n",
              "    <tr>\n",
              "      <th>0</th>\n",
              "      <td>5.1</td>\n",
              "      <td>3.5</td>\n",
              "      <td>1.4</td>\n",
              "      <td>0.2</td>\n",
              "      <td>0.0</td>\n",
              "    </tr>\n",
              "    <tr>\n",
              "      <th>1</th>\n",
              "      <td>4.9</td>\n",
              "      <td>3.0</td>\n",
              "      <td>1.4</td>\n",
              "      <td>0.2</td>\n",
              "      <td>0.0</td>\n",
              "    </tr>\n",
              "    <tr>\n",
              "      <th>2</th>\n",
              "      <td>4.7</td>\n",
              "      <td>3.2</td>\n",
              "      <td>1.3</td>\n",
              "      <td>0.2</td>\n",
              "      <td>0.0</td>\n",
              "    </tr>\n",
              "    <tr>\n",
              "      <th>3</th>\n",
              "      <td>4.6</td>\n",
              "      <td>3.1</td>\n",
              "      <td>1.5</td>\n",
              "      <td>0.2</td>\n",
              "      <td>0.0</td>\n",
              "    </tr>\n",
              "    <tr>\n",
              "      <th>4</th>\n",
              "      <td>5.0</td>\n",
              "      <td>3.6</td>\n",
              "      <td>1.4</td>\n",
              "      <td>0.2</td>\n",
              "      <td>0.0</td>\n",
              "    </tr>\n",
              "    <tr>\n",
              "      <th>...</th>\n",
              "      <td>...</td>\n",
              "      <td>...</td>\n",
              "      <td>...</td>\n",
              "      <td>...</td>\n",
              "      <td>...</td>\n",
              "    </tr>\n",
              "    <tr>\n",
              "      <th>145</th>\n",
              "      <td>6.7</td>\n",
              "      <td>3.0</td>\n",
              "      <td>5.2</td>\n",
              "      <td>2.3</td>\n",
              "      <td>2.0</td>\n",
              "    </tr>\n",
              "    <tr>\n",
              "      <th>146</th>\n",
              "      <td>6.3</td>\n",
              "      <td>2.5</td>\n",
              "      <td>5.0</td>\n",
              "      <td>1.9</td>\n",
              "      <td>2.0</td>\n",
              "    </tr>\n",
              "    <tr>\n",
              "      <th>147</th>\n",
              "      <td>6.5</td>\n",
              "      <td>3.0</td>\n",
              "      <td>5.2</td>\n",
              "      <td>2.0</td>\n",
              "      <td>2.0</td>\n",
              "    </tr>\n",
              "    <tr>\n",
              "      <th>148</th>\n",
              "      <td>6.2</td>\n",
              "      <td>3.4</td>\n",
              "      <td>5.4</td>\n",
              "      <td>2.3</td>\n",
              "      <td>2.0</td>\n",
              "    </tr>\n",
              "    <tr>\n",
              "      <th>149</th>\n",
              "      <td>5.9</td>\n",
              "      <td>3.0</td>\n",
              "      <td>5.1</td>\n",
              "      <td>1.8</td>\n",
              "      <td>2.0</td>\n",
              "    </tr>\n",
              "  </tbody>\n",
              "</table>\n",
              "<p>150 rows × 5 columns</p>\n",
              "</div>"
            ],
            "text/plain": [
              "     sepal length (cm)  sepal width (cm)  ...  petal width (cm)  target\n",
              "0                  5.1               3.5  ...               0.2     0.0\n",
              "1                  4.9               3.0  ...               0.2     0.0\n",
              "2                  4.7               3.2  ...               0.2     0.0\n",
              "3                  4.6               3.1  ...               0.2     0.0\n",
              "4                  5.0               3.6  ...               0.2     0.0\n",
              "..                 ...               ...  ...               ...     ...\n",
              "145                6.7               3.0  ...               2.3     2.0\n",
              "146                6.3               2.5  ...               1.9     2.0\n",
              "147                6.5               3.0  ...               2.0     2.0\n",
              "148                6.2               3.4  ...               2.3     2.0\n",
              "149                5.9               3.0  ...               1.8     2.0\n",
              "\n",
              "[150 rows x 5 columns]"
            ]
          },
          "metadata": {
            "tags": []
          },
          "execution_count": 3
        }
      ]
    },
    {
      "cell_type": "code",
      "metadata": {
        "id": "4mhmigTkceGG",
        "colab_type": "code",
        "colab": {
          "base_uri": "https://localhost:8080/",
          "height": 419
        },
        "outputId": "fdede25b-f869-4395-fbb1-b87cb7706b8c"
      },
      "source": [
        "iris_df[\"target\"] = iris_df.target.astype(\"int\")\n",
        "# select 2 species for ease of use\n",
        "iris_df = iris_df[iris_df.target.isin([0, 1])]\n",
        "iris_df"
      ],
      "execution_count": 4,
      "outputs": [
        {
          "output_type": "execute_result",
          "data": {
            "text/html": [
              "<div>\n",
              "<style scoped>\n",
              "    .dataframe tbody tr th:only-of-type {\n",
              "        vertical-align: middle;\n",
              "    }\n",
              "\n",
              "    .dataframe tbody tr th {\n",
              "        vertical-align: top;\n",
              "    }\n",
              "\n",
              "    .dataframe thead th {\n",
              "        text-align: right;\n",
              "    }\n",
              "</style>\n",
              "<table border=\"1\" class=\"dataframe\">\n",
              "  <thead>\n",
              "    <tr style=\"text-align: right;\">\n",
              "      <th></th>\n",
              "      <th>sepal length (cm)</th>\n",
              "      <th>sepal width (cm)</th>\n",
              "      <th>petal length (cm)</th>\n",
              "      <th>petal width (cm)</th>\n",
              "      <th>target</th>\n",
              "    </tr>\n",
              "  </thead>\n",
              "  <tbody>\n",
              "    <tr>\n",
              "      <th>0</th>\n",
              "      <td>5.1</td>\n",
              "      <td>3.5</td>\n",
              "      <td>1.4</td>\n",
              "      <td>0.2</td>\n",
              "      <td>0</td>\n",
              "    </tr>\n",
              "    <tr>\n",
              "      <th>1</th>\n",
              "      <td>4.9</td>\n",
              "      <td>3.0</td>\n",
              "      <td>1.4</td>\n",
              "      <td>0.2</td>\n",
              "      <td>0</td>\n",
              "    </tr>\n",
              "    <tr>\n",
              "      <th>2</th>\n",
              "      <td>4.7</td>\n",
              "      <td>3.2</td>\n",
              "      <td>1.3</td>\n",
              "      <td>0.2</td>\n",
              "      <td>0</td>\n",
              "    </tr>\n",
              "    <tr>\n",
              "      <th>3</th>\n",
              "      <td>4.6</td>\n",
              "      <td>3.1</td>\n",
              "      <td>1.5</td>\n",
              "      <td>0.2</td>\n",
              "      <td>0</td>\n",
              "    </tr>\n",
              "    <tr>\n",
              "      <th>4</th>\n",
              "      <td>5.0</td>\n",
              "      <td>3.6</td>\n",
              "      <td>1.4</td>\n",
              "      <td>0.2</td>\n",
              "      <td>0</td>\n",
              "    </tr>\n",
              "    <tr>\n",
              "      <th>...</th>\n",
              "      <td>...</td>\n",
              "      <td>...</td>\n",
              "      <td>...</td>\n",
              "      <td>...</td>\n",
              "      <td>...</td>\n",
              "    </tr>\n",
              "    <tr>\n",
              "      <th>95</th>\n",
              "      <td>5.7</td>\n",
              "      <td>3.0</td>\n",
              "      <td>4.2</td>\n",
              "      <td>1.2</td>\n",
              "      <td>1</td>\n",
              "    </tr>\n",
              "    <tr>\n",
              "      <th>96</th>\n",
              "      <td>5.7</td>\n",
              "      <td>2.9</td>\n",
              "      <td>4.2</td>\n",
              "      <td>1.3</td>\n",
              "      <td>1</td>\n",
              "    </tr>\n",
              "    <tr>\n",
              "      <th>97</th>\n",
              "      <td>6.2</td>\n",
              "      <td>2.9</td>\n",
              "      <td>4.3</td>\n",
              "      <td>1.3</td>\n",
              "      <td>1</td>\n",
              "    </tr>\n",
              "    <tr>\n",
              "      <th>98</th>\n",
              "      <td>5.1</td>\n",
              "      <td>2.5</td>\n",
              "      <td>3.0</td>\n",
              "      <td>1.1</td>\n",
              "      <td>1</td>\n",
              "    </tr>\n",
              "    <tr>\n",
              "      <th>99</th>\n",
              "      <td>5.7</td>\n",
              "      <td>2.8</td>\n",
              "      <td>4.1</td>\n",
              "      <td>1.3</td>\n",
              "      <td>1</td>\n",
              "    </tr>\n",
              "  </tbody>\n",
              "</table>\n",
              "<p>100 rows × 5 columns</p>\n",
              "</div>"
            ],
            "text/plain": [
              "    sepal length (cm)  sepal width (cm)  ...  petal width (cm)  target\n",
              "0                 5.1               3.5  ...               0.2       0\n",
              "1                 4.9               3.0  ...               0.2       0\n",
              "2                 4.7               3.2  ...               0.2       0\n",
              "3                 4.6               3.1  ...               0.2       0\n",
              "4                 5.0               3.6  ...               0.2       0\n",
              "..                ...               ...  ...               ...     ...\n",
              "95                5.7               3.0  ...               1.2       1\n",
              "96                5.7               2.9  ...               1.3       1\n",
              "97                6.2               2.9  ...               1.3       1\n",
              "98                5.1               2.5  ...               1.1       1\n",
              "99                5.7               2.8  ...               1.3       1\n",
              "\n",
              "[100 rows x 5 columns]"
            ]
          },
          "metadata": {
            "tags": []
          },
          "execution_count": 4
        }
      ]
    },
    {
      "cell_type": "code",
      "metadata": {
        "id": "_R6oQTI-ceGJ",
        "colab_type": "code",
        "colab": {
          "base_uri": "https://localhost:8080/",
          "height": 521
        },
        "outputId": "23673427-332e-4ab0-9bfa-abdc8551079c"
      },
      "source": [
        "random_vec = np_random(iris_df[\"petal length (cm)\"].shape)<0.5\n",
        "iris_df[\"petal length (cm)\"] = iris_df[\"petal length (cm)\"].where(random_vec, \n",
        "                                                                  other=np.nan)\n",
        "iris_df"
      ],
      "execution_count": 5,
      "outputs": [
        {
          "output_type": "stream",
          "text": [
            "/usr/local/lib/python3.6/dist-packages/ipykernel_launcher.py:3: SettingWithCopyWarning: \n",
            "A value is trying to be set on a copy of a slice from a DataFrame.\n",
            "Try using .loc[row_indexer,col_indexer] = value instead\n",
            "\n",
            "See the caveats in the documentation: https://pandas.pydata.org/pandas-docs/stable/user_guide/indexing.html#returning-a-view-versus-a-copy\n",
            "  This is separate from the ipykernel package so we can avoid doing imports until\n"
          ],
          "name": "stderr"
        },
        {
          "output_type": "execute_result",
          "data": {
            "text/html": [
              "<div>\n",
              "<style scoped>\n",
              "    .dataframe tbody tr th:only-of-type {\n",
              "        vertical-align: middle;\n",
              "    }\n",
              "\n",
              "    .dataframe tbody tr th {\n",
              "        vertical-align: top;\n",
              "    }\n",
              "\n",
              "    .dataframe thead th {\n",
              "        text-align: right;\n",
              "    }\n",
              "</style>\n",
              "<table border=\"1\" class=\"dataframe\">\n",
              "  <thead>\n",
              "    <tr style=\"text-align: right;\">\n",
              "      <th></th>\n",
              "      <th>sepal length (cm)</th>\n",
              "      <th>sepal width (cm)</th>\n",
              "      <th>petal length (cm)</th>\n",
              "      <th>petal width (cm)</th>\n",
              "      <th>target</th>\n",
              "    </tr>\n",
              "  </thead>\n",
              "  <tbody>\n",
              "    <tr>\n",
              "      <th>0</th>\n",
              "      <td>5.1</td>\n",
              "      <td>3.5</td>\n",
              "      <td>NaN</td>\n",
              "      <td>0.2</td>\n",
              "      <td>0</td>\n",
              "    </tr>\n",
              "    <tr>\n",
              "      <th>1</th>\n",
              "      <td>4.9</td>\n",
              "      <td>3.0</td>\n",
              "      <td>NaN</td>\n",
              "      <td>0.2</td>\n",
              "      <td>0</td>\n",
              "    </tr>\n",
              "    <tr>\n",
              "      <th>2</th>\n",
              "      <td>4.7</td>\n",
              "      <td>3.2</td>\n",
              "      <td>NaN</td>\n",
              "      <td>0.2</td>\n",
              "      <td>0</td>\n",
              "    </tr>\n",
              "    <tr>\n",
              "      <th>3</th>\n",
              "      <td>4.6</td>\n",
              "      <td>3.1</td>\n",
              "      <td>NaN</td>\n",
              "      <td>0.2</td>\n",
              "      <td>0</td>\n",
              "    </tr>\n",
              "    <tr>\n",
              "      <th>4</th>\n",
              "      <td>5.0</td>\n",
              "      <td>3.6</td>\n",
              "      <td>NaN</td>\n",
              "      <td>0.2</td>\n",
              "      <td>0</td>\n",
              "    </tr>\n",
              "    <tr>\n",
              "      <th>...</th>\n",
              "      <td>...</td>\n",
              "      <td>...</td>\n",
              "      <td>...</td>\n",
              "      <td>...</td>\n",
              "      <td>...</td>\n",
              "    </tr>\n",
              "    <tr>\n",
              "      <th>95</th>\n",
              "      <td>5.7</td>\n",
              "      <td>3.0</td>\n",
              "      <td>NaN</td>\n",
              "      <td>1.2</td>\n",
              "      <td>1</td>\n",
              "    </tr>\n",
              "    <tr>\n",
              "      <th>96</th>\n",
              "      <td>5.7</td>\n",
              "      <td>2.9</td>\n",
              "      <td>NaN</td>\n",
              "      <td>1.3</td>\n",
              "      <td>1</td>\n",
              "    </tr>\n",
              "    <tr>\n",
              "      <th>97</th>\n",
              "      <td>6.2</td>\n",
              "      <td>2.9</td>\n",
              "      <td>NaN</td>\n",
              "      <td>1.3</td>\n",
              "      <td>1</td>\n",
              "    </tr>\n",
              "    <tr>\n",
              "      <th>98</th>\n",
              "      <td>5.1</td>\n",
              "      <td>2.5</td>\n",
              "      <td>3.0</td>\n",
              "      <td>1.1</td>\n",
              "      <td>1</td>\n",
              "    </tr>\n",
              "    <tr>\n",
              "      <th>99</th>\n",
              "      <td>5.7</td>\n",
              "      <td>2.8</td>\n",
              "      <td>4.1</td>\n",
              "      <td>1.3</td>\n",
              "      <td>1</td>\n",
              "    </tr>\n",
              "  </tbody>\n",
              "</table>\n",
              "<p>100 rows × 5 columns</p>\n",
              "</div>"
            ],
            "text/plain": [
              "    sepal length (cm)  sepal width (cm)  ...  petal width (cm)  target\n",
              "0                 5.1               3.5  ...               0.2       0\n",
              "1                 4.9               3.0  ...               0.2       0\n",
              "2                 4.7               3.2  ...               0.2       0\n",
              "3                 4.6               3.1  ...               0.2       0\n",
              "4                 5.0               3.6  ...               0.2       0\n",
              "..                ...               ...  ...               ...     ...\n",
              "95                5.7               3.0  ...               1.2       1\n",
              "96                5.7               2.9  ...               1.3       1\n",
              "97                6.2               2.9  ...               1.3       1\n",
              "98                5.1               2.5  ...               1.1       1\n",
              "99                5.7               2.8  ...               1.3       1\n",
              "\n",
              "[100 rows x 5 columns]"
            ]
          },
          "metadata": {
            "tags": []
          },
          "execution_count": 5
        }
      ]
    },
    {
      "cell_type": "code",
      "metadata": {
        "id": "Iy3nNQIefRHl",
        "colab_type": "code",
        "colab": {
          "base_uri": "https://localhost:8080/",
          "height": 299
        },
        "outputId": "85f657d1-c3e6-4da6-9436-2a1ea0591368"
      },
      "source": [
        "sns.regplot(\"sepal length (cm)\", \"sepal width (cm)\", iris_df)"
      ],
      "execution_count": 6,
      "outputs": [
        {
          "output_type": "execute_result",
          "data": {
            "text/plain": [
              "<matplotlib.axes._subplots.AxesSubplot at 0x7f86d5435dd8>"
            ]
          },
          "metadata": {
            "tags": []
          },
          "execution_count": 6
        },
        {
          "output_type": "display_data",
          "data": {
            "image/png": "[encoded data removed]",
            "text/plain": [
              "<Figure size 432x288 with 1 Axes>"
            ]
          },
          "metadata": {
            "tags": [],
            "needs_background": "light"
          }
        }
      ]
    },
    {
      "cell_type": "code",
      "metadata": {
        "id": "rTGI8YtKfhCl",
        "colab_type": "code",
        "colab": {
          "base_uri": "https://localhost:8080/",
          "height": 225
        },
        "outputId": "abd52796-291a-4d08-80b5-c96a1ebb1021"
      },
      "source": [
        "t = sns.FacetGrid(iris_df, col=\"target\")\n",
        "t.map(plt.scatter, \"petal length (cm)\", \"petal width (cm)\", color=\"darkred\")\n",
        "plt.savefig(\"./lr_lw.png\")"
      ],
      "execution_count": 7,
      "outputs": [
        {
          "output_type": "display_data",
          "data": {
            "image/png": "[encoded data removed]",
            "text/plain": [
              "<Figure size 432x216 with 2 Axes>"
            ]
          },
          "metadata": {
            "tags": [],
            "needs_background": "light"
          }
        }
      ]
    },
    {
      "cell_type": "code",
      "metadata": {
        "id": "Pdzsabf5gFd4",
        "colab_type": "code",
        "colab": {
          "base_uri": "https://localhost:8080/",
          "height": 295
        },
        "outputId": "de59ac6f-e7ef-4458-f15d-c6f5c944b5b0"
      },
      "source": [
        "sns.regplot(\"petal length (cm)\", \"target\", color=\"darkred\", data=iris_df)\n",
        "plt.title(\"Lin. Regression petal length v/ category\")\n",
        "plt.savefig(\"./lr_target_p_len.png\")"
      ],
      "execution_count": 8,
      "outputs": [
        {
          "output_type": "display_data",
          "data": {
            "image/png": "[encoded data removed]",
            "text/plain": [
              "<Figure size 432x288 with 1 Axes>"
            ]
          },
          "metadata": {
            "tags": [],
            "needs_background": "light"
          }
        }
      ]
    },
    {
      "cell_type": "code",
      "metadata": {
        "id": "BzpUCGtfceGM",
        "colab_type": "code",
        "colab": {
          "base_uri": "https://localhost:8080/",
          "height": 646
        },
        "outputId": "0365bcda-05f4-43c0-b8b7-26289971fdc3"
      },
      "source": [
        "iris_data=dict(s_len=iris_df[\"sepal length (cm)\"].values,\n",
        "              s_width=iris_df[\"sepal width (cm)\"].values,\n",
        "              p_len=iris_df[\"petal length (cm)\"].values,\n",
        "              p_width=iris_df[\"petal width (cm)\"].values,\n",
        "              target=iris_df.target.values)\n",
        "iris_data"
      ],
      "execution_count": 9,
      "outputs": [
        {
          "output_type": "execute_result",
          "data": {
            "text/plain": [
              "{'p_len': array([nan, nan, nan, nan, nan, 1.7, 1.4, nan, nan, nan, 1.5, 1.6, nan,\n",
              "        1.1, nan, nan, nan, 1.4, 1.7, 1.5, 1.7, 1.5, 1. , nan, nan, 1.6,\n",
              "        1.6, nan, nan, 1.6, nan, 1.5, 1.5, 1.4, 1.5, 1.2, 1.3, 1.4, 1.3,\n",
              "        1.5, nan, 1.3, nan, 1.6, 1.9, nan, nan, 1.4, nan, 1.4, 4.7, nan,\n",
              "        4.9, nan, 4.6, nan, nan, 3.3, 4.6, nan, nan, nan, 4. , 4.7, 3.6,\n",
              "        4.4, nan, nan, 4.5, nan, nan, 4. , nan, 4.7, 4.3, 4.4, nan, nan,\n",
              "        nan, 3.5, nan, 3.7, 3.9, nan, nan, 4.5, nan, 4.4, nan, 4. , 4.4,\n",
              "        nan, 4. , nan, 4.2, nan, nan, nan, 3. , 4.1]),\n",
              " 'p_width': array([0.2, 0.2, 0.2, 0.2, 0.2, 0.4, 0.3, 0.2, 0.2, 0.1, 0.2, 0.2, 0.1,\n",
              "        0.1, 0.2, 0.4, 0.4, 0.3, 0.3, 0.3, 0.2, 0.4, 0.2, 0.5, 0.2, 0.2,\n",
              "        0.4, 0.2, 0.2, 0.2, 0.2, 0.4, 0.1, 0.2, 0.2, 0.2, 0.2, 0.1, 0.2,\n",
              "        0.2, 0.3, 0.3, 0.2, 0.6, 0.4, 0.3, 0.2, 0.2, 0.2, 0.2, 1.4, 1.5,\n",
              "        1.5, 1.3, 1.5, 1.3, 1.6, 1. , 1.3, 1.4, 1. , 1.5, 1. , 1.4, 1.3,\n",
              "        1.4, 1.5, 1. , 1.5, 1.1, 1.8, 1.3, 1.5, 1.2, 1.3, 1.4, 1.4, 1.7,\n",
              "        1.5, 1. , 1.1, 1. , 1.2, 1.6, 1.5, 1.6, 1.5, 1.3, 1.3, 1.3, 1.2,\n",
              "        1.4, 1.2, 1. , 1.3, 1.2, 1.3, 1.3, 1.1, 1.3]),\n",
              " 's_len': array([5.1, 4.9, 4.7, 4.6, 5. , 5.4, 4.6, 5. , 4.4, 4.9, 5.4, 4.8, 4.8,\n",
              "        4.3, 5.8, 5.7, 5.4, 5.1, 5.7, 5.1, 5.4, 5.1, 4.6, 5.1, 4.8, 5. ,\n",
              "        5. , 5.2, 5.2, 4.7, 4.8, 5.4, 5.2, 5.5, 4.9, 5. , 5.5, 4.9, 4.4,\n",
              "        5.1, 5. , 4.5, 4.4, 5. , 5.1, 4.8, 5.1, 4.6, 5.3, 5. , 7. , 6.4,\n",
              "        6.9, 5.5, 6.5, 5.7, 6.3, 4.9, 6.6, 5.2, 5. , 5.9, 6. , 6.1, 5.6,\n",
              "        6.7, 5.6, 5.8, 6.2, 5.6, 5.9, 6.1, 6.3, 6.1, 6.4, 6.6, 6.8, 6.7,\n",
              "        6. , 5.7, 5.5, 5.5, 5.8, 6. , 5.4, 6. , 6.7, 6.3, 5.6, 5.5, 5.5,\n",
              "        6.1, 5.8, 5. , 5.6, 5.7, 5.7, 6.2, 5.1, 5.7]),\n",
              " 's_width': array([3.5, 3. , 3.2, 3.1, 3.6, 3.9, 3.4, 3.4, 2.9, 3.1, 3.7, 3.4, 3. ,\n",
              "        3. , 4. , 4.4, 3.9, 3.5, 3.8, 3.8, 3.4, 3.7, 3.6, 3.3, 3.4, 3. ,\n",
              "        3.4, 3.5, 3.4, 3.2, 3.1, 3.4, 4.1, 4.2, 3.1, 3.2, 3.5, 3.6, 3. ,\n",
              "        3.4, 3.5, 2.3, 3.2, 3.5, 3.8, 3. , 3.8, 3.2, 3.7, 3.3, 3.2, 3.2,\n",
              "        3.1, 2.3, 2.8, 2.8, 3.3, 2.4, 2.9, 2.7, 2. , 3. , 2.2, 2.9, 2.9,\n",
              "        3.1, 3. , 2.7, 2.2, 2.5, 3.2, 2.8, 2.5, 2.8, 2.9, 3. , 2.8, 3. ,\n",
              "        2.9, 2.6, 2.4, 2.4, 2.7, 2.7, 3. , 3.4, 3.1, 2.3, 3. , 2.5, 2.6,\n",
              "        3. , 2.6, 2.3, 2.7, 3. , 2.9, 2.9, 2.5, 2.8]),\n",
              " 'target': array([0, 0, 0, 0, 0, 0, 0, 0, 0, 0, 0, 0, 0, 0, 0, 0, 0, 0, 0, 0, 0, 0,\n",
              "        0, 0, 0, 0, 0, 0, 0, 0, 0, 0, 0, 0, 0, 0, 0, 0, 0, 0, 0, 0, 0, 0,\n",
              "        0, 0, 0, 0, 0, 0, 1, 1, 1, 1, 1, 1, 1, 1, 1, 1, 1, 1, 1, 1, 1, 1,\n",
              "        1, 1, 1, 1, 1, 1, 1, 1, 1, 1, 1, 1, 1, 1, 1, 1, 1, 1, 1, 1, 1, 1,\n",
              "        1, 1, 1, 1, 1, 1, 1, 1, 1, 1, 1, 1])}"
            ]
          },
          "metadata": {
            "tags": []
          },
          "execution_count": 9
        }
      ]
    },
    {
      "cell_type": "code",
      "metadata": {
        "id": "Aj4CdHgiceGP",
        "colab_type": "code",
        "colab": {
          "base_uri": "https://localhost:8080/",
          "height": 51
        },
        "outputId": "f4f2275d-55a0-4b61-8165-66ca664d180f"
      },
      "source": [
        "print(\"Petal Length μ = {}\".format(iris_df[\"petal length (cm)\"].mean()))\n",
        "print(\"Petal Length σ^2 = {}\".format(iris_df[\"petal length (cm)\"].std()))"
      ],
      "execution_count": 10,
      "outputs": [
        {
          "output_type": "stream",
          "text": [
            "Petal Length μ = 2.7452830188679247\n",
            "Petal Length σ^2 = 1.4097962261011956\n"
          ],
          "name": "stdout"
        }
      ]
    },
    {
      "cell_type": "code",
      "metadata": {
        "id": "vjOi4z0vceGS",
        "colab_type": "code",
        "colab": {
          "base_uri": "https://localhost:8080/",
          "height": 85
        },
        "outputId": "f1bbb010-2831-4ad4-f29a-6d3693356740"
      },
      "source": [
        "p_len = iris_df[\"petal length (cm)\"]\n",
        "print(\"Amount missing: {}\".format(len(np.array(np.isnan(p_len).astype(int)).nonzero()[0])))\n",
        "np.array(np.isnan(p_len).astype(int)).nonzero()[0]"
      ],
      "execution_count": 11,
      "outputs": [
        {
          "output_type": "stream",
          "text": [
            "Amount missing: 47\n"
          ],
          "name": "stdout"
        },
        {
          "output_type": "execute_result",
          "data": {
            "text/plain": [
              "array([ 0,  1,  2,  3,  4,  7,  8,  9, 12, 14, 15, 16, 23, 24, 27, 28, 30,\n",
              "       40, 42, 45, 46, 48, 51, 53, 55, 56, 59, 60, 61, 66, 67, 69, 70, 72,\n",
              "       76, 77, 78, 80, 83, 84, 86, 88, 91, 93, 95, 96, 97])"
            ]
          },
          "metadata": {
            "tags": []
          },
          "execution_count": 11
        }
      ]
    },
    {
      "cell_type": "code",
      "metadata": {
        "id": "Wby5MIqoceGU",
        "colab_type": "code",
        "colab": {}
      },
      "source": [
        "def model(s_len, s_width, p_len, p_width, target=None):\n",
        "    b_s_len = numpyro.sample(\"b_s_len\", dist.Normal(0,1))\n",
        "    b_s_width = numpyro.sample(\"b_s_width\", dist.Normal(0,1))\n",
        "    b_p_width = numpyro.sample(\"b_p_width\", dist.Normal(0,1))\n",
        "    \n",
        "    # impute length\n",
        "    len_mu = numpyro.sample(\"p_length_mu\", dist.Normal(jnp.ones(len(p_len))*3, 0.01))\n",
        "    len_sigma = abs(numpyro.sample(\"p_length_sigma\", dist.Normal(jnp.ones(len(p_len)), 0.01)))\n",
        "    len_is_nan = np.isnan(p_len)\n",
        "    len_nan_idx = np.array(np.isnan(p_len).astype(int)).nonzero()[0]\n",
        "\n",
        "    len_impute = numpyro.sample(\"len_impute\", dist.Normal(len_mu[len_nan_idx], \n",
        "                                                          len_sigma[len_nan_idx]).mask(False))\n",
        "\n",
        "    p_len = ops.index_update(p_len, len_nan_idx, len_impute)\n",
        "    \n",
        "    numpyro.sample(\"p_length\", dist.Normal(len_mu, len_sigma), obs=p_len)\n",
        "    \n",
        "    l = numpyro.sample(\"l\", dist.Normal(0, 1))\n",
        "    b_len = numpyro.sample(\"b_length\", dist.Normal(0, 1))\n",
        "    logits = l + b_len * p_len\n",
        "    \n",
        "    logits = logits + b_s_len*s_len + b_s_width*s_width + b_p_width*p_width\n",
        "    \n",
        "    if target is None:\n",
        "        # prediction case\n",
        "        probs = expit(logits)\n",
        "        numpyro.sample(\"probs\", dist.Delta(probs))\n",
        "\n",
        "    numpyro.sample(\"target\", dist.Bernoulli(logits=logits), obs=target)"
      ],
      "execution_count": 12,
      "outputs": []
    },
    {
      "cell_type": "code",
      "metadata": {
        "id": "Ib7WF4nMceGZ",
        "colab_type": "code",
        "colab": {
          "base_uri": "https://localhost:8080/",
          "height": 1000
        },
        "outputId": "c412d08c-1ba5-4bef-fd96-c38bdf949534"
      },
      "source": [
        "mcmc = MCMC(NUTS(model=model), 5000, 10000, num_chains=1)\n",
        "mcmc.run(random.PRNGKey(42), **iris_data)\n",
        "\n",
        "mcmc.print_summary()"
      ],
      "execution_count": 13,
      "outputs": [
        {
          "output_type": "stream",
          "text": [
            "sample: 100%|██████████| 15000/15000 [01:24<00:00, 177.33it/s, 31 steps of size 1.42e-01. acc. prob=0.89]\n"
          ],
          "name": "stderr"
        },
        {
          "output_type": "stream",
          "text": [
            "\n",
            "                        mean       std    median      5.0%     95.0%     n_eff     r_hat\n",
            "          b_length      0.55      0.39      0.54     -0.11      1.18  13671.91      1.00\n",
            "         b_p_width      3.00      0.74      2.99      1.83      4.24  13212.42      1.00\n",
            "           b_s_len      0.76      0.48      0.76     -0.01      1.56   8765.74      1.00\n",
            "         b_s_width     -2.49      0.66     -2.48     -3.56     -1.41   9752.81      1.00\n",
            "                 l     -0.37      0.99     -0.37     -1.93      1.33  17234.02      1.00\n",
            "     len_impute[0]      2.96      0.99      2.95      1.36      4.63  22473.80      1.00\n",
            "     len_impute[1]      2.89      0.99      2.89      1.25      4.51  21203.46      1.00\n",
            "     len_impute[2]      2.94      0.98      2.95      1.35      4.54  23961.96      1.00\n",
            "     len_impute[3]      2.93      0.99      2.94      1.30      4.55  22692.01      1.00\n",
            "     len_impute[4]      2.97      1.01      2.96      1.26      4.59  22880.42      1.00\n",
            "     len_impute[5]      2.94      0.99      2.93      1.26      4.48  26123.02      1.00\n",
            "     len_impute[6]      2.91      0.96      2.91      1.39      4.52  21512.37      1.00\n",
            "     len_impute[7]      2.94      0.97      2.93      1.40      4.58  22039.22      1.00\n",
            "     len_impute[8]      2.92      0.97      2.91      1.32      4.50  20202.89      1.00\n",
            "     len_impute[9]      2.98      1.00      2.97      1.36      4.61  20100.30      1.00\n",
            "    len_impute[10]      2.98      1.00      2.98      1.34      4.63  21834.22      1.00\n",
            "    len_impute[11]      2.96      0.97      2.97      1.38      4.58  20060.28      1.00\n",
            "    len_impute[12]      2.88      0.96      2.88      1.26      4.45  20997.06      1.00\n",
            "    len_impute[13]      2.96      1.01      2.95      1.39      4.68  21380.90      1.00\n",
            "    len_impute[14]      2.96      0.97      2.96      1.31      4.49  21892.07      1.00\n",
            "    len_impute[15]      2.95      0.98      2.95      1.27      4.49  20487.39      1.00\n",
            "    len_impute[16]      2.92      0.96      2.92      1.38      4.53  20470.12      1.00\n",
            "    len_impute[17]      2.94      1.00      2.94      1.33      4.61  21896.51      1.00\n",
            "    len_impute[18]      2.95      0.99      2.96      1.35      4.56  21950.05      1.00\n",
            "    len_impute[19]      2.89      0.97      2.90      1.26      4.46  21448.95      1.00\n",
            "    len_impute[20]      2.97      0.99      2.98      1.31      4.56  23176.45      1.00\n",
            "    len_impute[21]      2.97      1.00      2.96      1.40      4.69  19683.19      1.00\n",
            "    len_impute[22]      3.05      0.98      3.05      1.44      4.65  22316.68      1.00\n",
            "    len_impute[23]      3.01      0.99      3.01      1.45      4.66  21032.26      1.00\n",
            "    len_impute[24]      3.04      0.99      3.03      1.39      4.66  24137.17      1.00\n",
            "    len_impute[25]      3.05      0.99      3.06      1.43      4.69  19039.03      1.00\n",
            "    len_impute[26]      3.04      1.00      3.04      1.37      4.65  21817.91      1.00\n",
            "    len_impute[27]      3.02      0.99      3.04      1.38      4.64  23893.00      1.00\n",
            "    len_impute[28]      3.04      0.98      3.04      1.47      4.68  24475.43      1.00\n",
            "    len_impute[29]      3.06      0.98      3.05      1.39      4.63  19950.72      1.00\n",
            "    len_impute[30]      3.09      0.99      3.06      1.39      4.61  21629.83      1.00\n",
            "    len_impute[31]      3.04      1.01      3.04      1.40      4.70  21273.73      1.00\n",
            "    len_impute[32]      3.03      0.99      3.04      1.44      4.71  22814.14      1.00\n",
            "    len_impute[33]      3.02      0.99      3.02      1.38      4.61  18896.81      1.00\n",
            "    len_impute[34]      3.02      0.99      3.01      1.42      4.64  21591.45      1.00\n",
            "    len_impute[35]      3.03      0.99      3.02      1.42      4.68  20509.95      1.00\n",
            "    len_impute[36]      3.05      1.00      3.04      1.42      4.69  20856.49      1.00\n",
            "    len_impute[37]      3.05      0.96      3.05      1.53      4.69  21090.48      1.00\n",
            "    len_impute[38]      3.02      0.99      3.01      1.31      4.59  22340.66      1.00\n",
            "    len_impute[39]      3.06      0.97      3.06      1.45      4.65  18103.87      1.00\n",
            "    len_impute[40]      3.03      0.97      3.01      1.52      4.71  21589.36      1.00\n",
            "    len_impute[41]      3.08      0.99      3.09      1.47      4.72  19743.17      1.00\n",
            "    len_impute[42]      3.05      1.00      3.05      1.45      4.77  22526.36      1.00\n",
            "    len_impute[43]      3.06      1.00      3.05      1.44      4.73  24014.96      1.00\n",
            "    len_impute[44]      3.09      0.98      3.08      1.52      4.69  20958.74      1.00\n",
            "    len_impute[45]      3.06      0.97      3.07      1.46      4.65  22108.83      1.00\n",
            "    len_impute[46]      3.04      0.98      3.03      1.39      4.61  19020.82      1.00\n",
            "    p_length_mu[0]      3.00      0.01      3.00      2.98      3.02  19059.53      1.00\n",
            "    p_length_mu[1]      3.00      0.01      3.00      2.98      3.02  25688.28      1.00\n",
            "    p_length_mu[2]      3.00      0.01      3.00      2.98      3.02  22846.06      1.00\n",
            "    p_length_mu[3]      3.00      0.01      3.00      2.98      3.02  23228.15      1.00\n",
            "    p_length_mu[4]      3.00      0.01      3.00      2.98      3.02  18928.01      1.00\n",
            "    p_length_mu[5]      3.00      0.01      3.00      2.98      3.02  21089.10      1.00\n",
            "    p_length_mu[6]      3.00      0.01      3.00      2.98      3.02  25037.96      1.00\n",
            "    p_length_mu[7]      3.00      0.01      3.00      2.98      3.02  23240.28      1.00\n",
            "    p_length_mu[8]      3.00      0.01      3.00      2.98      3.02  22147.48      1.00\n",
            "    p_length_mu[9]      3.00      0.01      3.00      2.98      3.02  24092.77      1.00\n",
            "   p_length_mu[10]      3.00      0.01      3.00      2.98      3.02  19098.80      1.00\n",
            "   p_length_mu[11]      3.00      0.01      3.00      2.98      3.02  20056.14      1.00\n",
            "   p_length_mu[12]      3.00      0.01      3.00      2.98      3.02  22599.12      1.00\n",
            "   p_length_mu[13]      3.00      0.01      3.00      2.98      3.02  23458.38      1.00\n",
            "   p_length_mu[14]      3.00      0.01      3.00      2.98      3.02  22891.79      1.00\n",
            "   p_length_mu[15]      3.00      0.01      3.00      2.98      3.02  24547.05      1.00\n",
            "   p_length_mu[16]      3.00      0.01      3.00      2.98      3.02  19900.18      1.00\n",
            "   p_length_mu[17]      3.00      0.01      3.00      2.98      3.02  22239.50      1.00\n",
            "   p_length_mu[18]      3.00      0.01      3.00      2.98      3.02  23830.92      1.00\n",
            "   p_length_mu[19]      3.00      0.01      3.00      2.98      3.02  21896.35      1.00\n",
            "   p_length_mu[20]      3.00      0.01      3.00      2.98      3.02  19886.45      1.00\n",
            "   p_length_mu[21]      3.00      0.01      3.00      2.98      3.02  22486.84      1.00\n",
            "   p_length_mu[22]      3.00      0.01      3.00      2.98      3.02  20105.24      1.00\n",
            "   p_length_mu[23]      3.00      0.01      3.00      2.98      3.02  22498.77      1.00\n",
            "   p_length_mu[24]      3.00      0.01      3.00      2.98      3.02  22719.49      1.00\n",
            "   p_length_mu[25]      3.00      0.01      3.00      2.98      3.02  21570.60      1.00\n",
            "   p_length_mu[26]      3.00      0.01      3.00      2.98      3.02  19525.24      1.00\n",
            "   p_length_mu[27]      3.00      0.01      3.00      2.98      3.02  24564.55      1.00\n",
            "   p_length_mu[28]      3.00      0.01      3.00      2.98      3.02  21192.76      1.00\n",
            "   p_length_mu[29]      3.00      0.01      3.00      2.98      3.02  25008.40      1.00\n",
            "   p_length_mu[30]      3.00      0.01      3.00      2.98      3.02  23385.12      1.00\n",
            "   p_length_mu[31]      3.00      0.01      3.00      2.98      3.02  20580.72      1.00\n",
            "   p_length_mu[32]      3.00      0.01      3.00      2.98      3.02  23903.57      1.00\n",
            "   p_length_mu[33]      3.00      0.01      3.00      2.98      3.02  22350.26      1.00\n",
            "   p_length_mu[34]      3.00      0.01      3.00      2.98      3.02  21180.47      1.00\n",
            "   p_length_mu[35]      3.00      0.01      3.00      2.98      3.02  20833.51      1.00\n",
            "   p_length_mu[36]      3.00      0.01      3.00      2.98      3.02  22782.96      1.00\n",
            "   p_length_mu[37]      3.00      0.01      3.00      2.98      3.02  20979.71      1.00\n",
            "   p_length_mu[38]      3.00      0.01      3.00      2.98      3.02  20524.09      1.00\n",
            "   p_length_mu[39]      3.00      0.01      3.00      2.98      3.02  21730.55      1.00\n",
            "   p_length_mu[40]      3.00      0.01      3.00      2.98      3.02  22681.54      1.00\n",
            "   p_length_mu[41]      3.00      0.01      3.00      2.98      3.02  23183.84      1.00\n",
            "   p_length_mu[42]      3.00      0.01      3.00      2.98      3.02  22302.18      1.00\n",
            "   p_length_mu[43]      3.00      0.01      3.00      2.98      3.02  18998.00      1.00\n",
            "   p_length_mu[44]      3.00      0.01      3.00      2.98      3.02  20433.72      1.00\n",
            "   p_length_mu[45]      3.00      0.01      3.00      2.98      3.02  22375.83      1.00\n",
            "   p_length_mu[46]      3.00      0.01      3.00      2.98      3.02  24320.81      1.00\n",
            "   p_length_mu[47]      3.00      0.01      3.00      2.98      3.02  23653.64      1.00\n",
            "   p_length_mu[48]      3.00      0.01      3.00      2.98      3.02  22069.89      1.00\n",
            "   p_length_mu[49]      3.00      0.01      3.00      2.98      3.02  21733.68      1.00\n",
            "   p_length_mu[50]      3.00      0.01      3.00      2.98      3.02  21509.30      1.00\n",
            "   p_length_mu[51]      3.00      0.01      3.00      2.98      3.02  21088.43      1.00\n",
            "   p_length_mu[52]      3.00      0.01      3.00      2.98      3.02  21204.04      1.00\n",
            "   p_length_mu[53]      3.00      0.01      3.00      2.98      3.02  23237.51      1.00\n",
            "   p_length_mu[54]      3.00      0.01      3.00      2.98      3.02  20740.71      1.00\n",
            "   p_length_mu[55]      3.00      0.01      3.00      2.98      3.02  21228.50      1.00\n",
            "   p_length_mu[56]      3.00      0.01      3.00      2.99      3.02  19751.76      1.00\n",
            "   p_length_mu[57]      3.00      0.01      3.00      2.98      3.02  18967.74      1.00\n",
            "   p_length_mu[58]      3.00      0.01      3.00      2.98      3.02  21090.99      1.00\n",
            "   p_length_mu[59]      3.00      0.01      3.00      2.98      3.02  20797.93      1.00\n",
            "   p_length_mu[60]      3.00      0.01      3.00      2.98      3.02  21013.35      1.00\n",
            "   p_length_mu[61]      3.00      0.01      3.00      2.98      3.02  22031.87      1.00\n",
            "   p_length_mu[62]      3.00      0.01      3.00      2.98      3.02  20982.59      1.00\n",
            "   p_length_mu[63]      3.00      0.01      3.00      2.98      3.02  24121.75      1.00\n",
            "   p_length_mu[64]      3.00      0.01      3.00      2.98      3.02  20899.60      1.00\n",
            "   p_length_mu[65]      3.00      0.01      3.00      2.98      3.02  22564.78      1.00\n",
            "   p_length_mu[66]      3.00      0.01      3.00      2.98      3.02  23037.72      1.00\n",
            "   p_length_mu[67]      3.00      0.01      3.00      2.98      3.02  23665.93      1.00\n",
            "   p_length_mu[68]      3.00      0.01      3.00      2.98      3.02  22004.74      1.00\n",
            "   p_length_mu[69]      3.00      0.01      3.00      2.98      3.02  20216.05      1.00\n",
            "   p_length_mu[70]      3.00      0.01      3.00      2.98      3.02  18071.06      1.00\n",
            "   p_length_mu[71]      3.00      0.01      3.00      2.98      3.02  21663.60      1.00\n",
            "   p_length_mu[72]      3.00      0.01      3.00      2.98      3.02  20197.20      1.00\n",
            "   p_length_mu[73]      3.00      0.01      3.00      2.98      3.02  21579.39      1.00\n",
            "   p_length_mu[74]      3.00      0.01      3.00      2.98      3.02  24308.95      1.00\n",
            "   p_length_mu[75]      3.00      0.01      3.00      2.98      3.02  20038.93      1.00\n",
            "   p_length_mu[76]      3.00      0.01      3.00      2.98      3.02  23756.68      1.00\n",
            "   p_length_mu[77]      3.00      0.01      3.00      2.98      3.02  21042.71      1.00\n",
            "   p_length_mu[78]      3.00      0.01      3.00      2.98      3.02  22066.59      1.00\n",
            "   p_length_mu[79]      3.00      0.01      3.00      2.98      3.02  22253.90      1.00\n",
            "   p_length_mu[80]      3.00      0.01      3.00      2.98      3.02  22837.43      1.00\n",
            "   p_length_mu[81]      3.00      0.01      3.00      2.98      3.02  22615.98      1.00\n",
            "   p_length_mu[82]      3.00      0.01      3.00      2.98      3.02  23783.21      1.00\n",
            "   p_length_mu[83]      3.00      0.01      3.00      2.98      3.02  20096.84      1.00\n",
            "   p_length_mu[84]      3.00      0.01      3.00      2.98      3.02  24179.70      1.00\n",
            "   p_length_mu[85]      3.00      0.01      3.00      2.98      3.02  22357.33      1.00\n",
            "   p_length_mu[86]      3.00      0.01      3.00      2.98      3.02  23444.09      1.00\n",
            "   p_length_mu[87]      3.00      0.01      3.00      2.98      3.02  22919.42      1.00\n",
            "   p_length_mu[88]      3.00      0.01      3.00      2.98      3.02  22735.80      1.00\n",
            "   p_length_mu[89]      3.00      0.01      3.00      2.98      3.02  23058.49      1.00\n",
            "   p_length_mu[90]      3.00      0.01      3.00      2.98      3.02  21491.51      1.00\n",
            "   p_length_mu[91]      3.00      0.01      3.00      2.98      3.02  22852.22      1.00\n",
            "   p_length_mu[92]      3.00      0.01      3.00      2.98      3.02  20581.71      1.00\n",
            "   p_length_mu[93]      3.00      0.01      3.00      2.98      3.02  22906.23      1.00\n",
            "   p_length_mu[94]      3.00      0.01      3.00      2.98      3.02  21063.62      1.00\n",
            "   p_length_mu[95]      3.00      0.01      3.00      2.98      3.02  22362.92      1.00\n",
            "   p_length_mu[96]      3.00      0.01      3.00      2.98      3.02  20202.46      1.00\n",
            "   p_length_mu[97]      3.00      0.01      3.00      2.98      3.02  20414.35      1.00\n",
            "   p_length_mu[98]      3.00      0.01      3.00      2.98      3.02  23594.35      1.00\n",
            "   p_length_mu[99]      3.00      0.01      3.00      2.98      3.02  22468.71      1.00\n",
            " p_length_sigma[0]      1.00      0.01      1.00      0.98      1.02  21114.33      1.00\n",
            " p_length_sigma[1]      1.00      0.01      1.00      0.98      1.02  24784.46      1.00\n",
            " p_length_sigma[2]      1.00      0.01      1.00      0.98      1.02  22673.02      1.00\n",
            " p_length_sigma[3]      1.00      0.01      1.00      0.98      1.02  21556.27      1.00\n",
            " p_length_sigma[4]      1.00      0.01      1.00      0.98      1.02  23555.96      1.00\n",
            " p_length_sigma[5]      1.00      0.01      1.00      0.98      1.02  19760.85      1.00\n",
            " p_length_sigma[6]      1.00      0.01      1.00      0.98      1.02  21015.72      1.00\n",
            " p_length_sigma[7]      1.00      0.01      1.00      0.98      1.02  20149.76      1.00\n",
            " p_length_sigma[8]      1.00      0.01      1.00      0.98      1.02  23546.36      1.00\n",
            " p_length_sigma[9]      1.00      0.01      1.00      0.98      1.02  21287.69      1.00\n",
            "p_length_sigma[10]      1.00      0.01      1.00      0.98      1.02  21531.09      1.00\n",
            "p_length_sigma[11]      1.00      0.01      1.00      0.98      1.02  22022.44      1.00\n",
            "p_length_sigma[12]      1.00      0.01      1.00      0.98      1.02  24339.41      1.00\n",
            "p_length_sigma[13]      1.00      0.01      1.00      0.98      1.02  19154.79      1.00\n",
            "p_length_sigma[14]      1.00      0.01      1.00      0.98      1.02  20482.77      1.00\n",
            "p_length_sigma[15]      1.00      0.01      1.00      0.98      1.02  22716.39      1.00\n",
            "p_length_sigma[16]      1.00      0.01      1.00      0.98      1.02  23416.00      1.00\n",
            "p_length_sigma[17]      1.00      0.01      1.00      0.98      1.02  21812.20      1.00\n",
            "p_length_sigma[18]      1.00      0.01      1.00      0.98      1.02  23107.03      1.00\n",
            "p_length_sigma[19]      1.00      0.01      1.00      0.98      1.02  21203.02      1.00\n",
            "p_length_sigma[20]      1.00      0.01      1.00      0.98      1.02  18928.65      1.00\n",
            "p_length_sigma[21]      1.00      0.01      1.00      0.98      1.02  24970.52      1.00\n",
            "p_length_sigma[22]      1.00      0.01      1.00      0.98      1.02  21477.67      1.00\n",
            "p_length_sigma[23]      1.00      0.01      1.00      0.98      1.02  22397.45      1.00\n",
            "p_length_sigma[24]      1.00      0.01      1.00      0.98      1.02  21975.70      1.00\n",
            "p_length_sigma[25]      1.00      0.01      1.00      0.98      1.02  21627.74      1.00\n",
            "p_length_sigma[26]      1.00      0.01      1.00      0.98      1.02  23273.39      1.00\n",
            "p_length_sigma[27]      1.00      0.01      1.00      0.98      1.02  19043.70      1.00\n",
            "p_length_sigma[28]      1.00      0.01      1.00      0.98      1.02  21524.87      1.00\n",
            "p_length_sigma[29]      1.00      0.01      1.00      0.98      1.02  23733.06      1.00\n",
            "p_length_sigma[30]      1.00      0.01      1.00      0.98      1.02  22241.65      1.00\n",
            "p_length_sigma[31]      1.00      0.01      1.00      0.98      1.02  21090.62      1.00\n",
            "p_length_sigma[32]      1.00      0.01      1.00      0.98      1.02  23402.86      1.00\n",
            "p_length_sigma[33]      1.00      0.01      1.00      0.98      1.02  19685.77      1.00\n",
            "p_length_sigma[34]      1.00      0.01      1.00      0.98      1.02  22629.31      1.00\n",
            "p_length_sigma[35]      1.00      0.01      1.00      0.98      1.02  22977.39      1.00\n",
            "p_length_sigma[36]      1.00      0.01      1.00      0.98      1.02  24247.28      1.00\n",
            "p_length_sigma[37]      1.00      0.01      1.00      0.98      1.02  21506.40      1.00\n",
            "p_length_sigma[38]      1.00      0.01      1.00      0.98      1.02  20015.02      1.00\n",
            "p_length_sigma[39]      1.00      0.01      1.00      0.98      1.02  23348.59      1.00\n",
            "p_length_sigma[40]      1.00      0.01      1.00      0.98      1.02  20518.90      1.00\n",
            "p_length_sigma[41]      1.00      0.01      1.00      0.98      1.02  23185.96      1.00\n",
            "p_length_sigma[42]      1.00      0.01      1.00      0.98      1.02  23135.96      1.00\n",
            "p_length_sigma[43]      1.00      0.01      1.00      0.98      1.02  22080.12      1.00\n",
            "p_length_sigma[44]      1.00      0.01      1.00      0.98      1.02  22810.03      1.00\n",
            "p_length_sigma[45]      1.00      0.01      1.00      0.98      1.02  23501.89      1.00\n",
            "p_length_sigma[46]      1.00      0.01      1.00      0.98      1.02  22616.31      1.00\n",
            "p_length_sigma[47]      1.00      0.01      1.00      0.98      1.02  23662.31      1.00\n",
            "p_length_sigma[48]      1.00      0.01      1.00      0.98      1.02  22851.13      1.00\n",
            "p_length_sigma[49]      1.00      0.01      1.00      0.98      1.02  20990.64      1.00\n",
            "p_length_sigma[50]      1.00      0.01      1.00      0.98      1.02  20419.87      1.00\n",
            "p_length_sigma[51]      1.00      0.01      1.00      0.98      1.02  23033.92      1.00\n",
            "p_length_sigma[52]      1.00      0.01      1.00      0.98      1.02  23072.23      1.00\n",
            "p_length_sigma[53]      1.00      0.01      1.00      0.98      1.02  20750.42      1.00\n",
            "p_length_sigma[54]      1.00      0.01      1.00      0.98      1.02  20457.97      1.00\n",
            "p_length_sigma[55]      1.00      0.01      1.00      0.98      1.02  20911.54      1.00\n",
            "p_length_sigma[56]      1.00      0.01      1.00      0.98      1.02  22873.62      1.00\n",
            "p_length_sigma[57]      1.00      0.01      1.00      0.98      1.02  20723.42      1.00\n",
            "p_length_sigma[58]      1.00      0.01      1.00      0.98      1.02  21633.06      1.00\n",
            "p_length_sigma[59]      1.00      0.01      1.00      0.98      1.02  23755.32      1.00\n",
            "p_length_sigma[60]      1.00      0.01      1.00      0.98      1.02  19137.00      1.00\n",
            "p_length_sigma[61]      1.00      0.01      1.00      0.98      1.02  22761.58      1.00\n",
            "p_length_sigma[62]      1.00      0.01      1.00      0.98      1.02  22110.32      1.00\n",
            "p_length_sigma[63]      1.00      0.01      1.00      0.98      1.02  24011.01      1.00\n",
            "p_length_sigma[64]      1.00      0.01      1.00      0.98      1.02  22388.23      1.00\n",
            "p_length_sigma[65]      1.00      0.01      1.00      0.98      1.02  20875.74      1.00\n",
            "p_length_sigma[66]      1.00      0.01      1.00      0.98      1.02  21295.94      1.00\n",
            "p_length_sigma[67]      1.00      0.01      1.00      0.98      1.02  21521.38      1.00\n",
            "p_length_sigma[68]      1.00      0.01      1.00      0.98      1.02  23283.60      1.00\n",
            "p_length_sigma[69]      1.00      0.01      1.00      0.98      1.02  22732.25      1.00\n",
            "p_length_sigma[70]      1.00      0.01      1.00      0.98      1.02  23453.73      1.00\n",
            "p_length_sigma[71]      1.00      0.01      1.00      0.98      1.02  21842.68      1.00\n",
            "p_length_sigma[72]      1.00      0.01      1.00      0.98      1.02  22626.01      1.00\n",
            "p_length_sigma[73]      1.00      0.01      1.00      0.98      1.02  22254.06      1.00\n",
            "p_length_sigma[74]      1.00      0.01      1.00      0.98      1.02  24124.61      1.00\n",
            "p_length_sigma[75]      1.00      0.01      1.00      0.98      1.02  21626.93      1.00\n",
            "p_length_sigma[76]      1.00      0.01      1.00      0.98      1.02  24654.72      1.00\n",
            "p_length_sigma[77]      1.00      0.01      1.00      0.98      1.02  21160.96      1.00\n",
            "p_length_sigma[78]      1.00      0.01      1.00      0.98      1.02  22888.53      1.00\n",
            "p_length_sigma[79]      1.00      0.01      1.00      0.98      1.02  21537.92      1.00\n",
            "p_length_sigma[80]      1.00      0.01      1.00      0.98      1.02  23464.91      1.00\n",
            "p_length_sigma[81]      1.00      0.01      1.00      0.98      1.02  20628.03      1.00\n",
            "p_length_sigma[82]      1.00      0.01      1.00      0.98      1.02  21921.25      1.00\n",
            "p_length_sigma[83]      1.00      0.01      1.00      0.98      1.02  20544.98      1.00\n",
            "p_length_sigma[84]      1.00      0.01      1.00      0.98      1.02  20770.94      1.00\n",
            "p_length_sigma[85]      1.00      0.01      1.00      0.98      1.02  20923.20      1.00\n",
            "p_length_sigma[86]      1.00      0.01      1.00      0.98      1.02  22370.20      1.00\n",
            "p_length_sigma[87]      1.00      0.01      1.00      0.98      1.02  21567.07      1.00\n",
            "p_length_sigma[88]      1.00      0.01      1.00      0.98      1.02  19798.47      1.00\n",
            "p_length_sigma[89]      1.00      0.01      1.00      0.98      1.02  22945.57      1.00\n",
            "p_length_sigma[90]      1.00      0.01      1.00      0.98      1.02  21259.90      1.00\n",
            "p_length_sigma[91]      1.00      0.01      1.00      0.98      1.02  23232.18      1.00\n",
            "p_length_sigma[92]      1.00      0.01      1.00      0.98      1.02  21699.62      1.00\n",
            "p_length_sigma[93]      1.00      0.01      1.00      0.98      1.02  22899.23      1.00\n",
            "p_length_sigma[94]      1.00      0.01      1.00      0.98      1.02  22555.42      1.00\n",
            "p_length_sigma[95]      1.00      0.01      1.00      0.98      1.02  21491.28      1.00\n",
            "p_length_sigma[96]      1.00      0.01      1.00      0.98      1.02  21964.40      1.00\n",
            "p_length_sigma[97]      1.00      0.01      1.00      0.98      1.02  23501.00      1.00\n",
            "p_length_sigma[98]      1.00      0.01      1.00      0.98      1.02  18749.83      1.00\n",
            "p_length_sigma[99]      1.00      0.01      1.00      0.98      1.02  22585.81      1.00\n",
            "\n",
            "Number of divergences: 0\n"
          ],
          "name": "stdout"
        }
      ]
    },
    {
      "cell_type": "code",
      "metadata": {
        "id": "hbzGoHVYeKbP",
        "colab_type": "code",
        "colab": {}
      },
      "source": [
        "samples = mcmc.get_samples()"
      ],
      "execution_count": 17,
      "outputs": []
    },
    {
      "cell_type": "code",
      "metadata": {
        "id": "7U4IXHMHgERg",
        "colab_type": "code",
        "colab": {
          "base_uri": "https://localhost:8080/",
          "height": 850
        },
        "outputId": "98bb8e8d-b9e5-4a96-8f0e-1e8819db057b"
      },
      "source": [
        "samples"
      ],
      "execution_count": 18,
      "outputs": [
        {
          "output_type": "execute_result",
          "data": {
            "text/plain": [
              "{'b_length': DeviceArray([ 0.26473236,  0.90422314,  0.13349578, ..., -0.23111868,\n",
              "               1.5031857 ,  0.6906538 ], dtype=float32),\n",
              " 'b_p_width': DeviceArray([3.7696998, 1.7589914, 3.7733822, ..., 3.2661796, 2.3625705,\n",
              "              3.5928218], dtype=float32),\n",
              " 'b_s_len': DeviceArray([0.287731  , 1.1125053 , 0.6053869 , ..., 0.7022839 ,\n",
              "              0.31945235, 0.34511983], dtype=float32),\n",
              " 'b_s_width': DeviceArray([-1.8332169, -3.1975117, -2.005806 , ..., -2.3892868,\n",
              "              -1.9523339, -1.9537458], dtype=float32),\n",
              " 'l': DeviceArray([-0.1377089 , -0.6204354 ,  0.14292194, ...,  1.3937875 ,\n",
              "              -2.4155486 , -1.1820538 ], dtype=float32),\n",
              " 'len_impute': DeviceArray([[2.9191716, 3.747481 , 3.4118106, ..., 2.6481175, 3.5958624,\n",
              "               3.9259028],\n",
              "              [3.2438385, 2.1648953, 2.130211 , ..., 3.7324245, 3.3277156,\n",
              "               2.2019832],\n",
              "              [2.2448006, 3.2414007, 3.1760828, ..., 2.125116 , 2.8887365,\n",
              "               4.226811 ],\n",
              "              ...,\n",
              "              [2.9038734, 2.3910294, 1.6524959, ..., 1.5723991, 1.6095052,\n",
              "               3.5776677],\n",
              "              [3.5998561, 3.3829246, 2.3918166, ..., 3.831749 , 4.725681 ,\n",
              "               3.096444 ],\n",
              "              [1.1645652, 2.550006 , 3.1816168, ..., 2.52377  , 3.5957685,\n",
              "               3.4936628]], dtype=float32),\n",
              " 'p_length_mu': DeviceArray([[2.9977489, 2.9920967, 2.9911997, ..., 3.0001328, 2.9975014,\n",
              "               3.0012503],\n",
              "              [3.0019994, 3.0086532, 3.012529 , ..., 3.0011377, 3.0003946,\n",
              "               2.994516 ],\n",
              "              [2.9976552, 2.9896727, 2.9948347, ..., 2.9967191, 2.9996667,\n",
              "               2.998688 ],\n",
              "              ...,\n",
              "              [2.9988327, 2.9900234, 2.9885798, ..., 2.997498 , 3.015186 ,\n",
              "               3.002973 ],\n",
              "              [3.000538 , 3.0011563, 3.019844 , ..., 2.987297 , 2.9798849,\n",
              "               2.9997745],\n",
              "              [3.0075428, 2.997295 , 3.0091546, ..., 2.990778 , 2.9975104,\n",
              "               2.989941 ]], dtype=float32),\n",
              " 'p_length_sigma': DeviceArray([[1.012172  , 0.99061453, 1.0022839 , ..., 1.0147706 ,\n",
              "               0.99333173, 0.99558884],\n",
              "              [0.98634887, 1.0006055 , 1.0013069 , ..., 0.9862663 ,\n",
              "               1.0036204 , 0.99918914],\n",
              "              [1.0013753 , 0.9958068 , 0.9987461 , ..., 1.011795  ,\n",
              "               0.9994194 , 0.9959348 ],\n",
              "              ...,\n",
              "              [0.99594045, 1.0026282 , 0.9965632 , ..., 1.0025947 ,\n",
              "               0.9903324 , 0.99918556],\n",
              "              [1.0024943 , 0.98578084, 1.0002475 , ..., 0.973499  ,\n",
              "               1.0132542 , 1.006199  ],\n",
              "              [1.0019251 , 0.98857546, 1.0033941 , ..., 1.0003626 ,\n",
              "               0.99698776, 1.0090214 ]], dtype=float32)}"
            ]
          },
          "metadata": {
            "tags": []
          },
          "execution_count": 18
        }
      ]
    },
    {
      "cell_type": "code",
      "metadata": {
        "id": "am_pdKNEh1Nw",
        "colab_type": "code",
        "colab": {
          "base_uri": "https://localhost:8080/",
          "height": 404
        },
        "outputId": "f9f178a4-8af0-4170-b26e-2474dfe1fb04"
      },
      "source": [
        "def plot_regression(x, y_mean, y_hpdi):\n",
        "    # Sort values for plotting by x axis\n",
        "    idx = jnp.argsort(x)\n",
        "    petal_length = x[idx]\n",
        "    mean = y_mean[idx]\n",
        "    hpdi = y_hpdi[:, idx]\n",
        "    species = iris_df.target.values[idx]\n",
        "\n",
        "    fig, ax = plt.subplots(nrows=1, ncols=1, figsize=(6, 6))\n",
        "    ax.plot(petal_length, mean, 'k')\n",
        "    ax.plot(petal_length, species, 'ro')\n",
        "    ax.fill_between(petal_length, hpdi[0], hpdi[1], alpha=0.25, color=\"darkred\", interpolate=False)\n",
        "    return ax\n",
        "\n",
        "# Compute empirical posterior distribution over mu\n",
        "posterior_mu = jnp.expand_dims(samples['l'], -1) + \\\n",
        "               jnp.expand_dims(samples['b_length'], -1) * iris_df[\"petal length (cm)\"].values + \\\n",
        "               jnp.expand_dims(samples['b_s_len'], -1)*iris_df[\"sepal length (cm)\"].values + \\\n",
        "               jnp.expand_dims(samples['b_s_width'], -1)*iris_df[\"sepal width (cm)\"].values + \\\n",
        "               jnp.expand_dims(samples['b_p_width'], -1)*iris_df[\"petal width (cm)\"].values\n",
        "\n",
        "mean_mu = jnp.mean(posterior_mu, axis=0)\n",
        "hpdi_mu = hpdi(posterior_mu, 0.95)\n",
        "ax = plot_regression(iris_df[\"petal length (cm)\"].values, mean_mu, hpdi_mu)\n",
        "ax.set(xlabel='Petal Length', ylabel='Species', title='Regression line with 90% CI')\n",
        "ax.set_ylim([-1, 2]);\n",
        "plt.savefig(\"rp_sampled_90CI.png\")"
      ],
      "execution_count": 19,
      "outputs": [
        {
          "output_type": "display_data",
          "data": {
            "image/png": "[encoded data removed]",
            "text/plain": [
              "<Figure size 432x432 with 1 Axes>"
            ]
          },
          "metadata": {
            "tags": [],
            "needs_background": "light"
          }
        }
      ]
    },
    {
      "cell_type": "code",
      "metadata": {
        "id": "LnM5X02wjLHF",
        "colab_type": "code",
        "colab": {}
      },
      "source": [
        ""
      ],
      "execution_count": 16,
      "outputs": []
    }
  ]
}