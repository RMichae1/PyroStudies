{
  "nbformat": 4,
  "nbformat_minor": 0,
  "metadata": {
    "kernelspec": {
      "display_name": "analysis",
      "language": "python",
      "name": "analysis"
    },
    "language_info": {
      "codemirror_mode": {
        "name": "ipython",
        "version": 3
      },
      "file_extension": ".py",
      "mimetype": "text/x-python",
      "name": "python",
      "nbconvert_exporter": "python",
      "pygments_lexer": "ipython3",
      "version": "3.8.3"
    },
    "colab": {
      "name": "Bayesian_Imputation.ipynb",
      "provenance": [],
      "collapsed_sections": [],
      "include_colab_link": true
    }
  },
  "cells": [
    {
      "cell_type": "markdown",
      "metadata": {
        "id": "view-in-github",
        "colab_type": "text"
      },
      "source": [
        "<a href=\"https://colab.research.google.com/github/RMichae1/PyroStudies/blob/master/Bayesian_Imputation.ipynb\" target=\"_parent\"><img src=\"https://colab.research.google.com/assets/colab-badge.svg\" alt=\"Open In Colab\"/></a>"
      ]
    },
    {
      "cell_type": "code",
      "metadata": {
        "id": "bh8T6gGPceF8",
        "colab_type": "code",
        "colab": {}
      },
      "source": [
        "import numpy as np\n",
        "from numpy.random import random as np_random\n",
        "import pandas as pd\n",
        "\n",
        "import seaborn as sns\n",
        "import matplotlib.pyplot as plt\n",
        "\n",
        "from sklearn import datasets\n",
        "\n",
        "import numpyro\n",
        "import numpyro.distributions as dist\n",
        "from numpyro.infer import MCMC, NUTS, Predictive\n",
        "\n",
        "from jax import ops, random\n",
        "from jax.scipy.special import expit\n",
        "import jax.numpy as jnp\n",
        "from numpyro.diagnostics import hpdi"
      ],
      "execution_count": null,
      "outputs": []
    },
    {
      "cell_type": "code",
      "metadata": {
        "id": "RpNlfFoNceGA",
        "colab_type": "code",
        "colab": {}
      },
      "source": [
        "iris_data = datasets.load_iris() "
      ],
      "execution_count": null,
      "outputs": []
    },
    {
      "cell_type": "code",
      "metadata": {
        "id": "Fu4JT6IQceGD",
        "colab_type": "code",
        "colab": {
          "base_uri": "https://localhost:8080/",
          "height": 419
        },
        "outputId": "b130a2fb-c569-4ac2-8e3c-a301cad0ab4b"
      },
      "source": [
        "iris_df = pd.DataFrame(data=np.c_[iris_data['data'], iris_data['target']],\n",
        "                      columns=iris_data['feature_names'] + ['target'])\n",
        "iris_df"
      ],
      "execution_count": null,
      "outputs": [
        {
          "output_type": "execute_result",
          "data": {
            "text/html": [
              "<div>\n",
              "<style scoped>\n",
              "    .dataframe tbody tr th:only-of-type {\n",
              "        vertical-align: middle;\n",
              "    }\n",
              "\n",
              "    .dataframe tbody tr th {\n",
              "        vertical-align: top;\n",
              "    }\n",
              "\n",
              "    .dataframe thead th {\n",
              "        text-align: right;\n",
              "    }\n",
              "</style>\n",
              "<table border=\"1\" class=\"dataframe\">\n",
              "  <thead>\n",
              "    <tr style=\"text-align: right;\">\n",
              "      <th></th>\n",
              "      <th>sepal length (cm)</th>\n",
              "      <th>sepal width (cm)</th>\n",
              "      <th>petal length (cm)</th>\n",
              "      <th>petal width (cm)</th>\n",
              "      <th>target</th>\n",
              "    </tr>\n",
              "  </thead>\n",
              "  <tbody>\n",
              "    <tr>\n",
              "      <th>0</th>\n",
              "      <td>5.1</td>\n",
              "      <td>3.5</td>\n",
              "      <td>1.4</td>\n",
              "      <td>0.2</td>\n",
              "      <td>0.0</td>\n",
              "    </tr>\n",
              "    <tr>\n",
              "      <th>1</th>\n",
              "      <td>4.9</td>\n",
              "      <td>3.0</td>\n",
              "      <td>1.4</td>\n",
              "      <td>0.2</td>\n",
              "      <td>0.0</td>\n",
              "    </tr>\n",
              "    <tr>\n",
              "      <th>2</th>\n",
              "      <td>4.7</td>\n",
              "      <td>3.2</td>\n",
              "      <td>1.3</td>\n",
              "      <td>0.2</td>\n",
              "      <td>0.0</td>\n",
              "    </tr>\n",
              "    <tr>\n",
              "      <th>3</th>\n",
              "      <td>4.6</td>\n",
              "      <td>3.1</td>\n",
              "      <td>1.5</td>\n",
              "      <td>0.2</td>\n",
              "      <td>0.0</td>\n",
              "    </tr>\n",
              "    <tr>\n",
              "      <th>4</th>\n",
              "      <td>5.0</td>\n",
              "      <td>3.6</td>\n",
              "      <td>1.4</td>\n",
              "      <td>0.2</td>\n",
              "      <td>0.0</td>\n",
              "    </tr>\n",
              "    <tr>\n",
              "      <th>...</th>\n",
              "      <td>...</td>\n",
              "      <td>...</td>\n",
              "      <td>...</td>\n",
              "      <td>...</td>\n",
              "      <td>...</td>\n",
              "    </tr>\n",
              "    <tr>\n",
              "      <th>145</th>\n",
              "      <td>6.7</td>\n",
              "      <td>3.0</td>\n",
              "      <td>5.2</td>\n",
              "      <td>2.3</td>\n",
              "      <td>2.0</td>\n",
              "    </tr>\n",
              "    <tr>\n",
              "      <th>146</th>\n",
              "      <td>6.3</td>\n",
              "      <td>2.5</td>\n",
              "      <td>5.0</td>\n",
              "      <td>1.9</td>\n",
              "      <td>2.0</td>\n",
              "    </tr>\n",
              "    <tr>\n",
              "      <th>147</th>\n",
              "      <td>6.5</td>\n",
              "      <td>3.0</td>\n",
              "      <td>5.2</td>\n",
              "      <td>2.0</td>\n",
              "      <td>2.0</td>\n",
              "    </tr>\n",
              "    <tr>\n",
              "      <th>148</th>\n",
              "      <td>6.2</td>\n",
              "      <td>3.4</td>\n",
              "      <td>5.4</td>\n",
              "      <td>2.3</td>\n",
              "      <td>2.0</td>\n",
              "    </tr>\n",
              "    <tr>\n",
              "      <th>149</th>\n",
              "      <td>5.9</td>\n",
              "      <td>3.0</td>\n",
              "      <td>5.1</td>\n",
              "      <td>1.8</td>\n",
              "      <td>2.0</td>\n",
              "    </tr>\n",
              "  </tbody>\n",
              "</table>\n",
              "<p>150 rows × 5 columns</p>\n",
              "</div>"
            ],
            "text/plain": [
              "     sepal length (cm)  sepal width (cm)  ...  petal width (cm)  target\n",
              "0                  5.1               3.5  ...               0.2     0.0\n",
              "1                  4.9               3.0  ...               0.2     0.0\n",
              "2                  4.7               3.2  ...               0.2     0.0\n",
              "3                  4.6               3.1  ...               0.2     0.0\n",
              "4                  5.0               3.6  ...               0.2     0.0\n",
              "..                 ...               ...  ...               ...     ...\n",
              "145                6.7               3.0  ...               2.3     2.0\n",
              "146                6.3               2.5  ...               1.9     2.0\n",
              "147                6.5               3.0  ...               2.0     2.0\n",
              "148                6.2               3.4  ...               2.3     2.0\n",
              "149                5.9               3.0  ...               1.8     2.0\n",
              "\n",
              "[150 rows x 5 columns]"
            ]
          },
          "metadata": {
            "tags": []
          },
          "execution_count": 74
        }
      ]
    },
    {
      "cell_type": "code",
      "metadata": {
        "id": "4mhmigTkceGG",
        "colab_type": "code",
        "colab": {
          "base_uri": "https://localhost:8080/",
          "height": 419
        },
        "outputId": "ff4fba9b-9b4c-41ac-acf3-cb6fb5b7d510"
      },
      "source": [
        "iris_df[\"target\"] = iris_df.target.astype(\"int\")\n",
        "# select 2 species for ease of use\n",
        "iris_df = iris_df[iris_df.target.isin([0, 1])]\n",
        "iris_df"
      ],
      "execution_count": null,
      "outputs": [
        {
          "output_type": "execute_result",
          "data": {
            "text/html": [
              "<div>\n",
              "<style scoped>\n",
              "    .dataframe tbody tr th:only-of-type {\n",
              "        vertical-align: middle;\n",
              "    }\n",
              "\n",
              "    .dataframe tbody tr th {\n",
              "        vertical-align: top;\n",
              "    }\n",
              "\n",
              "    .dataframe thead th {\n",
              "        text-align: right;\n",
              "    }\n",
              "</style>\n",
              "<table border=\"1\" class=\"dataframe\">\n",
              "  <thead>\n",
              "    <tr style=\"text-align: right;\">\n",
              "      <th></th>\n",
              "      <th>sepal length (cm)</th>\n",
              "      <th>sepal width (cm)</th>\n",
              "      <th>petal length (cm)</th>\n",
              "      <th>petal width (cm)</th>\n",
              "      <th>target</th>\n",
              "    </tr>\n",
              "  </thead>\n",
              "  <tbody>\n",
              "    <tr>\n",
              "      <th>0</th>\n",
              "      <td>5.1</td>\n",
              "      <td>3.5</td>\n",
              "      <td>1.4</td>\n",
              "      <td>0.2</td>\n",
              "      <td>0</td>\n",
              "    </tr>\n",
              "    <tr>\n",
              "      <th>1</th>\n",
              "      <td>4.9</td>\n",
              "      <td>3.0</td>\n",
              "      <td>1.4</td>\n",
              "      <td>0.2</td>\n",
              "      <td>0</td>\n",
              "    </tr>\n",
              "    <tr>\n",
              "      <th>2</th>\n",
              "      <td>4.7</td>\n",
              "      <td>3.2</td>\n",
              "      <td>1.3</td>\n",
              "      <td>0.2</td>\n",
              "      <td>0</td>\n",
              "    </tr>\n",
              "    <tr>\n",
              "      <th>3</th>\n",
              "      <td>4.6</td>\n",
              "      <td>3.1</td>\n",
              "      <td>1.5</td>\n",
              "      <td>0.2</td>\n",
              "      <td>0</td>\n",
              "    </tr>\n",
              "    <tr>\n",
              "      <th>4</th>\n",
              "      <td>5.0</td>\n",
              "      <td>3.6</td>\n",
              "      <td>1.4</td>\n",
              "      <td>0.2</td>\n",
              "      <td>0</td>\n",
              "    </tr>\n",
              "    <tr>\n",
              "      <th>...</th>\n",
              "      <td>...</td>\n",
              "      <td>...</td>\n",
              "      <td>...</td>\n",
              "      <td>...</td>\n",
              "      <td>...</td>\n",
              "    </tr>\n",
              "    <tr>\n",
              "      <th>95</th>\n",
              "      <td>5.7</td>\n",
              "      <td>3.0</td>\n",
              "      <td>4.2</td>\n",
              "      <td>1.2</td>\n",
              "      <td>1</td>\n",
              "    </tr>\n",
              "    <tr>\n",
              "      <th>96</th>\n",
              "      <td>5.7</td>\n",
              "      <td>2.9</td>\n",
              "      <td>4.2</td>\n",
              "      <td>1.3</td>\n",
              "      <td>1</td>\n",
              "    </tr>\n",
              "    <tr>\n",
              "      <th>97</th>\n",
              "      <td>6.2</td>\n",
              "      <td>2.9</td>\n",
              "      <td>4.3</td>\n",
              "      <td>1.3</td>\n",
              "      <td>1</td>\n",
              "    </tr>\n",
              "    <tr>\n",
              "      <th>98</th>\n",
              "      <td>5.1</td>\n",
              "      <td>2.5</td>\n",
              "      <td>3.0</td>\n",
              "      <td>1.1</td>\n",
              "      <td>1</td>\n",
              "    </tr>\n",
              "    <tr>\n",
              "      <th>99</th>\n",
              "      <td>5.7</td>\n",
              "      <td>2.8</td>\n",
              "      <td>4.1</td>\n",
              "      <td>1.3</td>\n",
              "      <td>1</td>\n",
              "    </tr>\n",
              "  </tbody>\n",
              "</table>\n",
              "<p>100 rows × 5 columns</p>\n",
              "</div>"
            ],
            "text/plain": [
              "    sepal length (cm)  sepal width (cm)  ...  petal width (cm)  target\n",
              "0                 5.1               3.5  ...               0.2       0\n",
              "1                 4.9               3.0  ...               0.2       0\n",
              "2                 4.7               3.2  ...               0.2       0\n",
              "3                 4.6               3.1  ...               0.2       0\n",
              "4                 5.0               3.6  ...               0.2       0\n",
              "..                ...               ...  ...               ...     ...\n",
              "95                5.7               3.0  ...               1.2       1\n",
              "96                5.7               2.9  ...               1.3       1\n",
              "97                6.2               2.9  ...               1.3       1\n",
              "98                5.1               2.5  ...               1.1       1\n",
              "99                5.7               2.8  ...               1.3       1\n",
              "\n",
              "[100 rows x 5 columns]"
            ]
          },
          "metadata": {
            "tags": []
          },
          "execution_count": 39
        }
      ]
    },
    {
      "cell_type": "code",
      "metadata": {
        "id": "_R6oQTI-ceGJ",
        "colab_type": "code",
        "colab": {
          "base_uri": "https://localhost:8080/",
          "height": 419
        },
        "outputId": "a3949470-22c2-4c59-da50-db9833923bd4"
      },
      "source": [
        "random_vec = np_random(iris_df[\"petal length (cm)\"].shape)<0.5\n",
        "iris_df[\"petal length (cm)\"] = iris_df[\"petal length (cm)\"].where(random_vec, \n",
        "                                                                  other=np.nan)\n",
        "iris_df"
      ],
      "execution_count": null,
      "outputs": [
        {
          "output_type": "execute_result",
          "data": {
            "text/html": [
              "<div>\n",
              "<style scoped>\n",
              "    .dataframe tbody tr th:only-of-type {\n",
              "        vertical-align: middle;\n",
              "    }\n",
              "\n",
              "    .dataframe tbody tr th {\n",
              "        vertical-align: top;\n",
              "    }\n",
              "\n",
              "    .dataframe thead th {\n",
              "        text-align: right;\n",
              "    }\n",
              "</style>\n",
              "<table border=\"1\" class=\"dataframe\">\n",
              "  <thead>\n",
              "    <tr style=\"text-align: right;\">\n",
              "      <th></th>\n",
              "      <th>sepal length (cm)</th>\n",
              "      <th>sepal width (cm)</th>\n",
              "      <th>petal length (cm)</th>\n",
              "      <th>petal width (cm)</th>\n",
              "      <th>target</th>\n",
              "    </tr>\n",
              "  </thead>\n",
              "  <tbody>\n",
              "    <tr>\n",
              "      <th>0</th>\n",
              "      <td>5.1</td>\n",
              "      <td>3.5</td>\n",
              "      <td>1.4</td>\n",
              "      <td>0.2</td>\n",
              "      <td>0</td>\n",
              "    </tr>\n",
              "    <tr>\n",
              "      <th>1</th>\n",
              "      <td>4.9</td>\n",
              "      <td>3.0</td>\n",
              "      <td>NaN</td>\n",
              "      <td>0.2</td>\n",
              "      <td>0</td>\n",
              "    </tr>\n",
              "    <tr>\n",
              "      <th>2</th>\n",
              "      <td>4.7</td>\n",
              "      <td>3.2</td>\n",
              "      <td>NaN</td>\n",
              "      <td>0.2</td>\n",
              "      <td>0</td>\n",
              "    </tr>\n",
              "    <tr>\n",
              "      <th>3</th>\n",
              "      <td>4.6</td>\n",
              "      <td>3.1</td>\n",
              "      <td>NaN</td>\n",
              "      <td>0.2</td>\n",
              "      <td>0</td>\n",
              "    </tr>\n",
              "    <tr>\n",
              "      <th>4</th>\n",
              "      <td>5.0</td>\n",
              "      <td>3.6</td>\n",
              "      <td>NaN</td>\n",
              "      <td>0.2</td>\n",
              "      <td>0</td>\n",
              "    </tr>\n",
              "    <tr>\n",
              "      <th>...</th>\n",
              "      <td>...</td>\n",
              "      <td>...</td>\n",
              "      <td>...</td>\n",
              "      <td>...</td>\n",
              "      <td>...</td>\n",
              "    </tr>\n",
              "    <tr>\n",
              "      <th>95</th>\n",
              "      <td>5.7</td>\n",
              "      <td>3.0</td>\n",
              "      <td>NaN</td>\n",
              "      <td>1.2</td>\n",
              "      <td>1</td>\n",
              "    </tr>\n",
              "    <tr>\n",
              "      <th>96</th>\n",
              "      <td>5.7</td>\n",
              "      <td>2.9</td>\n",
              "      <td>NaN</td>\n",
              "      <td>1.3</td>\n",
              "      <td>1</td>\n",
              "    </tr>\n",
              "    <tr>\n",
              "      <th>97</th>\n",
              "      <td>6.2</td>\n",
              "      <td>2.9</td>\n",
              "      <td>NaN</td>\n",
              "      <td>1.3</td>\n",
              "      <td>1</td>\n",
              "    </tr>\n",
              "    <tr>\n",
              "      <th>98</th>\n",
              "      <td>5.1</td>\n",
              "      <td>2.5</td>\n",
              "      <td>NaN</td>\n",
              "      <td>1.1</td>\n",
              "      <td>1</td>\n",
              "    </tr>\n",
              "    <tr>\n",
              "      <th>99</th>\n",
              "      <td>5.7</td>\n",
              "      <td>2.8</td>\n",
              "      <td>NaN</td>\n",
              "      <td>1.3</td>\n",
              "      <td>1</td>\n",
              "    </tr>\n",
              "  </tbody>\n",
              "</table>\n",
              "<p>100 rows × 5 columns</p>\n",
              "</div>"
            ],
            "text/plain": [
              "    sepal length (cm)  sepal width (cm)  ...  petal width (cm)  target\n",
              "0                 5.1               3.5  ...               0.2       0\n",
              "1                 4.9               3.0  ...               0.2       0\n",
              "2                 4.7               3.2  ...               0.2       0\n",
              "3                 4.6               3.1  ...               0.2       0\n",
              "4                 5.0               3.6  ...               0.2       0\n",
              "..                ...               ...  ...               ...     ...\n",
              "95                5.7               3.0  ...               1.2       1\n",
              "96                5.7               2.9  ...               1.3       1\n",
              "97                6.2               2.9  ...               1.3       1\n",
              "98                5.1               2.5  ...               1.1       1\n",
              "99                5.7               2.8  ...               1.3       1\n",
              "\n",
              "[100 rows x 5 columns]"
            ]
          },
          "metadata": {
            "tags": []
          },
          "execution_count": 40
        }
      ]
    },
    {
      "cell_type": "code",
      "metadata": {
        "id": "Iy3nNQIefRHl",
        "colab_type": "code",
        "colab": {
          "base_uri": "https://localhost:8080/",
          "height": 299
        },
        "outputId": "fe1d063f-2fbc-408d-c3b6-4c1d8b7ea836"
      },
      "source": [
        "sns.regplot(\"sepal length (cm)\", \"sepal width (cm)\", iris_df)"
      ],
      "execution_count": null,
      "outputs": [
        {
          "output_type": "execute_result",
          "data": {
            "text/plain": [
              "<matplotlib.axes._subplots.AxesSubplot at 0x7f7fd318d7f0>"
            ]
          },
          "metadata": {
            "tags": []
          },
          "execution_count": 41
        },
        {
          "output_type": "display_data",
          "data": {
            "image/png": "[encoded data removed]",
            "text/plain": [
              "<Figure size 432x288 with 1 Axes>"
            ]
          },
          "metadata": {
            "tags": [],
            "needs_background": "light"
          }
        }
      ]
    },
    {
      "cell_type": "code",
      "metadata": {
        "id": "rTGI8YtKfhCl",
        "colab_type": "code",
        "colab": {
          "base_uri": "https://localhost:8080/",
          "height": 225
        },
        "outputId": "b7e4e7b3-a6d2-4e6d-a6f5-40ef1399c265"
      },
      "source": [
        "t = sns.FacetGrid(iris_df, col=\"target\")\n",
        "t.map(plt.scatter, \"petal length (cm)\", \"petal width (cm)\", color=\"darkred\")\n",
        "plt.savefig(\"./lr_lw.png\")"
      ],
      "execution_count": null,
      "outputs": [
        {
          "output_type": "display_data",
          "data": {
            "image/png": "[encoded data removed]",
            "text/plain": [
              "<Figure size 432x216 with 2 Axes>"
            ]
          },
          "metadata": {
            "tags": [],
            "needs_background": "light"
          }
        }
      ]
    },
    {
      "cell_type": "code",
      "metadata": {
        "id": "Pdzsabf5gFd4",
        "colab_type": "code",
        "colab": {
          "base_uri": "https://localhost:8080/",
          "height": 295
        },
        "outputId": "919a8649-9c5c-484c-c0b7-07db130dd695"
      },
      "source": [
        "sns.regplot(\"petal length (cm)\", \"target\", color=\"darkred\", data=iris_df)\n",
        "plt.title(\"Lin. Regression petal length v/ category\")\n",
        "plt.savefig(\"./lr_target_p_len.png\")"
      ],
      "execution_count": null,
      "outputs": [
        {
          "output_type": "display_data",
          "data": {
            "image/png": "[encoded data removed]",
            "text/plain": [
              "<Figure size 432x288 with 1 Axes>"
            ]
          },
          "metadata": {
            "tags": [],
            "needs_background": "light"
          }
        }
      ]
    },
    {
      "cell_type": "code",
      "metadata": {
        "id": "BzpUCGtfceGM",
        "colab_type": "code",
        "colab": {
          "base_uri": "https://localhost:8080/",
          "height": 646
        },
        "outputId": "205da63c-79e1-47ac-d010-b01d7f5734dd"
      },
      "source": [
        "iris_data=dict(s_len=iris_df[\"sepal length (cm)\"].values,\n",
        "              s_width=iris_df[\"sepal width (cm)\"].values,\n",
        "              p_len=iris_df[\"petal length (cm)\"].values,\n",
        "              p_width=iris_df[\"petal width (cm)\"].values,\n",
        "              target=iris_df.target.values)\n",
        "iris_data"
      ],
      "execution_count": null,
      "outputs": [
        {
          "output_type": "execute_result",
          "data": {
            "text/plain": [
              "{'p_len': array([1.4, nan, nan, nan, nan, 1.7, 1.4, 1.5, nan, nan, nan, nan, nan,\n",
              "        nan, 1.2, nan, 1.3, 1.4, nan, 1.5, 1.7, 1.5, 1. , 1.7, 1.9, 1.6,\n",
              "        nan, nan, 1.4, 1.6, 1.6, nan, 1.5, 1.4, nan, 1.2, 1.3, 1.4, nan,\n",
              "        nan, 1.3, 1.3, 1.3, 1.6, nan, nan, nan, 1.4, 1.5, 1.4, 4.7, 4.5,\n",
              "        4.9, 4. , nan, nan, nan, nan, 4.6, nan, 3.5, nan, 4. , 4.7, 3.6,\n",
              "        nan, nan, 4.1, nan, 3.9, 4.8, nan, nan, 4.7, 4.3, 4.4, nan, 5. ,\n",
              "        nan, 3.5, nan, nan, 3.9, 5.1, 4.5, 4.5, 4.7, 4.4, nan, nan, nan,\n",
              "        4.6, nan, 3.3, 4.2, nan, nan, nan, nan, nan]),\n",
              " 'p_width': array([0.2, 0.2, 0.2, 0.2, 0.2, 0.4, 0.3, 0.2, 0.2, 0.1, 0.2, 0.2, 0.1,\n",
              "        0.1, 0.2, 0.4, 0.4, 0.3, 0.3, 0.3, 0.2, 0.4, 0.2, 0.5, 0.2, 0.2,\n",
              "        0.4, 0.2, 0.2, 0.2, 0.2, 0.4, 0.1, 0.2, 0.2, 0.2, 0.2, 0.1, 0.2,\n",
              "        0.2, 0.3, 0.3, 0.2, 0.6, 0.4, 0.3, 0.2, 0.2, 0.2, 0.2, 1.4, 1.5,\n",
              "        1.5, 1.3, 1.5, 1.3, 1.6, 1. , 1.3, 1.4, 1. , 1.5, 1. , 1.4, 1.3,\n",
              "        1.4, 1.5, 1. , 1.5, 1.1, 1.8, 1.3, 1.5, 1.2, 1.3, 1.4, 1.4, 1.7,\n",
              "        1.5, 1. , 1.1, 1. , 1.2, 1.6, 1.5, 1.6, 1.5, 1.3, 1.3, 1.3, 1.2,\n",
              "        1.4, 1.2, 1. , 1.3, 1.2, 1.3, 1.3, 1.1, 1.3]),\n",
              " 's_len': array([5.1, 4.9, 4.7, 4.6, 5. , 5.4, 4.6, 5. , 4.4, 4.9, 5.4, 4.8, 4.8,\n",
              "        4.3, 5.8, 5.7, 5.4, 5.1, 5.7, 5.1, 5.4, 5.1, 4.6, 5.1, 4.8, 5. ,\n",
              "        5. , 5.2, 5.2, 4.7, 4.8, 5.4, 5.2, 5.5, 4.9, 5. , 5.5, 4.9, 4.4,\n",
              "        5.1, 5. , 4.5, 4.4, 5. , 5.1, 4.8, 5.1, 4.6, 5.3, 5. , 7. , 6.4,\n",
              "        6.9, 5.5, 6.5, 5.7, 6.3, 4.9, 6.6, 5.2, 5. , 5.9, 6. , 6.1, 5.6,\n",
              "        6.7, 5.6, 5.8, 6.2, 5.6, 5.9, 6.1, 6.3, 6.1, 6.4, 6.6, 6.8, 6.7,\n",
              "        6. , 5.7, 5.5, 5.5, 5.8, 6. , 5.4, 6. , 6.7, 6.3, 5.6, 5.5, 5.5,\n",
              "        6.1, 5.8, 5. , 5.6, 5.7, 5.7, 6.2, 5.1, 5.7]),\n",
              " 's_width': array([3.5, 3. , 3.2, 3.1, 3.6, 3.9, 3.4, 3.4, 2.9, 3.1, 3.7, 3.4, 3. ,\n",
              "        3. , 4. , 4.4, 3.9, 3.5, 3.8, 3.8, 3.4, 3.7, 3.6, 3.3, 3.4, 3. ,\n",
              "        3.4, 3.5, 3.4, 3.2, 3.1, 3.4, 4.1, 4.2, 3.1, 3.2, 3.5, 3.6, 3. ,\n",
              "        3.4, 3.5, 2.3, 3.2, 3.5, 3.8, 3. , 3.8, 3.2, 3.7, 3.3, 3.2, 3.2,\n",
              "        3.1, 2.3, 2.8, 2.8, 3.3, 2.4, 2.9, 2.7, 2. , 3. , 2.2, 2.9, 2.9,\n",
              "        3.1, 3. , 2.7, 2.2, 2.5, 3.2, 2.8, 2.5, 2.8, 2.9, 3. , 2.8, 3. ,\n",
              "        2.9, 2.6, 2.4, 2.4, 2.7, 2.7, 3. , 3.4, 3.1, 2.3, 3. , 2.5, 2.6,\n",
              "        3. , 2.6, 2.3, 2.7, 3. , 2.9, 2.9, 2.5, 2.8]),\n",
              " 'target': array([0, 0, 0, 0, 0, 0, 0, 0, 0, 0, 0, 0, 0, 0, 0, 0, 0, 0, 0, 0, 0, 0,\n",
              "        0, 0, 0, 0, 0, 0, 0, 0, 0, 0, 0, 0, 0, 0, 0, 0, 0, 0, 0, 0, 0, 0,\n",
              "        0, 0, 0, 0, 0, 0, 1, 1, 1, 1, 1, 1, 1, 1, 1, 1, 1, 1, 1, 1, 1, 1,\n",
              "        1, 1, 1, 1, 1, 1, 1, 1, 1, 1, 1, 1, 1, 1, 1, 1, 1, 1, 1, 1, 1, 1,\n",
              "        1, 1, 1, 1, 1, 1, 1, 1, 1, 1, 1, 1])}"
            ]
          },
          "metadata": {
            "tags": []
          },
          "execution_count": 46
        }
      ]
    },
    {
      "cell_type": "code",
      "metadata": {
        "id": "Aj4CdHgiceGP",
        "colab_type": "code",
        "colab": {
          "base_uri": "https://localhost:8080/",
          "height": 51
        },
        "outputId": "96df5b5a-1374-4c28-f327-0fdf49cf13b7"
      },
      "source": [
        "print(\"Petal Length μ = {}\".format(iris_df[\"petal length (cm)\"].mean()))\n",
        "print(\"Petal Length σ^2 = {}\".format(iris_df[\"petal length (cm)\"].std()))"
      ],
      "execution_count": null,
      "outputs": [
        {
          "output_type": "stream",
          "text": [
            "Petal Length μ = 2.8072727272727267\n",
            "Petal Length σ^2 = 1.4923079993698234\n"
          ],
          "name": "stdout"
        }
      ]
    },
    {
      "cell_type": "code",
      "metadata": {
        "id": "vjOi4z0vceGS",
        "colab_type": "code",
        "colab": {
          "base_uri": "https://localhost:8080/",
          "height": 85
        },
        "outputId": "190820b4-8ef0-449a-eccb-92297b435a2b"
      },
      "source": [
        "p_len = iris_df[\"petal length (cm)\"]\n",
        "print(\"Amount missing: {}\".format(len(np.array(np.isnan(p_len).astype(int)).nonzero()[0])))\n",
        "np.array(np.isnan(p_len).astype(int)).nonzero()[0]"
      ],
      "execution_count": null,
      "outputs": [
        {
          "output_type": "stream",
          "text": [
            "Amount missing: 50\n"
          ],
          "name": "stdout"
        },
        {
          "output_type": "execute_result",
          "data": {
            "text/plain": [
              "array([ 3,  4,  7,  8, 14, 17, 22, 24, 25, 28, 31, 32, 35, 37, 39, 40, 42,\n",
              "       45, 49, 50, 51, 52, 53, 54, 55, 56, 57, 58, 60, 61, 63, 64, 66, 67,\n",
              "       68, 70, 72, 75, 76, 80, 81, 82, 84, 85, 87, 88, 91, 93, 95, 99])"
            ]
          },
          "metadata": {
            "tags": []
          },
          "execution_count": 19
        }
      ]
    },
    {
      "cell_type": "code",
      "metadata": {
        "id": "Wby5MIqoceGU",
        "colab_type": "code",
        "colab": {}
      },
      "source": [
        "def model(s_len, s_width, p_len, p_width, target=None):\n",
        "    b_s_len = numpyro.sample(\"b_s_len\", dist.Normal(0,1))\n",
        "    b_s_width = numpyro.sample(\"b_s_width\", dist.Normal(0,1))\n",
        "    b_p_width = numpyro.sample(\"b_p_width\", dist.Normal(0,1))\n",
        "    \n",
        "    # impute length\n",
        "    len_mu = numpyro.sample(\"p_length_mu\", dist.Normal(2.8, 0.2))\n",
        "    len_sigma = numpyro.sample(\"p_length_sigma\", dist.Normal(1.5, 0.2))\n",
        "    len_is_nan = np.isnan(p_len)\n",
        "    len_nan_idx = np.array(np.isnan(p_len).astype(int)).nonzero()[0]\n",
        "    \n",
        "    if target is not None:\n",
        "        len_impute = numpyro.param(\"len_impute\", np.zeros(len_is_nan.sum()))\n",
        "    else:\n",
        "        len_impute = numpyro.sample(\"len_impute\", dist.Normal(len_mu[len_nan_idx], \n",
        "                                                              len_sigma[len_nan_idx]))\n",
        "    p_len = ops.index_update(p_len, len_nan_idx, len_impute)\n",
        "    \n",
        "    numpyro.sample(\"p_length\", dist.Normal(len_mu, len_sigma), obs=p_len)\n",
        "    \n",
        "    l = numpyro.sample(\"l\", dist.Normal(0, 1))\n",
        "    b_len = numpyro.sample(\"b_length\", dist.Normal(0, 1))\n",
        "    logits = l + b_len * p_len\n",
        "    \n",
        "    logits = logits + b_s_len*s_len + b_s_width*s_width + b_p_width*p_width\n",
        "    if target is None:\n",
        "        # prediction case\n",
        "        probs = expit(logits)\n",
        "        numpyro.sample(\"probs\", dist.Delta(probs))\n",
        "\n",
        "    numpyro.sample(\"target\", dist.Bernoulli(logits=logits), obs=target)"
      ],
      "execution_count": null,
      "outputs": []
    },
    {
      "cell_type": "code",
      "metadata": {
        "id": "Ib7WF4nMceGZ",
        "colab_type": "code",
        "colab": {
          "base_uri": "https://localhost:8080/",
          "height": 275
        },
        "outputId": "fdaa42dd-144a-4aa5-d789-00e66c41d623"
      },
      "source": [
        "mcmc = MCMC(NUTS(model=model), 5000, 10000, num_chains=1)\n",
        "mcmc.run(random.PRNGKey(42), **iris_data)\n",
        "\n",
        "mcmc.print_summary()"
      ],
      "execution_count": null,
      "outputs": [
        {
          "output_type": "stream",
          "text": [
            "/usr/local/lib/python3.6/dist-packages/numpyro/infer/hmc.py:415: UserWarning: 'param' sites will be treated as constants during inference. To define an improper variable, please use a 'sample' site with log probability masked out. For example, `sample('x', dist.LogNormal(0, 1).mask(False)` means that `x` has improper distribution over the positive domain.\n",
            "  warnings.warn(\"'param' sites will be treated as constants during inference. To define \"\n",
            "sample: 100%|██████████| 15000/15000 [00:27<00:00, 544.01it/s, 31 steps of size 1.03e-01. acc. prob=0.96]\n"
          ],
          "name": "stderr"
        },
        {
          "output_type": "stream",
          "text": [
            "\n",
            "                      mean       std    median      5.0%     95.0%     n_eff     r_hat\n",
            "        b_length      0.15      0.31      0.14     -0.37      0.62   8255.63      1.00\n",
            "       b_p_width      3.16      0.74      3.14      1.89      4.32   6341.96      1.00\n",
            "         b_s_len      1.02      0.44      1.02      0.30      1.76   4147.86      1.00\n",
            "       b_s_width     -2.51      0.65     -2.50     -3.58     -1.42   4549.90      1.00\n",
            "               l     -0.36      0.96     -0.36     -1.92      1.23   8606.05      1.00\n",
            "     p_length_mu      1.89      0.13      1.89      1.67      2.11   8523.08      1.00\n",
            "  p_length_sigma      1.67      0.10      1.67      1.49      1.83   8173.70      1.00\n",
            "\n",
            "Number of divergences: 0\n"
          ],
          "name": "stdout"
        }
      ]
    },
    {
      "cell_type": "code",
      "metadata": {
        "id": "hbzGoHVYeKbP",
        "colab_type": "code",
        "colab": {}
      },
      "source": [
        "samples = mcmc.get_samples()"
      ],
      "execution_count": null,
      "outputs": []
    },
    {
      "cell_type": "code",
      "metadata": {
        "id": "7U4IXHMHgERg",
        "colab_type": "code",
        "colab": {
          "base_uri": "https://localhost:8080/",
          "height": 255
        },
        "outputId": "5dcdb270-54cb-4c4c-c53f-9d0a4478f8e3"
      },
      "source": [
        "samples"
      ],
      "execution_count": null,
      "outputs": [
        {
          "output_type": "execute_result",
          "data": {
            "text/plain": [
              "{'b_length': DeviceArray([ 0.61443835, -0.13149726,  0.1586218 , ...,  0.22617479,\n",
              "              -0.18041043,  0.23004642], dtype=float32),\n",
              " 'b_p_width': DeviceArray([2.3086004, 2.921801 , 2.3608851, ..., 1.6921166, 3.4737377,\n",
              "              3.2055209], dtype=float32),\n",
              " 'b_s_len': DeviceArray([1.2534572, 1.5330684, 1.068358 , ..., 1.4390019, 1.5570893,\n",
              "              1.8925159], dtype=float32),\n",
              " 'b_s_width': DeviceArray([-3.3704524, -2.7095535, -2.7780566, ..., -2.3638937,\n",
              "              -3.7990289, -4.2991133], dtype=float32),\n",
              " 'l': DeviceArray([ 0.80662984, -2.515109  ,  1.2743905 , ..., -2.4266136 ,\n",
              "               1.38187   ,  0.96063715], dtype=float32),\n",
              " 'p_length_mu': DeviceArray([1.7891338, 2.039834 , 1.9705244, ..., 2.0696154, 1.7796098,\n",
              "              2.0797315], dtype=float32),\n",
              " 'p_length_sigma': DeviceArray([1.6882048, 1.6664714, 1.7581732, ..., 1.7149489, 1.6834022,\n",
              "              1.7027632], dtype=float32)}"
            ]
          },
          "metadata": {
            "tags": []
          },
          "execution_count": 49
        }
      ]
    },
    {
      "cell_type": "code",
      "metadata": {
        "id": "am_pdKNEh1Nw",
        "colab_type": "code",
        "colab": {
          "base_uri": "https://localhost:8080/",
          "height": 404
        },
        "outputId": "60f10442-8713-480b-a7b2-973638666630"
      },
      "source": [
        "def plot_regression(x, y_mean, y_hpdi):\n",
        "    # Sort values for plotting by x axis\n",
        "    idx = jnp.argsort(x)\n",
        "    petal_length = x[idx]\n",
        "    mean = y_mean[idx]\n",
        "    hpdi = y_hpdi[:, idx]\n",
        "    species = iris_df.target.values[idx]\n",
        "\n",
        "    fig, ax = plt.subplots(nrows=1, ncols=1, figsize=(6, 6))\n",
        "    ax.plot(petal_length, mean, 'k')\n",
        "    ax.plot(petal_length, species, 'ro')\n",
        "    ax.fill_between(petal_length, hpdi[0], hpdi[1], alpha=0.25, color=\"darkred\", interpolate=False)\n",
        "    return ax\n",
        "\n",
        "# Compute empirical posterior distribution over mu\n",
        "posterior_mu = jnp.expand_dims(samples['l'], -1) + \\\n",
        "               jnp.expand_dims(samples['b_length'], -1) * iris_df[\"petal length (cm)\"].values + \\\n",
        "               jnp.expand_dims(samples['b_s_len'], -1)*iris_df[\"sepal length (cm)\"].values + \\\n",
        "               jnp.expand_dims(samples['b_s_width'], -1)*iris_df[\"sepal width (cm)\"].values + \\\n",
        "               jnp.expand_dims(samples['b_p_width'], -1)*iris_df[\"petal width (cm)\"].values\n",
        "\n",
        "mean_mu = jnp.mean(posterior_mu, axis=0)\n",
        "hpdi_mu = hpdi(posterior_mu, 0.95)\n",
        "ax = plot_regression(iris_df[\"petal length (cm)\"].values, mean_mu, hpdi_mu)\n",
        "ax.set(xlabel='Petal Length', ylabel='Species', title='Regression line with 90% CI')\n",
        "ax.set_ylim([-1, 2]);\n",
        "plt.savefig(\"rp_sampled_90CI.png\")"
      ],
      "execution_count": null,
      "outputs": [
        {
          "output_type": "display_data",
          "data": {
            "image/png": "[encoded data removed]",
            "text/plain": [
              "<Figure size 432x432 with 1 Axes>"
            ]
          },
          "metadata": {
            "tags": [],
            "needs_background": "light"
          }
        }
      ]
    },
    {
      "cell_type": "code",
      "metadata": {
        "id": "LnM5X02wjLHF",
        "colab_type": "code",
        "colab": {}
      },
      "source": [
        ""
      ],
      "execution_count": null,
      "outputs": []
    }
  ]
}