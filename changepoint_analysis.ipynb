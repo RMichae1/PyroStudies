{
  "nbformat": 4,
  "nbformat_minor": 0,
  "metadata": {
    "kernelspec": {
      "display_name": "analysis",
      "language": "python",
      "name": "analysis"
    },
    "language_info": {
      "codemirror_mode": {
        "name": "ipython",
        "version": 3
      },
      "file_extension": ".py",
      "mimetype": "text/x-python",
      "name": "python",
      "nbconvert_exporter": "python",
      "pygments_lexer": "ipython3",
      "version": "3.8.3"
    },
    "colab": {
      "name": "changepoint_analysis.ipynb",
      "provenance": [],
      "include_colab_link": true
    }
  },
  "cells": [
    {
      "cell_type": "markdown",
      "metadata": {
        "id": "view-in-github",
        "colab_type": "text"
      },
      "source": [
        "<a href=\"https://colab.research.google.com/github/RMichae1/PyroStudies/blob/master/changepoint_analysis.ipynb\" target=\"_parent\"><img src=\"https://colab.research.google.com/assets/colab-badge.svg\" alt=\"Open In Colab\"/></a>"
      ]
    },
    {
      "cell_type": "code",
      "metadata": {
        "id": "uAEemGftUuIo",
        "colab_type": "code",
        "colab": {}
      },
      "source": [
        "import pyro\n",
        "import pyro.distributions as dist\n",
        "from pyro.distributions import constraints\n",
        "from pyro.infer import NUTS, MCMC\n",
        "from pyro.optim import Adam\n",
        "import pandas as pd\n",
        "import torch\n",
        "from tqdm import tqdm\n",
        "import us\n",
        "import seaborn as sns\n",
        "import matplotlib.pyplot as plt \n",
        "import matplotlib.ticker as ticker\n",
        "import numpy as np"
      ],
      "execution_count": null,
      "outputs": []
    },
    {
      "cell_type": "code",
      "metadata": {
        "id": "h6VMskCcUuIs",
        "colab_type": "code",
        "colab": {},
        "outputId": "644ab058-b735-4384-a1b5-3aeafa906a29"
      },
      "source": [
        "# prepared and pivoted dataset\n",
        "suicide_data = pd.read_csv(\"./suicide_deaths_by_age.csv\")\n",
        "suicide_data"
      ],
      "execution_count": null,
      "outputs": [
        {
          "output_type": "execute_result",
          "data": {
            "text/html": [
              "<div>\n",
              "<style scoped>\n",
              "    .dataframe tbody tr th:only-of-type {\n",
              "        vertical-align: middle;\n",
              "    }\n",
              "\n",
              "    .dataframe tbody tr th {\n",
              "        vertical-align: top;\n",
              "    }\n",
              "\n",
              "    .dataframe thead th {\n",
              "        text-align: right;\n",
              "    }\n",
              "</style>\n",
              "<table border=\"1\" class=\"dataframe\">\n",
              "  <thead>\n",
              "    <tr style=\"text-align: right;\">\n",
              "      <th></th>\n",
              "      <th>Year</th>\n",
              "      <th>Age</th>\n",
              "      <th>Suicides</th>\n",
              "    </tr>\n",
              "  </thead>\n",
              "  <tbody>\n",
              "    <tr>\n",
              "      <th>0</th>\n",
              "      <td>1981</td>\n",
              "      <td>10</td>\n",
              "      <td>0</td>\n",
              "    </tr>\n",
              "    <tr>\n",
              "      <th>1</th>\n",
              "      <td>1981</td>\n",
              "      <td>11</td>\n",
              "      <td>0</td>\n",
              "    </tr>\n",
              "    <tr>\n",
              "      <th>2</th>\n",
              "      <td>1981</td>\n",
              "      <td>12</td>\n",
              "      <td>2</td>\n",
              "    </tr>\n",
              "    <tr>\n",
              "      <th>3</th>\n",
              "      <td>1981</td>\n",
              "      <td>13</td>\n",
              "      <td>2</td>\n",
              "    </tr>\n",
              "    <tr>\n",
              "      <th>4</th>\n",
              "      <td>1981</td>\n",
              "      <td>14</td>\n",
              "      <td>1</td>\n",
              "    </tr>\n",
              "    <tr>\n",
              "      <th>...</th>\n",
              "      <td>...</td>\n",
              "      <td>...</td>\n",
              "      <td>...</td>\n",
              "    </tr>\n",
              "    <tr>\n",
              "      <th>2955</th>\n",
              "      <td>2017</td>\n",
              "      <td>85</td>\n",
              "      <td>18</td>\n",
              "    </tr>\n",
              "    <tr>\n",
              "      <th>2956</th>\n",
              "      <td>2017</td>\n",
              "      <td>86</td>\n",
              "      <td>23</td>\n",
              "    </tr>\n",
              "    <tr>\n",
              "      <th>2957</th>\n",
              "      <td>2017</td>\n",
              "      <td>87</td>\n",
              "      <td>14</td>\n",
              "    </tr>\n",
              "    <tr>\n",
              "      <th>2958</th>\n",
              "      <td>2017</td>\n",
              "      <td>88</td>\n",
              "      <td>17</td>\n",
              "    </tr>\n",
              "    <tr>\n",
              "      <th>2959</th>\n",
              "      <td>2017</td>\n",
              "      <td>89</td>\n",
              "      <td>18</td>\n",
              "    </tr>\n",
              "  </tbody>\n",
              "</table>\n",
              "<p>2960 rows × 3 columns</p>\n",
              "</div>"
            ],
            "text/plain": [
              "      Year  Age  Suicides\n",
              "0     1981   10         0\n",
              "1     1981   11         0\n",
              "2     1981   12         2\n",
              "3     1981   13         2\n",
              "4     1981   14         1\n",
              "...    ...  ...       ...\n",
              "2955  2017   85        18\n",
              "2956  2017   86        23\n",
              "2957  2017   87        14\n",
              "2958  2017   88        17\n",
              "2959  2017   89        18\n",
              "\n",
              "[2960 rows x 3 columns]"
            ]
          },
          "metadata": {
            "tags": []
          },
          "execution_count": 3
        }
      ]
    },
    {
      "cell_type": "code",
      "metadata": {
        "id": "HnGnH_lCUuIx",
        "colab_type": "code",
        "colab": {},
        "outputId": "4e659d7e-7f42-4d94-dc39-6b26f3008e33"
      },
      "source": [
        "# lets look at a specific agegroup for the years 1981 to 2017:\n",
        "suicide_millenials_df = suicide_data[suicide_data.Age.isin(range(23,35))].groupby([\"Year\"]).mean().reset_index()\n",
        "suicide_millenials_df[\"Suicides\"] = suicide_millenials_df.Suicides.round()\n",
        "suicide_millenials_df.head()"
      ],
      "execution_count": null,
      "outputs": [
        {
          "output_type": "execute_result",
          "data": {
            "text/html": [
              "<div>\n",
              "<style scoped>\n",
              "    .dataframe tbody tr th:only-of-type {\n",
              "        vertical-align: middle;\n",
              "    }\n",
              "\n",
              "    .dataframe tbody tr th {\n",
              "        vertical-align: top;\n",
              "    }\n",
              "\n",
              "    .dataframe thead th {\n",
              "        text-align: right;\n",
              "    }\n",
              "</style>\n",
              "<table border=\"1\" class=\"dataframe\">\n",
              "  <thead>\n",
              "    <tr style=\"text-align: right;\">\n",
              "      <th></th>\n",
              "      <th>Year</th>\n",
              "      <th>Age</th>\n",
              "      <th>Suicides</th>\n",
              "    </tr>\n",
              "  </thead>\n",
              "  <tbody>\n",
              "    <tr>\n",
              "      <th>0</th>\n",
              "      <td>1981</td>\n",
              "      <td>28.5</td>\n",
              "      <td>85.0</td>\n",
              "    </tr>\n",
              "    <tr>\n",
              "      <th>1</th>\n",
              "      <td>1982</td>\n",
              "      <td>28.5</td>\n",
              "      <td>83.0</td>\n",
              "    </tr>\n",
              "    <tr>\n",
              "      <th>2</th>\n",
              "      <td>1983</td>\n",
              "      <td>28.5</td>\n",
              "      <td>75.0</td>\n",
              "    </tr>\n",
              "    <tr>\n",
              "      <th>3</th>\n",
              "      <td>1984</td>\n",
              "      <td>28.5</td>\n",
              "      <td>78.0</td>\n",
              "    </tr>\n",
              "    <tr>\n",
              "      <th>4</th>\n",
              "      <td>1985</td>\n",
              "      <td>28.5</td>\n",
              "      <td>86.0</td>\n",
              "    </tr>\n",
              "  </tbody>\n",
              "</table>\n",
              "</div>"
            ],
            "text/plain": [
              "   Year   Age  Suicides\n",
              "0  1981  28.5      85.0\n",
              "1  1982  28.5      83.0\n",
              "2  1983  28.5      75.0\n",
              "3  1984  28.5      78.0\n",
              "4  1985  28.5      86.0"
            ]
          },
          "metadata": {
            "tags": []
          },
          "execution_count": 4
        }
      ]
    },
    {
      "cell_type": "code",
      "metadata": {
        "id": "2F58g-ykUuIz",
        "colab_type": "code",
        "colab": {}
      },
      "source": [
        "years = torch.from_numpy(suicide_millenials_df.Year.values)\n",
        "suicides = torch.from_numpy(suicide_millenials_df.Suicides.values)\n",
        "data_len = len(suicide_millenials_df)"
      ],
      "execution_count": null,
      "outputs": []
    },
    {
      "cell_type": "code",
      "metadata": {
        "scrolled": true,
        "id": "xuY0GMojUuI2",
        "colab_type": "code",
        "colab": {},
        "outputId": "3dcabcd9-8662-4de3-fc53-bf48f33b5ab2"
      },
      "source": [
        "plt.bar(years, suicides, label=\"avrg.\")\n",
        "plt.title(\"Avrg. Suicides of Millenials 1981-2017\")\n",
        "plt.xlabel(\"Years\")\n",
        "plt.ylabel(\"avrg. Suicides per 100.000\")\n",
        "plt.legend()\n",
        "plt.savefig(\"./avrg_suicide_data.png\")"
      ],
      "execution_count": null,
      "outputs": [
        {
          "output_type": "display_data",
          "data": {
            "image/png": "[encoded data removed]",
            "text/plain": [
              "<Figure size 432x288 with 1 Axes>"
            ]
          },
          "metadata": {
            "tags": [],
            "needs_background": "light"
          }
        }
      ]
    },
    {
      "cell_type": "code",
      "metadata": {
        "id": "zy9DFA-VUuI6",
        "colab_type": "code",
        "colab": {}
      },
      "source": [
        "def model(years, suicides):\n",
        "    σ = pyro.param('σ', torch.ones(data_len))\n",
        "    # Independent events \n",
        "    T = pyro.sample('change', dist.Uniform(1981, 2017))\n",
        "    grp = (years > T) * 1\n",
        "    with pyro.plate('rate', 2):\n",
        "        μ = pyro.sample('μ', dist.HalfNormal(scale=50))\n",
        "    y_obs = pyro.sample('obs', dist.Normal(μ[grp], σ), obs=suicides)"
      ],
      "execution_count": null,
      "outputs": []
    },
    {
      "cell_type": "code",
      "metadata": {
        "id": "rxWl2FzqUuI9",
        "colab_type": "code",
        "colab": {}
      },
      "source": [
        "SAMPLES = 1000\n",
        "WARMUP = 300"
      ],
      "execution_count": null,
      "outputs": []
    },
    {
      "cell_type": "code",
      "metadata": {
        "id": "wwGhlEPYUuI_",
        "colab_type": "code",
        "colab": {},
        "outputId": "05fb0aab-df77-48bf-f6de-ddadb20e6abe"
      },
      "source": [
        "nuts_kernel = NUTS(model)\n",
        "mcmc = MCMC(nuts_kernel, num_samples=SAMPLES, warmup_steps=WARMUP)\n",
        "mcmc.run(years, suicides)"
      ],
      "execution_count": null,
      "outputs": [
        {
          "output_type": "stream",
          "text": [
            "Sample: 100%|██████████| 1300/1300 [09:54,  2.19it/s, step size=1.98e-03, acc. prob=0.912]\n"
          ],
          "name": "stderr"
        }
      ]
    },
    {
      "cell_type": "code",
      "metadata": {
        "id": "kCJbtlznUuJC",
        "colab_type": "code",
        "colab": {},
        "outputId": "7ac5f6b5-f72e-4a6b-c892-8fac71e335ff"
      },
      "source": [
        "samples = {k: v.detach().cpu().numpy() for k, v in mcmc.get_samples().items()}\n",
        "mcmc.summary()"
      ],
      "execution_count": null,
      "outputs": [
        {
          "output_type": "stream",
          "text": [
            "\n",
            "                mean       std    median      5.0%     95.0%     n_eff     r_hat\n",
            "    change   1995.40      2.10   1995.40   1991.72   1998.24      3.04      1.94\n",
            "      μ[0]     96.21     10.41     97.56     93.81    101.23     20.16      1.08\n",
            "      μ[1]     87.62      2.59     87.90     83.01     90.94      3.03      1.95\n",
            "\n",
            "Number of divergences: 0\n"
          ],
          "name": "stdout"
        }
      ]
    },
    {
      "cell_type": "code",
      "metadata": {
        "id": "LxbadUsAUuJE",
        "colab_type": "code",
        "colab": {},
        "outputId": "094db67c-726e-457e-8ba5-517c9fb5186f"
      },
      "source": [
        "samples['change']"
      ],
      "execution_count": null,
      "outputs": [
        {
          "output_type": "execute_result",
          "data": {
            "text/plain": [
              "array([1991.724 , 1991.7227, 1991.7242, 1991.7258, 1991.7253, 1991.7233,\n",
              "       1991.7217, 1991.722 , 1991.7155, 1991.7194, 1991.7206, 1991.7205,\n",
              "       1991.7277, 1991.7284, 1991.721 , 1991.7167, 1991.8597, 1991.8586,\n",
              "       1991.853 , 1991.8531, 1991.8126, 1991.7311, 1991.7307, 1991.7723,\n",
              "       1991.7723, 1991.2715, 1991.6108, 1991.6099, 1991.9117, 1991.7256,\n",
              "       1991.7258, 1991.7264, 1991.7273, 1991.727 , 1991.7273, 1991.727 ,\n",
              "       1991.7245, 1991.7245, 1991.4622, 1991.2363, 1991.2358, 1991.582 ,\n",
              "       1991.6311, 1991.6311, 1991.6334, 1991.6344, 1991.6344, 1991.6344,\n",
              "       1991.6344, 1991.6339, 1991.6312, 1991.6306, 1991.6294, 1991.4073,\n",
              "       1991.4064, 1991.4064, 1991.3562, 1991.3563, 1991.3553, 1991.3512,\n",
              "       1991.3492, 1991.3502, 1991.9149, 1991.9166, 1991.9452, 1991.9447,\n",
              "       1991.9446, 1991.9194, 1991.833 , 1991.7626, 1991.762 , 1992.0017,\n",
              "       1992.001 , 1992.0006, 1992.    , 1992.0076, 1992.0059, 1992.0211,\n",
              "       1992.0211, 1992.0084, 1992.0021, 1992.0013, 1992.0028, 1992.0005,\n",
              "       1992.0005, 1992.0007, 1992.0009, 1992.0012, 1992.0082, 1992.0087,\n",
              "       1992.0092, 1992.0094, 1992.0076, 1992.007 , 1992.0135, 1992.0134,\n",
              "       1992.0205, 1992.0344, 1992.034 , 1992.0316, 1992.0323, 1992.0144,\n",
              "       1992.0153, 1992.0162, 1992.06  , 1992.06  , 1992.0603, 1992.0597,\n",
              "       1992.0596, 1992.0587, 1992.0944, 1992.0753, 1992.0778, 1992.6987,\n",
              "       1992.3536, 1992.3516, 1992.3396, 1992.6879, 1992.6881, 1992.6627,\n",
              "       1992.6572, 1992.4567, 1992.2804, 1992.2809, 1992.1652, 1992.2278,\n",
              "       1992.6968, 1992.5236, 1992.5288, 1992.5287, 1992.5278, 1992.5276,\n",
              "       1992.5227, 1992.5194, 1992.5197, 1992.1549, 1992.1818, 1992.1794,\n",
              "       1992.1924, 1992.1926, 1992.2002, 1992.199 , 1992.3308, 1992.564 ,\n",
              "       1992.5624, 1992.5635, 1992.5662, 1992.1315, 1992.1332, 1992.134 ,\n",
              "       1992.3115, 1992.3198, 1992.3229, 1993.1322, 1993.6008, 1993.3864,\n",
              "       1993.3865, 1993.1101, 1993.0906, 1993.2509, 1993.4949, 1993.7283,\n",
              "       1993.7281, 1993.7289, 1993.4779, 1993.4731, 1993.4729, 1993.4747,\n",
              "       1993.6564, 1993.2104, 1993.4312, 1993.1434, 1993.1434, 1993.1085,\n",
              "       1993.1068, 1993.1072, 1993.1082, 1993.1003, 1993.1003, 1993.102 ,\n",
              "       1993.1853, 1993.1855, 1993.3129, 1993.2261, 1993.2258, 1993.4471,\n",
              "       1993.4434, 1993.4432, 1993.4375, 1993.4375, 1993.8374, 1993.4901,\n",
              "       1993.2191, 1993.242 , 1993.4238, 1993.4236, 1993.4227, 1993.4225,\n",
              "       1993.4341, 1993.4331, 1993.8964, 1993.8936, 1993.894 , 1993.8943,\n",
              "       1993.9021, 1993.9001, 1993.9044, 1993.9044, 1993.9023, 1993.907 ,\n",
              "       1993.906 , 1993.9061, 1993.9719, 1993.9722, 1993.9736, 1993.975 ,\n",
              "       1993.9884, 1993.9885, 1993.9841, 1993.9648, 1993.8574, 1993.8569,\n",
              "       1993.7299, 1993.7319, 1993.8407, 1993.6797, 1993.0972, 1993.0968,\n",
              "       1993.1252, 1993.1241, 1993.1193, 1993.2448, 1993.246 , 1993.2458,\n",
              "       1993.7637, 1993.9161, 1993.9109, 1993.9227, 1993.9202, 1993.9187,\n",
              "       1993.9176, 1993.916 , 1993.7594, 1993.7632, 1993.7637, 1993.7639,\n",
              "       1993.5962, 1993.5964, 1993.7592, 1993.8507, 1993.8514, 1993.7714,\n",
              "       1993.5934, 1993.3499, 1993.2969, 1993.2955, 1993.2928, 1993.293 ,\n",
              "       1993.2925, 1993.5946, 1993.5942, 1993.5951, 1993.5953, 1993.5953,\n",
              "       1993.3197, 1993.6735, 1993.6738, 1993.7179, 1993.8257, 1993.5916,\n",
              "       1993.5911, 1993.5913, 1993.0743, 1993.074 , 1993.7622, 1993.691 ,\n",
              "       1993.7885, 1993.7874, 1993.7869, 1993.7867, 1993.7714, 1993.7714,\n",
              "       1993.9747, 1994.0012, 1994.0018, 1994.0017, 1994.003 , 1994.0039,\n",
              "       1994.0042, 1994.0052, 1994.0042, 1994.0039, 1994.0043, 1994.02  ,\n",
              "       1994.0195, 1994.0114, 1994.0026, 1994.0042, 1994.0042, 1994.0537,\n",
              "       1994.0533, 1994.0482, 1994.0529, 1994.053 , 1994.0529, 1994.0416,\n",
              "       1994.0415, 1994.0415, 1994.0402, 1994.042 , 1994.0638, 1994.0631,\n",
              "       1994.1902, 1994.2784, 1994.6335, 1994.8445, 1994.8445, 1994.826 ,\n",
              "       1994.8268, 1995.0114, 1995.0109, 1995.0039, 1995.0039, 1995.1484,\n",
              "       1995.1464, 1995.2218, 1995.2211, 1995.2207, 1995.2213, 1995.3738,\n",
              "       1995.4823, 1995.4822, 1995.1978, 1995.1599, 1995.3774, 1995.1794,\n",
              "       1995.0424, 1995.0645, 1995.0613, 1995.1771, 1995.1758, 1995.176 ,\n",
              "       1995.176 , 1995.1741, 1995.4949, 1995.4954, 1995.4954, 1995.4933,\n",
              "       1995.4946, 1995.6256, 1995.3242, 1995.3246, 1995.5773, 1995.5773,\n",
              "       1995.5773, 1995.5789, 1995.5784, 1995.5791, 1995.7374, 1995.6632,\n",
              "       1995.8286, 1995.8282, 1995.8302, 1995.8309, 1995.716 , 1995.4868,\n",
              "       1995.4961, 1995.4963, 1995.3628, 1995.3628, 1995.6149, 1995.6145,\n",
              "       1995.6136, 1995.7694, 1995.77  , 1995.2959, 1995.2957, 1995.2965,\n",
              "       1995.2448, 1995.6046, 1995.3989, 1995.3993, 1995.5665, 1995.7867,\n",
              "       1995.7871, 1995.6626, 1995.7029, 1995.703 , 1995.4952, 1995.4952,\n",
              "       1995.4941, 1995.4922, 1995.4921, 1995.4905, 1995.4899, 1995.4895,\n",
              "       1995.8556, 1995.8557, 1995.8567, 1995.3804, 1995.2032, 1995.1699,\n",
              "       1995.0724, 1995.0901, 1995.1005, 1995.0679, 1995.0708, 1995.0708,\n",
              "       1995.0709, 1995.0992, 1995.0977, 1995.1987, 1995.1355, 1995.1362,\n",
              "       1995.14  , 1995.1047, 1995.1055, 1995.4021, 1995.4019, 1995.4019,\n",
              "       1995.4044, 1995.1498, 1995.267 , 1995.27  , 1995.8136, 1995.3354,\n",
              "       1995.2378, 1995.1421, 1995.1422, 1995.0951, 1995.0906, 1995.2379,\n",
              "       1995.199 , 1995.1974, 1995.4558, 1995.735 , 1995.2543, 1995.1913,\n",
              "       1995.1154, 1995.1154, 1995.3953, 1995.3926, 1995.478 , 1995.8124,\n",
              "       1995.8391, 1995.8386, 1995.8373, 1995.9727, 1995.922 , 1995.9216,\n",
              "       1995.9211, 1995.8901, 1995.89  , 1995.6918, 1995.6958, 1995.6957,\n",
              "       1995.6954, 1995.6969, 1995.6957, 1995.6938, 1995.6927, 1995.8102,\n",
              "       1995.8092, 1995.8102, 1995.677 , 1995.6788, 1995.6815, 1995.5975,\n",
              "       1995.4708, 1995.74  , 1995.7572, 1995.2798, 1995.1653, 1995.4398,\n",
              "       1995.1676, 1995.5244, 1995.5392, 1995.1138, 1995.1138, 1995.2358,\n",
              "       1995.2966, 1995.2971, 1995.6049, 1995.6047, 1995.6047, 1995.57  ,\n",
              "       1995.5703, 1995.574 , 1995.7515, 1995.3788, 1995.3762, 1995.3762,\n",
              "       1995.1982, 1995.2057, 1995.3779, 1995.3772, 1995.4037, 1995.405 ,\n",
              "       1995.4053, 1995.8632, 1995.6456, 1995.6458, 1995.8785, 1995.8792,\n",
              "       1995.9147, 1995.9178, 1995.9169, 1995.8401, 1995.8397, 1995.8391,\n",
              "       1995.8396, 1995.8386, 1995.8397, 1995.8386, 1995.729 , 1995.8542,\n",
              "       1995.8392, 1995.6921, 1995.1873, 1995.0934, 1995.0942, 1995.0597,\n",
              "       1995.024 , 1995.0332, 1995.1173, 1995.2224, 1995.2212, 1995.1809,\n",
              "       1995.1805, 1995.45  , 1995.448 , 1995.4471, 1995.447 , 1995.2272,\n",
              "       1995.2277, 1995.2285, 1995.1674, 1995.1669, 1995.1667, 1995.1692,\n",
              "       1995.1708, 1995.171 , 1995.305 , 1995.3057, 1995.3057, 1995.5502,\n",
              "       1995.3475, 1995.0619, 1995.062 , 1995.0621, 1995.063 , 1995.1445,\n",
              "       1995.146 , 1995.1447, 1995.1455, 1995.3049, 1995.3053, 1995.3044,\n",
              "       1995.1396, 1995.2075, 1995.2075, 1995.2063, 1995.2067, 1995.2108,\n",
              "       1995.2106, 1995.2107, 1995.2096, 1995.21  , 1995.2179, 1995.2238,\n",
              "       1995.1954, 1995.1969, 1995.1975, 1995.2712, 1995.8702, 1995.8508,\n",
              "       1995.8679, 1995.8689, 1995.7621, 1995.7616, 1995.762 , 1995.7622,\n",
              "       1995.3259, 1995.5637, 1995.5659, 1995.5654, 1995.2454, 1995.2427,\n",
              "       1995.2429, 1995.2428, 1995.287 , 1995.6387, 1995.7516, 1995.6653,\n",
              "       1995.6987, 1995.7168, 1995.417 , 1995.4164, 1995.4882, 1995.4883,\n",
              "       1995.4889, 1995.4885, 1995.4889, 1995.2732, 1995.2731, 1995.2749,\n",
              "       1995.5061, 1995.5051, 1995.5044, 1995.6952, 1995.6971, 1995.6971,\n",
              "       1995.7476, 1995.7477, 1995.6188, 1995.374 , 1995.2362, 1995.2355,\n",
              "       1995.0674, 1995.0599, 1995.0387, 1995.0381, 1995.0396, 1995.0846,\n",
              "       1995.0886, 1995.3436, 1995.1198, 1995.1199, 1995.2155, 1995.5938,\n",
              "       1995.5935, 1995.3856, 1995.2322, 1995.2324, 1995.1575, 1995.1582,\n",
              "       1995.1587, 1995.1582, 1995.1592, 1995.1595, 1995.0713, 1995.1028,\n",
              "       1995.1016, 1995.0657, 1995.4209, 1995.3282, 1995.5238, 1995.5874,\n",
              "       1995.5862, 1995.5859, 1995.5842, 1995.0608, 1995.0575, 1995.0571,\n",
              "       1995.1511, 1995.1499, 1995.3297, 1996.0627, 1996.0609, 1996.0623,\n",
              "       1996.06  , 1996.0614, 1996.0977, 1996.042 , 1996.0404, 1996.0714,\n",
              "       1996.1022, 1996.1013, 1996.0974, 1996.0963, 1996.0995, 1996.0651,\n",
              "       1996.2501, 1996.1305, 1996.1766, 1996.1769, 1996.1173, 1996.1179,\n",
              "       1996.117 , 1996.117 , 1996.1188, 1996.1185, 1996.5114, 1996.5106,\n",
              "       1996.5105, 1996.3383, 1996.2045, 1996.2037, 1996.2015, 1996.2021,\n",
              "       1996.2032, 1996.2029, 1997.003 , 1997.003 , 1997.1364, 1997.135 ,\n",
              "       1997.2867, 1997.1976, 1997.1952, 1997.195 , 1997.4733, 1997.473 ,\n",
              "       1997.472 , 1997.4738, 1997.3026, 1997.611 , 1997.6084, 1997.6068,\n",
              "       1997.3877, 1997.2103, 1997.2107, 1997.0878, 1997.0177, 1997.0142,\n",
              "       1997.0094, 1997.0092, 1997.0186, 1997.0994, 1997.0977, 1997.0978,\n",
              "       1997.0498, 1997.0785, 1997.1445, 1997.2595, 1997.4479, 1997.4467,\n",
              "       1997.4471, 1997.4447, 1997.4419, 1997.9521, 1997.9521, 1997.9521,\n",
              "       1997.9438, 1997.9447, 1997.9753, 1997.9631, 1997.9641, 1997.9453,\n",
              "       1997.961 , 1997.9612, 1997.9622, 1997.9604, 1997.9601, 1997.9612,\n",
              "       1997.897 , 1997.6896, 1997.615 , 1997.6151, 1997.2496, 1997.0587,\n",
              "       1997.0507, 1997.0507, 1997.051 , 1997.0508, 1997.048 , 1997.0504,\n",
              "       1997.0502, 1997.0476, 1997.0475, 1997.1025, 1997.014 , 1997.0084,\n",
              "       1997.01  , 1997.0049, 1997.4141, 1997.1908, 1997.1877, 1997.0889,\n",
              "       1997.0883, 1997.1769, 1997.185 , 1997.0961, 1997.0731, 1997.1399,\n",
              "       1997.1394, 1997.0656, 1997.1259, 1997.1262, 1997.0867, 1997.0422,\n",
              "       1997.0765, 1997.1382, 1997.139 , 1997.5269, 1997.6503, 1997.692 ,\n",
              "       1997.8   , 1997.8031, 1997.8038, 1997.8036, 1997.8037, 1997.7314,\n",
              "       1997.7222, 1997.7223, 1997.824 , 1997.8193, 1997.8195, 1997.8209,\n",
              "       1997.6848, 1997.3647, 1997.3651, 1997.6345, 1997.9327, 1997.9231,\n",
              "       1997.9235, 1997.8745, 1997.8759, 1997.8763, 1997.8759, 1997.9055,\n",
              "       1997.8315, 1997.8314, 1997.9348, 1997.9344, 1997.9341, 1997.9255,\n",
              "       1997.8975, 1997.9418, 1997.9412, 1997.9365, 1997.9379, 1997.8816,\n",
              "       1997.894 , 1997.8939, 1997.759 , 1997.7584, 1997.8337, 1997.9003,\n",
              "       1997.9426, 1997.943 , 1997.9442, 1997.9435, 1997.9845, 1998.0022,\n",
              "       1998.001 , 1998.0121, 1998.0083, 1998.0197, 1998.0199, 1998.0223,\n",
              "       1998.0209, 1998.0087, 1998.0118, 1998.0094, 1998.0061, 1998.0067,\n",
              "       1998.0077, 1998.008 , 1998.0082, 1998.0032, 1998.0016, 1998.0065,\n",
              "       1998.0067, 1998.0132, 1998.0164, 1998.0411, 1998.0138, 1998.0103,\n",
              "       1998.003 , 1998.006 , 1998.007 , 1998.0043, 1998.0029, 1998.0033,\n",
              "       1998.0039, 1998.0005, 1998.0056, 1998.0005, 1998.0005, 1998.0033,\n",
              "       1998.0039, 1998.    , 1998.0018, 1998.0024, 1998.0048, 1998.0071,\n",
              "       1998.0071, 1998.0099, 1998.2631, 1998.2587, 1998.2622, 1998.2559,\n",
              "       1998.1263, 1998.158 , 1998.1578, 1998.1587, 1998.1587, 1998.159 ,\n",
              "       1998.4619, 1998.1842, 1998.5963, 1998.3834, 1998.7236, 1998.7225,\n",
              "       1998.7047, 1998.703 , 1998.7018, 1998.7008, 1998.7009, 1998.7013,\n",
              "       1998.7013, 1998.8264, 1998.6823, 1998.6838, 1998.6852, 1998.6836,\n",
              "       1998.6842, 1998.6863, 1998.6887, 1998.69  , 1998.6898, 1998.3956,\n",
              "       1998.4878, 1998.3933, 1998.3932, 1998.4014, 1998.4111, 1998.4158,\n",
              "       1998.5837, 1998.607 , 1998.6074, 1998.6847, 1998.6852, 1998.7705,\n",
              "       1998.6793, 1998.435 , 1998.4427, 1998.4426, 1998.4423, 1998.3324,\n",
              "       1998.3335, 1998.19  , 1998.188 , 1998.188 , 1998.526 , 1998.5232,\n",
              "       1998.66  , 1998.6602, 1998.6599, 1998.6602, 1998.4791, 1998.4773,\n",
              "       1998.1039, 1998.1045, 1998.1045, 1998.1044, 1998.1158, 1998.1156,\n",
              "       1998.2366, 1998.2358, 1998.2366, 1998.2351, 1998.2388, 1998.2393,\n",
              "       1998.239 , 1998.2386, 1998.2388, 1998.19  , 1998.2454, 1998.1646,\n",
              "       1998.164 , 1998.164 , 1998.2288, 1998.2294, 1998.2294, 1998.2266,\n",
              "       1998.2275, 1998.2289, 1998.2297, 1998.2291, 1998.2307, 1998.2322,\n",
              "       1998.2312, 1998.2274, 1998.2273, 1998.2273, 1998.2278, 1998.2278,\n",
              "       1998.2273, 1998.2281, 1998.2427, 1998.2428, 1998.2427, 1998.2933,\n",
              "       1998.3943, 1998.4185, 1998.2314, 1998.2317, 1998.1069, 1998.106 ,\n",
              "       1998.1776, 1998.1027, 1998.1016, 1998.1023, 1998.0579, 1998.0581,\n",
              "       1998.233 , 1998.2328, 1998.3767, 1998.2511], dtype=float32)"
            ]
          },
          "metadata": {
            "tags": []
          },
          "execution_count": 16
        }
      ]
    },
    {
      "cell_type": "code",
      "metadata": {
        "id": "Js7m2C6wUuJH",
        "colab_type": "code",
        "colab": {},
        "outputId": "59c02945-d775-4a1a-a845-53462a68eb0b"
      },
      "source": [
        "plt.hist(samples['change'])\n",
        "plt.title(\"Change over Time\")\n",
        "plt.xlabel(\"Years\")\n",
        "plt.ylabel(\"Count\")\n",
        "plt.savefig(\"./hist_change.png\")"
      ],
      "execution_count": null,
      "outputs": [
        {
          "output_type": "display_data",
          "data": {
            "image/png": "[encoded data removed]",
            "text/plain": [
              "<Figure size 432x288 with 1 Axes>"
            ]
          },
          "metadata": {
            "tags": [],
            "needs_background": "light"
          }
        }
      ]
    },
    {
      "cell_type": "code",
      "metadata": {
        "id": "F6MCVlyWUuJJ",
        "colab_type": "code",
        "colab": {}
      },
      "source": [
        "df = pd.DataFrame() \n",
        "df['change'] = samples['change']\n",
        "df['rate0'] = samples['μ'][..., 0]\n",
        "df['rate1'] = samples['μ'][..., 1]"
      ],
      "execution_count": null,
      "outputs": []
    },
    {
      "cell_type": "code",
      "metadata": {
        "id": "91GENds7UuJL",
        "colab_type": "code",
        "colab": {},
        "outputId": "e0a0355b-8227-4b9c-85ac-58161ec0828d"
      },
      "source": [
        "plt.bar(years, suicides, label='avrg.')\n",
        "plt.xlabel('Year')\n",
        "plt.ylabel('Suicides')\n",
        "plt.title('Inferred Changepoint over Time')\n",
        "\n",
        "def pl(pt):\n",
        "    grp = (years > pt['change']) * 1\n",
        "    line = plt.plot(years, pt['rate0'] * (1 - grp) + pt['rate1'] * grp, \n",
        "      color='red', alpha=0.005)    \n",
        "\n",
        "    \n",
        "df.apply(pl, axis=1)\n",
        "plt.savefig(\"./changepoint_rate_suicides.png\")\n",
        "plt.show()"
      ],
      "execution_count": null,
      "outputs": [
        {
          "output_type": "display_data",
          "data": {
            "image/png": "[encoded data removed]",
            "text/plain": [
              "<Figure size 432x288 with 1 Axes>"
            ]
          },
          "metadata": {
            "tags": [],
            "needs_background": "light"
          }
        }
      ]
    },
    {
      "cell_type": "code",
      "metadata": {
        "id": "_1rlxwD1UuJO",
        "colab_type": "code",
        "colab": {}
      },
      "source": [
        ""
      ],
      "execution_count": null,
      "outputs": []
    }
  ]
}