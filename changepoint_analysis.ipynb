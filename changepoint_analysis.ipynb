{
  "nbformat": 4,
  "nbformat_minor": 0,
  "metadata": {
    "kernelspec": {
      "display_name": "analysis",
      "language": "python",
      "name": "analysis"
    },
    "language_info": {
      "codemirror_mode": {
        "name": "ipython",
        "version": 3
      },
      "file_extension": ".py",
      "mimetype": "text/x-python",
      "name": "python",
      "nbconvert_exporter": "python",
      "pygments_lexer": "ipython3",
      "version": "3.8.3"
    },
    "colab": {
      "name": "changepoint_analysis.ipynb",
      "provenance": [],
      "include_colab_link": true
    }
  },
  "cells": [
    {
      "cell_type": "markdown",
      "metadata": {
        "id": "view-in-github",
        "colab_type": "text"
      },
      "source": [
        "<a href=\"https://colab.research.google.com/github/RMichae1/PyroStudies/blob/master/changepoint_analysis.ipynb\" target=\"_parent\"><img src=\"https://colab.research.google.com/assets/colab-badge.svg\" alt=\"Open In Colab\"/></a>"
      ]
    },
    {
      "cell_type": "code",
      "metadata": {
        "id": "oXjuvdGrAiYB",
        "colab_type": "code",
        "colab": {}
      },
      "source": [
        "import pyro\n",
        "import pyro.distributions as dist\n",
        "from pyro.distributions import constraints\n",
        "from pyro.infer import NUTS, MCMC\n",
        "from pyro.optim import Adam\n",
        "import pandas as pd\n",
        "import torch\n",
        "from tqdm import tqdm\n",
        "import us\n",
        "import seaborn as sns\n",
        "import matplotlib.pyplot as plt \n",
        "import matplotlib.ticker as ticker\n",
        "import numpy as np"
      ],
      "execution_count": null,
      "outputs": []
    },
    {
      "cell_type": "code",
      "metadata": {
        "id": "pxOokRNeAiYE",
        "colab_type": "code",
        "colab": {},
        "outputId": "396fe2c8-fa71-466d-ae55-e6de28aa0661"
      },
      "source": [
        "suicide_data = pd.read_csv(\"./suicide_deaths_by_age.csv\")\n",
        "suicide_data"
      ],
      "execution_count": null,
      "outputs": [
        {
          "output_type": "execute_result",
          "data": {
            "text/html": [
              "<div>\n",
              "<style scoped>\n",
              "    .dataframe tbody tr th:only-of-type {\n",
              "        vertical-align: middle;\n",
              "    }\n",
              "\n",
              "    .dataframe tbody tr th {\n",
              "        vertical-align: top;\n",
              "    }\n",
              "\n",
              "    .dataframe thead th {\n",
              "        text-align: right;\n",
              "    }\n",
              "</style>\n",
              "<table border=\"1\" class=\"dataframe\">\n",
              "  <thead>\n",
              "    <tr style=\"text-align: right;\">\n",
              "      <th></th>\n",
              "      <th>Year</th>\n",
              "      <th>Age</th>\n",
              "      <th>Suicides</th>\n",
              "    </tr>\n",
              "  </thead>\n",
              "  <tbody>\n",
              "    <tr>\n",
              "      <th>0</th>\n",
              "      <td>1981</td>\n",
              "      <td>10</td>\n",
              "      <td>0</td>\n",
              "    </tr>\n",
              "    <tr>\n",
              "      <th>1</th>\n",
              "      <td>1981</td>\n",
              "      <td>11</td>\n",
              "      <td>0</td>\n",
              "    </tr>\n",
              "    <tr>\n",
              "      <th>2</th>\n",
              "      <td>1981</td>\n",
              "      <td>12</td>\n",
              "      <td>2</td>\n",
              "    </tr>\n",
              "    <tr>\n",
              "      <th>3</th>\n",
              "      <td>1981</td>\n",
              "      <td>13</td>\n",
              "      <td>2</td>\n",
              "    </tr>\n",
              "    <tr>\n",
              "      <th>4</th>\n",
              "      <td>1981</td>\n",
              "      <td>14</td>\n",
              "      <td>1</td>\n",
              "    </tr>\n",
              "    <tr>\n",
              "      <th>...</th>\n",
              "      <td>...</td>\n",
              "      <td>...</td>\n",
              "      <td>...</td>\n",
              "    </tr>\n",
              "    <tr>\n",
              "      <th>2955</th>\n",
              "      <td>2017</td>\n",
              "      <td>85</td>\n",
              "      <td>18</td>\n",
              "    </tr>\n",
              "    <tr>\n",
              "      <th>2956</th>\n",
              "      <td>2017</td>\n",
              "      <td>86</td>\n",
              "      <td>23</td>\n",
              "    </tr>\n",
              "    <tr>\n",
              "      <th>2957</th>\n",
              "      <td>2017</td>\n",
              "      <td>87</td>\n",
              "      <td>14</td>\n",
              "    </tr>\n",
              "    <tr>\n",
              "      <th>2958</th>\n",
              "      <td>2017</td>\n",
              "      <td>88</td>\n",
              "      <td>17</td>\n",
              "    </tr>\n",
              "    <tr>\n",
              "      <th>2959</th>\n",
              "      <td>2017</td>\n",
              "      <td>89</td>\n",
              "      <td>18</td>\n",
              "    </tr>\n",
              "  </tbody>\n",
              "</table>\n",
              "<p>2960 rows × 3 columns</p>\n",
              "</div>"
            ],
            "text/plain": [
              "      Year  Age  Suicides\n",
              "0     1981   10         0\n",
              "1     1981   11         0\n",
              "2     1981   12         2\n",
              "3     1981   13         2\n",
              "4     1981   14         1\n",
              "...    ...  ...       ...\n",
              "2955  2017   85        18\n",
              "2956  2017   86        23\n",
              "2957  2017   87        14\n",
              "2958  2017   88        17\n",
              "2959  2017   89        18\n",
              "\n",
              "[2960 rows x 3 columns]"
            ]
          },
          "metadata": {
            "tags": []
          },
          "execution_count": 2
        }
      ]
    },
    {
      "cell_type": "code",
      "metadata": {
        "id": "aQFhcK4uAiYI",
        "colab_type": "code",
        "colab": {},
        "outputId": "9d46b85a-d820-4c4e-bbc5-9d6ab8ec6d22"
      },
      "source": [
        "# lets look at a specific agegroup for the years 1981 to 2017:\n",
        "suicide_millenials_df = suicide_data[suicide_data.Age.isin(range(23,35))].groupby([\"Year\"]).mean().reset_index()\n",
        "suicide_millenials_df[\"Suicides\"] = suicide_millenials_df.Suicides.round()\n",
        "suicide_millenials_df.head()"
      ],
      "execution_count": null,
      "outputs": [
        {
          "output_type": "execute_result",
          "data": {
            "text/html": [
              "<div>\n",
              "<style scoped>\n",
              "    .dataframe tbody tr th:only-of-type {\n",
              "        vertical-align: middle;\n",
              "    }\n",
              "\n",
              "    .dataframe tbody tr th {\n",
              "        vertical-align: top;\n",
              "    }\n",
              "\n",
              "    .dataframe thead th {\n",
              "        text-align: right;\n",
              "    }\n",
              "</style>\n",
              "<table border=\"1\" class=\"dataframe\">\n",
              "  <thead>\n",
              "    <tr style=\"text-align: right;\">\n",
              "      <th></th>\n",
              "      <th>Year</th>\n",
              "      <th>Age</th>\n",
              "      <th>Suicides</th>\n",
              "    </tr>\n",
              "  </thead>\n",
              "  <tbody>\n",
              "    <tr>\n",
              "      <th>0</th>\n",
              "      <td>1981</td>\n",
              "      <td>28.5</td>\n",
              "      <td>85.0</td>\n",
              "    </tr>\n",
              "    <tr>\n",
              "      <th>1</th>\n",
              "      <td>1982</td>\n",
              "      <td>28.5</td>\n",
              "      <td>83.0</td>\n",
              "    </tr>\n",
              "    <tr>\n",
              "      <th>2</th>\n",
              "      <td>1983</td>\n",
              "      <td>28.5</td>\n",
              "      <td>75.0</td>\n",
              "    </tr>\n",
              "    <tr>\n",
              "      <th>3</th>\n",
              "      <td>1984</td>\n",
              "      <td>28.5</td>\n",
              "      <td>78.0</td>\n",
              "    </tr>\n",
              "    <tr>\n",
              "      <th>4</th>\n",
              "      <td>1985</td>\n",
              "      <td>28.5</td>\n",
              "      <td>86.0</td>\n",
              "    </tr>\n",
              "  </tbody>\n",
              "</table>\n",
              "</div>"
            ],
            "text/plain": [
              "   Year   Age  Suicides\n",
              "0  1981  28.5      85.0\n",
              "1  1982  28.5      83.0\n",
              "2  1983  28.5      75.0\n",
              "3  1984  28.5      78.0\n",
              "4  1985  28.5      86.0"
            ]
          },
          "metadata": {
            "tags": []
          },
          "execution_count": 20
        }
      ]
    },
    {
      "cell_type": "code",
      "metadata": {
        "id": "QNTUUEW4AiYL",
        "colab_type": "code",
        "colab": {}
      },
      "source": [
        "years = torch.from_numpy(suicide_millenials_df.Year.values)\n",
        "suicides = torch.from_numpy(suicide_millenials_df.Suicides.values)\n",
        "data_len = len(suicide_millenials_df)"
      ],
      "execution_count": null,
      "outputs": []
    },
    {
      "cell_type": "code",
      "metadata": {
        "id": "I1QnsfXTAiYN",
        "colab_type": "code",
        "colab": {},
        "outputId": "46b191f9-3d43-4743-c400-d835ed221eeb"
      },
      "source": [
        "plt.bar(years, suicides, label=\"avrg.\")\n",
        "plt.title(\"Avrg. Suicides of Millenials 1981-2017\")\n",
        "plt.xlabel(\"Years\")\n",
        "plt.ylabel(\"avrg. Suicides\")\n",
        "plt.legend()\n",
        "plt.savefig(\"./avrg_suicide_data.png\")"
      ],
      "execution_count": null,
      "outputs": [
        {
          "output_type": "display_data",
          "data": {
            "image/png": "[encoded data removed]",
            "text/plain": [
              "<Figure size 432x288 with 1 Axes>"
            ]
          },
          "metadata": {
            "tags": [],
            "needs_background": "light"
          }
        }
      ]
    },
    {
      "cell_type": "code",
      "metadata": {
        "id": "N0EIiAZCAiYQ",
        "colab_type": "code",
        "colab": {}
      },
      "source": [
        "def model(years, suicides):\n",
        "    σ = pyro.param('σ', torch.ones(data_len))\n",
        "    # Independent events \n",
        "    T = pyro.sample('change', dist.Uniform(1981, 2017))\n",
        "    grp = (years > T) * 1\n",
        "    with pyro.plate('rate', 2):\n",
        "        μ = pyro.sample('μ', dist.HalfNormal(scale=50))\n",
        "    y_obs = pyro.sample('obs', dist.Normal(μ[grp], σ), obs=suicides)"
      ],
      "execution_count": null,
      "outputs": []
    },
    {
      "cell_type": "code",
      "metadata": {
        "id": "QZUwdZz3AiYS",
        "colab_type": "code",
        "colab": {}
      },
      "source": [
        "SAMPLES = 2000\n",
        "WARMUP = 300"
      ],
      "execution_count": null,
      "outputs": []
    },
    {
      "cell_type": "code",
      "metadata": {
        "id": "0qLwN2MnAiYW",
        "colab_type": "code",
        "colab": {},
        "outputId": "ea56fa66-92cc-4c72-91b9-69d7a08b00ce"
      },
      "source": [
        "nuts_kernel = NUTS(model)\n",
        "mcmc = MCMC(nuts_kernel, num_samples=SAMPLES, warmup_steps=WARMUP)\n",
        "mcmc.run(years, suicides)"
      ],
      "execution_count": null,
      "outputs": [
        {
          "output_type": "stream",
          "text": [
            "Sample: 100%|██████████| 2300/2300 [53:19,  1.39s/it, step size=2.42e-03, acc. prob=0.982]\n"
          ],
          "name": "stderr"
        }
      ]
    },
    {
      "cell_type": "code",
      "metadata": {
        "id": "J494DXsPAiYZ",
        "colab_type": "code",
        "colab": {},
        "outputId": "98da5a95-9677-417f-d07b-aa6045f67e2c"
      },
      "source": [
        "samples = {k: v.detach().cpu().numpy() for k, v in mcmc.get_samples().items()}\n",
        "mcmc.summary()"
      ],
      "execution_count": null,
      "outputs": [
        {
          "output_type": "stream",
          "text": [
            "\n",
            "                mean       std    median      5.0%     95.0%     n_eff     r_hat\n",
            "    change   1986.89      0.78   1986.59   1986.01   1988.13      4.79      1.26\n",
            "      μ[0]     82.92      1.21     82.50     81.70     85.66      5.45      1.26\n",
            "      μ[1]     93.64      0.19     93.64     93.34     93.94    206.19      1.01\n",
            "\n",
            "Number of divergences: 0\n"
          ],
          "name": "stdout"
        }
      ]
    },
    {
      "cell_type": "code",
      "metadata": {
        "id": "NkeKY31FAiYb",
        "colab_type": "code",
        "colab": {}
      },
      "source": [
        "df = pd.DataFrame() \n",
        "df['change'] = samples['change']\n",
        "df['rate0'] = samples['μ'][..., 0]\n",
        "df['rate1'] = samples['μ'][..., 1]"
      ],
      "execution_count": null,
      "outputs": []
    },
    {
      "cell_type": "code",
      "metadata": {
        "id": "Dz7jf9fGAiYd",
        "colab_type": "code",
        "colab": {},
        "outputId": "b8a52bd1-9030-463d-ff0e-d2ee4f904de9"
      },
      "source": [
        "plt.bar(years, suicides, label='avrg.')\n",
        "plt.xlabel('Year')\n",
        "plt.ylabel('Suicides')\n",
        "plt.title('Inferred Changepoint over Time')\n",
        "\n",
        "def pl(pt):\n",
        "    grp = (years > pt['change']) * 1\n",
        "    line = plt.plot(years, pt['rate0'] * (1 - grp) + pt['rate1'] * grp, \n",
        "      color='red', alpha=0.005)    \n",
        "\n",
        "    \n",
        "df.apply(pl, axis=1)\n",
        "plt.savefig(\"./changepoint_rate_suicides.png\")\n",
        "plt.show()"
      ],
      "execution_count": null,
      "outputs": [
        {
          "output_type": "display_data",
          "data": {
            "image/png": "[encoded data removed]",
            "text/plain": [
              "<Figure size 432x288 with 1 Axes>"
            ]
          },
          "metadata": {
            "tags": [],
            "needs_background": "light"
          }
        }
      ]
    },
    {
      "cell_type": "code",
      "metadata": {
        "id": "Xh2_5Tn2AiYg",
        "colab_type": "code",
        "colab": {}
      },
      "source": [
        ""
      ],
      "execution_count": null,
      "outputs": []
    }
  ]
}